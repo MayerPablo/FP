{
 "cells": [
  {
   "cell_type": "markdown",
   "metadata": {},
   "source": [
    "# Imports"
   ]
  },
  {
   "cell_type": "code",
   "execution_count": 1,
   "metadata": {},
   "outputs": [],
   "source": [
    "import numpy as np\n",
    "import sympy as sp\n",
    "from sympy import *\n",
    "import re\n",
    "\n",
    "import pandas as pd\n",
    "\n",
    "import matplotlib.pyplot as plt\n",
    "import matplotlib.colors as c\n",
    "from matplotlib.ticker import PercentFormatter\n",
    "from matplotlib import rcParams\n",
    "\n",
    "from math import log10, floor\n",
    "from math import *\n",
    "import math\n",
    "\n",
    "from IPython.display import display, Latex\n",
    "from IPython.display import Markdown as md\n",
    "\n",
    "import scipy.constants as pc\n",
    "from scipy.optimize import curve_fit\n",
    "from scipy.optimize import minimize\n",
    "from scipy import stats"
   ]
  },
  {
   "cell_type": "markdown",
   "metadata": {},
   "source": [
    "# Matplotlib Parameters"
   ]
  },
  {
   "cell_type": "code",
   "execution_count": 2,
   "metadata": {},
   "outputs": [],
   "source": [
    "rcParams['font.size'] = 15\n",
    "rcParams['font.weight'] = 'bold'\n",
    "rcParams['text.usetex'] = True\n",
    "rcParams['axes.grid'] = True\n",
    "rcParams['font.family'] = 'serif'\n",
    "rcParams['font.sans-serif'] = ['Latin Modern Math']\n",
    "rcParams['xtick.labelsize'] = 18\n",
    "rcParams['ytick.labelsize'] = 18\n",
    "rcParams[\"xtick.minor.size\"] =  4\n",
    "rcParams[\"ytick.minor.size\"] =  4\n",
    "rcParams[\"xtick.minor.visible\"] =  True\n",
    "rcParams[\"ytick.minor.visible\"] =  True"
   ]
  },
  {
   "cell_type": "markdown",
   "metadata": {},
   "source": [
    "# Selfcoded functions"
   ]
  },
  {
   "cell_type": "code",
   "execution_count": 3,
   "metadata": {
    "jupyter": {
     "source_hidden": true
    },
    "tags": []
   },
   "outputs": [],
   "source": [
    "# Funktionen\n",
    "def am(werte):\n",
    "    return np.mean(werte)\n",
    "\n",
    "def std(werte):\n",
    "    summen_der_quadrate = 0\n",
    "    for wert in werte:\n",
    "        summen_der_quadrate+=(wert-am(werte))**2       \n",
    "    return np.sqrt(summen_der_quadrate/(werte.size-1))\n",
    "\n",
    "def stu(werte):\n",
    "    return std(werte)/np.sqrt(werte.size)\n",
    "\n",
    "def fehler(f, werte, unsicherheiten, variablen):\n",
    "    zMax = 0\n",
    "    for i in range(werte.size):\n",
    "        dif = np.abs(sy.diff(f, variablen[i]))\n",
    "        zMax += (dif * unsicherheiten[i])**2\n",
    "    zMax = sqrt(zMax)\n",
    "    for j in range(werte.size):\n",
    "        zMax = sub(zMax, variablen[j], werte[j])\n",
    "    return zMax\n",
    "\n",
    "def sub(zMax, variable, wert):\n",
    "    return zMax.subs([(variable, wert)])\n",
    "\n",
    "def einfachGaussAdd(unsicherheiten, koeffizienten):\n",
    "    dz = 0\n",
    "    for i in range (unsicherheiten.size):\n",
    "        dz += (koeffizienten[i]*unsicherheiten[i])**2\n",
    "    return sqrt(dz)\n",
    "\n",
    "def einfachGaussMult(unsicherheiten, werte, exponenten):\n",
    "    dz = 0\n",
    "    for i in range (unsicherheiten.size):\n",
    "        dz += (exponenten[i]*unsicherheiten[i]/werte[i])**2\n",
    "    return sqrt(dz)\n",
    "\n",
    "def einfachGaussMultMax(unsicherheiten, werte, exponenten):\n",
    "    max_a = 0\n",
    "    num = -1\n",
    "    for i in range (unsicherheiten.size):\n",
    "        maxi = (exponenten[i]*unsicherheiten[i]/werte[i])**2\n",
    "        if max_a <= maxi:\n",
    "            max_a = maxi\n",
    "            num = i\n",
    "    return (max_a, num)\n",
    "\n",
    "# Formula for Gaussian error propagation with result\n",
    "def DivisionMitFehler(A, deltaA, B, deltaB): # for C=A/B\n",
    "    C = A/B\n",
    "    deltaC = abs(C) * math.sqrt((deltaA / A)**2 + (deltaB / B)**2)\n",
    "    return C,deltaC\n",
    "\n",
    "def MultiplikationMitFehler(A, deltaA, B, deltaB): #for C=A*B\n",
    "    C = A * B\n",
    "    deltaC = abs(C) * ((deltaA / abs(A)) + (deltaB / abs(B)))\n",
    "    return C, deltaC\n",
    "\n",
    "# t-value for without literature value\n",
    "def vertraeglichkeit(am_1, am_2, stu_1, stu_2):\n",
    "    return (np.abs(am_1-am_2)/(sqrt((stu_1**2)+(stu_2**2))))\n",
    "\n",
    "# analytic linear regression y(x)=m*x + b calculates m\n",
    "def bestM(x, y):\n",
    "    return (x.size*sum(x*y)-sum(x)*sum(y))/(x.size*sum(x**2)-sum(x)**2)\n",
    "\n",
    "# analytic linear regression y(x)=m*x + b calculates b\n",
    "def bestB(x, y):\n",
    "    return (sum(x**2)*sum(y)-sum(x)*sum(x*y))/(x.size*sum(x**2)-sum(x)**2)\n",
    "\n",
    "# analytic linear regression calculates variance \n",
    "# (only used for next two functions, never gets called on its own, enhances readability) \n",
    "def streuung(x, y):\n",
    "    s = 0\n",
    "    for i in range(x.size):\n",
    "        s += (y[i]-(bestB(x, y)+bestM(x, y)*x[i]))**2\n",
    "    return np.sqrt(s/(x.size-2))\n",
    "\n",
    "# analytic linear regression y(x)=m*x + b calculates error on m\n",
    "def stuM(x, y):\n",
    "    s = streuung(x, y)\n",
    "    return s*np.sqrt(x.size/((x.size*sum(x**2)-sum(x)**2)))\n",
    "\n",
    "# analytic linear regression y(x)=m*x + b calculates error on b\n",
    "def stuB(x, y):\n",
    "    s = streuung(x, y)\n",
    "    return s*np.sqrt(sum(x**2)/((x.size*sum(x**2)-sum(x)**2)))\n",
    "\n",
    "def round_to_j(x,j):\n",
    "    return round(x, (j-1)-int(floor(log10(abs(x)))))"
   ]
  },
  {
   "cell_type": "markdown",
   "metadata": {},
   "source": [
    "# Results of the experiment\n",
    "Important notes on the code conventions:\n",
    "- Variable names use CamelCase and are abbreviated, e.g., lenseDistanceObject corresponds to the distance of the lens from the object.\n",
    "- Errors are indicated in CamelCase with the suffix Err, e.g., distanceErr corresponds to the error of the distance variable.\n",
    "- Units are commented after the values, e.g., x = 3 # mm or \"vMax = 2 # V.\""
   ]
  },
  {
   "cell_type": "markdown",
   "metadata": {},
   "source": [
    "## Read lab data"
   ]
  },
  {
   "cell_type": "code",
   "execution_count": 23,
   "metadata": {},
   "outputs": [],
   "source": [
    "#intensitiesHg = np.loadtxt(\"C:\\\\Users\\\\MAYER\\\\Documents\\\\GitHub\\\\FP\\\\Jod\\\\spektrumHg.txt\", usecols=1, skiprows=1, dtype='str')\n",
    "Hg = pd.read_csv(\"C:\\\\Users\\\\MAYER\\\\Documents\\\\GitHub\\\\FP\\\\Jod\\spektrumHg.txt\", sep=\" \", header=None)\n",
    "intensitiesHg = Hg.to_numpy()\n",
    "binsHg = np.arange(0, len(intensitiesHg), 1)\n",
    "nBinsHg = len(binsHg)\n",
    "\n",
    "# Na = pd.read_csv(\"C:\\\\Users\\\\MAYER\\\\Documents\\\\GitHub\\\\FP\\\\Jod\\spektrumNa.txt\", sep=\" \", header=None)\n",
    "# intensitiesNa = Na.to_numpy()\n",
    "# binsNa = np.arange(0, len(intensitiesNa), 1)\n",
    "# nBinsNa = len(binsNa)\n",
    "\n",
    "# binsX = np.loadtxt(\"spektrum.txt\", usecols=1, skiprows=1, dtype='str')\n",
    "# intensitiesX = np.loadtxt(\"spektrum.txt\", usecols=0, skiprows=1, dtype='str')\n",
    "# nBinsX = len(bins)\n",
    "\n",
    "# binsX = np.loadtxt(\"spektrum.txt\", usecols=1, skiprows=1, dtype='str')\n",
    "# intensitiesX = np.loadtxt(\"spektrum.txt\", usecols=0, skiprows=1, dtype='str')\n",
    "# nBinsX = len(bins)\n"
   ]
  },
  {
   "cell_type": "markdown",
   "metadata": {},
   "source": [
    "## Plot lab data"
   ]
  },
  {
   "cell_type": "code",
   "execution_count": 31,
   "metadata": {},
   "outputs": [
    {
     "data": {
      "text/plain": [
       "<matplotlib.legend.Legend at 0x21dc6d79e50>"
      ]
     },
     "execution_count": 31,
     "metadata": {},
     "output_type": "execute_result"
    },
    {
     "data": {
      "image/png": "[encoded data removed]",
      "text/plain": [
       "<Figure size 2304x1152 with 4 Axes>"
      ]
     },
     "metadata": {
      "needs_background": "light"
     },
     "output_type": "display_data"
    }
   ],
   "source": [
    "\n",
    "\n",
    "fig, ax = plt.subplots(2, 2, sharex=True, figsize=(32, 16))\n",
    "\n",
    "ax[0 ,0].hist(binsHg, bins=nBinsHg, histtype='step', color='darkblue', \n",
    "           weights=intensitiesHg, label=r'Bins for $^{22}$Na')\n",
    "\n",
    "ax[0, 0].set_xlim([0, nBinsHg])\n",
    "ax[0, 0].set_yscale('log')\n",
    "\n",
    "#ax[1 ,0].hist(bins, bins=nBins, histtype='step', color='crimson', \n",
    "           #weights=dataSodium, label=r'Bins for $^{22}$Na')\n",
    "#ax[1, 0].set_xlim([0, nBins])\n",
    "#ax[1, 0].set_yscale('log')\n",
    "\n",
    "#ax[0 ,1].hist(bins, bins=nBins, histtype='step', color='darkgreen', \n",
    "           #weights=dataSodium, label=r'Bins for $^{22}$Na')\n",
    "#ax[0, 1].set_xlim([0, nBins])\n",
    "#ax[0, 1].set_yscale('log')\n",
    "\n",
    "#ax[1 ,1].hist(bins, bins=nBins, histtype='step', color='orange', \n",
    "           #weights=dataSodium, label=r'Bins for $^{22}$Na')\n",
    "#ax[1, 1].set_xlim([0, nBins])\n",
    "#ax[1, 1].set_yscale('log')\n",
    "\n",
    "\n",
    "ax[0, 0].set(title=r'Emissionspectrums')\n",
    "ax[0, 0].set(ylabel=r'Counts per Bin')\n",
    "ax[1, 0].set(xlabel=r'Bin Number', ylabel=r'Counts per Bin')\n",
    "ax[1, 1].set(xlabel=r'Bin Number')\n",
    "\n",
    "\n",
    "ax[0, 0].legend()\n",
    "\n",
    "#fig.savefig(\"Kalibratrionsspektren.pdf\")"
   ]
  },
  {
   "cell_type": "markdown",
   "metadata": {},
   "source": [
    "## Calibration\n",
    "Calibration was realized via measuring the known spectrums of the two (Na and Hg) calibration lamps."
   ]
  },
  {
   "cell_type": "markdown",
   "metadata": {},
   "source": [
    "### Perform Calibration"
   ]
  },
  {
   "cell_type": "code",
   "execution_count": 6,
   "metadata": {},
   "outputs": [
    {
     "ename": "SyntaxError",
     "evalue": "invalid syntax (<ipython-input-6-c6163801de65>, line 18)",
     "output_type": "error",
     "traceback": [
      "\u001b[1;36m  File \u001b[1;32m\"<ipython-input-6-c6163801de65>\"\u001b[1;36m, line \u001b[1;32m18\u001b[0m\n\u001b[1;33m    plt.plot(, mTeil2 * zeichenBereichTeil2 + bTeil2, color='crimson',\u001b[0m\n\u001b[1;37m             ^\u001b[0m\n\u001b[1;31mSyntaxError\u001b[0m\u001b[1;31m:\u001b[0m invalid syntax\n"
     ]
    }
   ],
   "source": [
    "# binNumbersHg = np.array([]) \n",
    "# binNumbersNa = np.array([]) \n",
    "\n",
    "# wavelengthsHg = np.array([253.65, 312.57, 365.02, 404.66, 435.84, 546.07]) # nm\n",
    "# wavelengthsNa = np.array([]) # nm\n",
    "\n",
    "# binNumbers = np.append(binNumbersHg, binNumbersX)\n",
    "# wavelegnths = np.append(wavelengthsHg, wavelengthsX)\n",
    "\n",
    "#m = bestM(binNumbers, wavelegnths)\n",
    "#b = bestB(binNumbers, wavelegnths)\n",
    "\n",
    "# Adjust plot size\n",
    "plt.figure(figsize=(16, 8))    \n",
    "\n",
    "# Draw the Datapoints\n",
    "plt.errorbar(bins, wavelengths, xerr=LichtLaufstrecke2Err,\n",
    "             yerr=delayErr, fmt='x', capsize=5, label='Data with Error Bars', color='black')\n",
    "\n",
    "# Draw the regression curve\n",
    "plt.plot(, mTeil2 * zeichenBereichTeil2 + bTeil2, color='crimson', \n",
    "         label=f'Regression Line y = m*x + b = {m}*x + {b}')\n",
    "\n",
    "# Axislabels\n",
    "plt.xlabel(r'Binnummer')\n",
    "plt.ylabel(r'Wellenlänge [nm]')\n",
    "plt.title(\"Calibration trough linear regression\")\n",
    "\n",
    "plt.legend()\n",
    "plt.show()"
   ]
  }
 ],
 "metadata": {
  "kernelspec": {
   "display_name": "Python 3",
   "language": "python",
   "name": "python3"
  },
  "language_info": {
   "codemirror_mode": {
    "name": "ipython",
    "version": 3
   },
   "file_extension": ".py",
   "mimetype": "text/x-python",
   "name": "python",
   "nbconvert_exporter": "python",
   "pygments_lexer": "ipython3",
   "version": "3.8.3"
  }
 },
 "nbformat": 4,
 "nbformat_minor": 4
}
