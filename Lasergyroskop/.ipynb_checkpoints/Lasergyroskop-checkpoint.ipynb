{
 "cells": [
  {
   "cell_type": "markdown",
   "metadata": {},
   "source": [
    "# Imports"
   ]
  },
  {
   "cell_type": "code",
   "execution_count": 1,
   "metadata": {},
   "outputs": [],
   "source": [
    "import numpy as np\n",
    "import sympy as sp\n",
    "from sympy import *\n",
    "import re\n",
    "\n",
    "import pandas as pd\n",
    "\n",
    "import matplotlib.pyplot as plt\n",
    "import matplotlib.colors as c\n",
    "from matplotlib.ticker import PercentFormatter\n",
    "from matplotlib import rcParams\n",
    "\n",
    "from math import log10, floor\n",
    "from math import *\n",
    "import math\n",
    "\n",
    "from IPython.display import display, Latex\n",
    "from IPython.display import Markdown as md\n",
    "\n",
    "import scipy.constants as pc\n",
    "from scipy.optimize import curve_fit\n",
    "from scipy.optimize import minimize\n",
    "from scipy import stats"
   ]
  },
  {
   "cell_type": "markdown",
   "metadata": {},
   "source": [
    "# Matplotlib Style changes"
   ]
  },
  {
   "cell_type": "code",
   "execution_count": 2,
   "metadata": {},
   "outputs": [],
   "source": [
    "rcParams['font.size'] = 15\n",
    "rcParams['font.weight'] = 'bold'\n",
    "rcParams['text.usetex'] = True\n",
    "rcParams['axes.grid'] = True\n",
    "rcParams['font.family'] = 'serif'\n",
    "rcParams['font.sans-serif'] = ['Latin Modern Math']\n",
    "rcParams['xtick.labelsize'] = 18\n",
    "rcParams['ytick.labelsize'] = 18\n",
    "rcParams[\"xtick.minor.size\"] =  4\n",
    "rcParams[\"ytick.minor.size\"] =  4\n",
    "rcParams[\"xtick.minor.visible\"] =  True\n",
    "rcParams[\"ytick.minor.visible\"] =  True"
   ]
  },
  {
   "cell_type": "markdown",
   "metadata": {},
   "source": [
    "# Statistical Selfcoded functions"
   ]
  },
  {
   "cell_type": "code",
   "execution_count": 3,
   "metadata": {
    "jupyter": {
     "source_hidden": true
    },
    "tags": []
   },
   "outputs": [],
   "source": [
    "def am(werte):\n",
    "    return np.mean(werte)\n",
    "\n",
    "def std(werte):\n",
    "    summen_der_quadrate = 0\n",
    "    for wert in werte:\n",
    "        summen_der_quadrate+=(wert-am(werte))**2       \n",
    "    return np.sqrt(summen_der_quadrate/(werte.size-1))\n",
    "\n",
    "def stu(werte):\n",
    "    return std(werte)/np.sqrt(werte.size)\n",
    "\n",
    "\n",
    "# easier formula for gaussian error propagation with addition\n",
    "def einfachGaussAdd(unsicherheiten, koeffizienten):\n",
    "    dz = 0\n",
    "    for i in range (unsicherheiten.size):\n",
    "        dz += (koeffizienten[i]*unsicherheiten[i])**2\n",
    "    return sqrt(dz)\n",
    "\n",
    "# easier formula for gaussian error propagation with multiplication\n",
    "def einfachGaussMult(unsicherheiten, werte, exponenten):\n",
    "    dz = 0\n",
    "    for i in range (unsicherheiten.size):\n",
    "        dz += (exponenten[i]*unsicherheiten[i]/werte[i])**2\n",
    "    return sqrt(dz)\n",
    "\n",
    "# Formlae for Gaußen Error propagation with result\n",
    "def DivisionMitFehler(A, deltaA, B, deltaB): # Für C=A/B\n",
    "    C = A/B\n",
    "    deltaC = abs(C) * math.sqrt((deltaA / A)**2 + (deltaB / B)**2)\n",
    "    return C,deltaC\n",
    "\n",
    "def MultiplikationMitFehler(A, deltaA, B, deltaB): #Für C=A*B\n",
    "    C = A * B\n",
    "    deltaC = abs(C) * ((deltaA / abs(A)) + (deltaB / abs(B)))\n",
    "    return C, deltaC\n",
    "\n",
    "# t-value for without literature value\n",
    "def vertraeglichkeit(am_1, am_2, stu_1, stu_2):\n",
    "    return (np.abs(am_1-am_2)/(sqrt((stu_1**2)+(stu_2**2))))\n",
    "\n",
    "# analytic linear regression y(x)=m*x + b calculates m\n",
    "def bestM(x, y):\n",
    "    return (x.size*sum(x*y)-sum(x)*sum(y))/(x.size*sum(x**2)-sum(x)**2)\n",
    "\n",
    "# analytic linear regression y(x)=m*x + b calculates b\n",
    "def bestB(x, y):\n",
    "    return (sum(x**2)*sum(y)-sum(x)*sum(x*y))/(x.size*sum(x**2)-sum(x)**2)\n",
    "\n",
    "# analytic linear regression calculates variance \n",
    "# (only used for next two functions, never gets called on its own, enhances readability) \n",
    "def streuung(x, y):\n",
    "    s = 0\n",
    "    for i in range(x.size):\n",
    "        s += (y[i]-(bestB(x, y)+bestM(x, y)*x[i]))**2\n",
    "    return np.sqrt(s/(x.size-2))\n",
    "\n",
    "# analytic linear regression y(x)=m*x + b calculates error on m\n",
    "def stuM(x, y):\n",
    "    s = streuung(x, y)\n",
    "    return s*np.sqrt(x.size/((x.size*sum(x**2)-sum(x)**2)))\n",
    "\n",
    "# analytic linear regression y(x)=m*x + b calculates error on b\n",
    "def stuB(x, y):\n",
    "    s = streuung(x, y)\n",
    "    return s*np.sqrt(sum(x**2)/((x.size*sum(x**2)-sum(x)**2)))\n"
   ]
  },
  {
   "cell_type": "markdown",
   "metadata": {},
   "source": [
    "# Ergebnisse des Versuchs Lasergyroskop"
   ]
  },
  {
   "cell_type": "markdown",
   "metadata": {},
   "source": [
    "Wichtige Anmerkungen zu den Codekonventionen:\n",
    "- Variablennamen nutzen CamelCase und kürzen ab z.B.: linsenAbstandGegenstand was dem Abstand der Linse von der Gegenstandseite entspricht\n",
    "- Fehler werden hierbei mit dem Suffix Err im CamelCase gekennzeichnet z.B.: abstandErr entspricht dem Fehler der Abstandsvariable \n",
    "- Einheiten stehen kommentiert nach den Einheiten z.B.: x = 3 # mm oder \"vMax = 2 # V\""
   ]
  },
  {
   "cell_type": "markdown",
   "metadata": {},
   "source": [
    "## Versuchsablauf \n",
    "Vor Beginn der Aufnahme der Messreihen wurde die Interferenzoptik des Lasergyroskops justiert. Dabei wurden der Spiegel so justiert, dass die beiden Strahlen, der clockwise (cw), sowie der counterclockwise (ccw) etwas hinter der Position einer der beiden Photodioden direkt aufeinanderlagen daraufhin wurde der Beamsplitter so justiert, dass die beiden Strahlen auf einer 4 Meter entfernten Wand auch übereinanderlagen. Daraufhin war ein Ringinterferenzmuster sichtbar. Durch dessen Form wurde der Mittelpunkt ermittelt und das gleiche Verfahren wurde durchgeführt um dafür zu sorgen, dass die beiden Strahlen sich in der Mitte dieses Interferentmusters trafen. Der Helium-Neon-Laser selbst musste nicht justiert werden, da dieser bereits vorjustiert war.\n",
    "Daraufhin wurde eine Testmessreihe aufgenommen, bei dem für jede mögliche Einstellung der Drehtischgeschwindigkeit [0.1, 0.2, 0.3, 0.4, 0.6, ..., 1.8, 2.0] & [1, 2, 3, 4, 6, ..., 18, 20] eine Messung aufgenommen wurde um den ungefähren Trend erkennbar zu machen. Da dieser der physikalischen Erwartung entsprach wurden daraufhin die, für die Auswertung benutzten Messdaten gemessen. Für jede der oben erwähnten Gradanzahlen wurden 12 Werte am Frequenzzähler ausgelesen.\n",
    "Die daraus resultierenden Werte und Auswertung befinden sich im folgenden Kapitel. "
   ]
  },
  {
   "cell_type": "markdown",
   "metadata": {},
   "source": [
    "## Messung des feinen Bereichs (0.1-2.0)"
   ]
  },
  {
   "cell_type": "markdown",
   "metadata": {},
   "source": [
    "### Einschreibung der Werte\n",
    "Die Werte wurde im Laborheft vor Ort direkt festgehalten und später von diesem übertragen. "
   ]
  },
  {
   "cell_type": "markdown",
   "metadata": {},
   "source": [
    "#### Werte fein CW"
   ]
  },
  {
   "cell_type": "code",
   "execution_count": 24,
   "metadata": {
    "code_folding": []
   },
   "outputs": [
    {
     "name": "stdout",
     "output_type": "stream",
     "text": [
      "[        nan         nan         nan  0.28262154  0.14290524  0.19926174\n",
      "  0.09402208  0.26524669  0.42384863  0.6272046  11.20610263 16.79848985]\n"
     ]
    },
    {
     "name": "stderr",
     "output_type": "stream",
     "text": [
      "<ipython-input-3-8ab7db670773>:8: RuntimeWarning: invalid value encountered in double_scalars\n",
      "  return np.sqrt(summen_der_quadrate/(werte.size-1))\n"
     ]
    }
   ],
   "source": [
    "feinBerCw = np.append(np.arange(0.1, 0.5, 0.1), np.arange(0.6, 2.2, 0.2))\n",
    "feinBerCwFreq1 = np.array([0])\n",
    "feinBerCwFreq2 = np.array([0])\n",
    "feinBerCwFreq3 = np.array([0])\n",
    "feinBerCwFreq4 = np.array([330, 450, 100, 200, 350, 270, 162, 198, 205, 152, 236, 192])/100 # kHz\n",
    "feinBerCwFreq6 = np.array([260, 225, 272, 183, 204, 169, 292, 268, 188, 258, 141, 173])/100 # kHz\n",
    "feinBerCwFreq8 = np.array([159, 237, 205, 281, 278, 163, 259, 202, 397, 316, 318, 250])/100 # kHz\n",
    "feinBerCwFreq10 = np.array([190, 290, 271, 265, 314, 293, 263, 230, 246, 242, 244, 266])/100 # kHz\n",
    "feinBerCwFreq12 = np.array([363, 420, 580, 395, 243, 287, 350, 251, 351, 306, 342, 274])/100 # kHz\n",
    "feinBerCwFreq14 = np.array([373, 391, 281, 337, 539, 306, 410, 389, 695, 621, 700, 419])/100 # kHz\n",
    "feinBerCwFreq16 = np.array([413, 258, 204, 566, 298, 441, 298, 963, 307, 610, 596, 632])/100 # kHz\n",
    "feinBerCwFreq18 = np.array([964, 1220, 245, 1208, 991, 758, 252, 326, 324, 840, 309, 320])/10 # kHz\n",
    "feinBerCwFreq20 = np.array([628, 1318, 2430, 304, 295, 1170, 1355, 1359, 1358, 1372, 1274, 766])/10 # kHz\n",
    "\n",
    "\n",
    "feinBerCwFreqArr = np.array([am(feinBerCwFreq1), am(feinBerCwFreq2), am(feinBerCwFreq3), am(feinBerCwFreq4), am(feinBerCwFreq6),\n",
    "                             am(feinBerCwFreq8), am(feinBerCwFreq10), am(feinBerCwFreq12), am(feinBerCwFreq14), am(feinBerCwFreq16), \n",
    "                             am(feinBerCwFreq18), am(feinBerCwFreq20)])\n",
    "\n",
    "feinBerCwFreqArrErr = np.array([stu(feinBerCwFreq1), stu(feinBerCwFreq2), stu(feinBerCwFreq3), stu(feinBerCwFreq4), \n",
    "                                stu(feinBerCwFreq6), stu(feinBerCwFreq8), stu(feinBerCwFreq10), stu(feinBerCwFreq12), \n",
    "                                stu(feinBerCwFreq14), stu(feinBerCwFreq16), stu(feinBerCwFreq18), stu(feinBerCwFreq20)])\n"
   ]
  },
  {
   "cell_type": "code",
   "execution_count": 21,
   "metadata": {},
   "outputs": [
    {
     "name": "stderr",
     "output_type": "stream",
     "text": [
      "<ipython-input-3-8ab7db670773>:8: RuntimeWarning: invalid value encountered in double_scalars\n",
      "  return np.sqrt(summen_der_quadrate/(werte.size-1))\n"
     ]
    }
   ],
   "source": [
    "feinBerCcw = -np.append(np.arange(0.1, 0.5, 0.1), np.arange(0.6, 2.2, 0.2))\n",
    "feinBerCcwFreq1 = np.array([0])\n",
    "feinBerCcwFreq2 = np.array([0])\n",
    "feinBerCcwFreq3 = np.array([0])\n",
    "feinBerCcwFreq4 = np.array([161, 200, 83, 138, 176, 183, 190, 268, 168, 113, 187, 152])/100 # kHz\n",
    "feinBerCcwFreq6 = np.array([203, 323, 184, 197, 278, 298, 284, 274, 253, 283, 261, 278])/100 # kHz\n",
    "feinBerCcwFreq8 = np.array([214, 282, 258, 225, 172, 241, 249, 237, 254, 224, 201, 146])/100 # kHz\n",
    "feinBerCcwFreq10 = np.array([421, 450, 334, 336, 407, 356, 324, 363, 256, 268, 371, 413])/100 # kHz\n",
    "feinBerCcwFreq12 = np.array([441, 603, 268, 409, 686, 271, 342, 475, 263, 261, 226, 349])/100 # kHz\n",
    "feinBerCcwFreq14 = np.array([429, 393, 375, 843, 611, 291, 398, 558, 814, 590, 339, 473])/100 # kHz\n",
    "feinBerCcwFreq16 = np.array([915, 863, 298, 704, 265, 258, 363, 260, 1170, 1133, 313, 583])/100 # kHz\n",
    "feinBerCcwFreq18 = np.array([272, 238, 335, 509, 789, 305, 302, 1248, 1187, 1271, 736, 1285])/10 # kHz\n",
    "feinBerCcwFreq20 = np.array([1029, 606, 657, 927, 1110, 1390, 1246, 261, 1173, 481, 686, 1361])/10 # kHz\n",
    "\n",
    "feinBerCcwFreqArr = np.array([am(feinBerCcwFreq1), am(feinBerCcwFreq2), am(feinBerCcwFreq3), am(feinBerCcwFreq4), am(feinBerCcwFreq6),\n",
    "                             am(feinBerCcwFreq8), am(feinBerCcwFreq10), am(feinBerCcwFreq12), am(feinBerCcwFreq14), am(feinBerCcwFreq16), \n",
    "                             am(feinBerCcwFreq18), am(feinBerCcwFreq20)])\n",
    "\n",
    "feinBerCcwFreqArrErr = np.array([stu(feinBerCcwFreq1), stu(feinBerCcwFreq2), stu(feinBerCcwFreq3), stu(feinBerCcwFreq4), \n",
    "                                stu(feinBerCcwFreq6), stu(feinBerCcwFreq8), stu(feinBerCcwFreq10), stu(feinBerCcwFreq12), \n",
    "                                stu(feinBerCcwFreq14), stu(feinBerCcwFreq16), stu(feinBerCcwFreq18), stu(feinBerCcwFreq20)])"
   ]
  },
  {
   "cell_type": "code",
   "execution_count": 33,
   "metadata": {},
   "outputs": [],
   "source": [
    "#1\n",
    "grobBerCwFreq1 = np.array([613,591,570,549,543,600,571,595,594,592,580,579])*10/100 # kHz\n",
    "grobBerCcwFreq1 = np.array([702,509,405,694,684,501,617,659,382,702,707,452])*10/100 # kHz\n",
    "\n",
    "#2\n",
    "grobBerCwFreq2 = np.array([1336,6970,1342,1003,1155,905,1160,928,917,1350,818,914])*10/100 # kHz\n",
    "grobBerCcwFreq2 = np.array([1087,929,1155,1422,792,1207,703,1225,1416,1387,847,752])*10/100 # kHz\n",
    "\n",
    "#3\n",
    "grobBerCwFreq3 = np.array([1944,2029,1417,1350,1711,1394,1341,1314,1782,1542,1886,1504])*10/100 # kHz\n",
    "grobBerCcwFreq3 = np.array([2123,1780,2112,2086,2077,2039,1975,1189,1114,1806,2065,1823])*10/100 # kHz\n",
    "\n",
    "#4\n",
    "grobBerCwFreq4 = np.array([2708,2672,1415,2411,2753,2756,2722,1470,1983,2641,2176,2665])*10/100 # kHz\n",
    "grobBerCcwFreq4 = np.array([2237,1571,1611,2794,2834,2844,2150,2815,2836,2812,2839,2857])*10/100 # kHz\n",
    "\n",
    "#6\n",
    "grobBerCwFreq6 = np.array([4015,3571,4044,3987,3781,4084,3751,3981,4058,2251,3791,3741])*10/100 # kHz\n",
    "grobBerCcwFreq6 = np.array([2331,3931,3587,4119,2421,1971,4089,1971,3791,4110,2417,2171])*10/100 # kHz\n",
    "\n",
    "#8\n",
    "grobBerCwFreq8 = np.array([5310,5119,4576,4261,4371,3947,4396,4487,5343,4972,4327,4972])*10/100 # kHz\n",
    "grobBerCcwFreq8 = np.array([3867,3298,5150,5234,4605,5392,4309,4443,2170,4580,5305,5153])*10/100 # kHz\n",
    "\n",
    "#10\n",
    "grobBerCwFreq10 = np.array([4930,4470,4682,4543,5814,1920,5542,2411,6170,6258,5676,6540])*10/100 # kHz\n",
    "grobBerCcwFreq10 = np.array([3070,4201,3680,4812,3210,4287,5739,3621,5883,6167,5446,6455])*10/100 # kHz\n",
    "\n",
    "#12\n",
    "grobBerCwFreq12 = np.array([7140,7670,8337,7920,7498,7612,7590,6660,6111,8004,6241,4905])*10/100 # kHz\n",
    "grobBerCcwFreq12 = np.array([4370,7968,6264,5851,7949,6662,7806,7535,8163,7735,7678,5069])*10/100 # kHz\n",
    "\n",
    "#14\n",
    "grobBerCwFreq14 = np.array([794,951,720,646,867,951,652,914,724,944,788,712])*100/100 # kHz\n",
    "grobBerCcwFreq14 = np.array([718,937,921,929,873,738,852,891,643,800,936,811])*100/100 # kHz\n",
    "\n",
    "#16\n",
    "grobBerCwFreq16 = np.array([104,111,87,64,74,110,91,108,82,108,91,86])*1000/100 # kHz\n",
    "grobBerCcwFreq16 = np.array([643,641,957,846,634,745,731,733,682,857,952,997])*100/100 # kHz\n",
    "\n",
    "#18\n",
    "grobBerCwFreq18 = np.array([810,809,559,585,860,550,673,470,667,507,699,804])*100/100 # kHz\n",
    "grobBerCcwFreq18 = np.array([630,683,591,614,604,643,434,755,549,736,631,846])*100/100 # kHz\n",
    "\n",
    "#20\n",
    "grobBerCwFreq20 = np.array([699,903,1020,953,602,989,993,610,724,1004,1048,1090])*100/100 # kHz\n",
    "grobBerCcwFreq20 = np.array([802,908,708,1040,598,565,827,776,827,1063,1072,554])*100/100 # kHz\n",
    "\n",
    "\n",
    "grobBerCwFreqArr = np.array([am(grobBerCwFreq1), am(grobBerCwFreq2), am(grobBerCwFreq3), am(grobBerCwFreq4), am(grobBerCwFreq6),\n",
    "                           am(grobBerCwFreq8), am(grobBerCwFreq10), am(grobBerCwFreq12), am(grobBerCwFreq14), am(grobBerCwFreq16), \n",
    "                           am(grobBerCwFreq18), am(grobBerCwFreq20)])\n",
    "\n",
    "grobBerCwFreqArrErr = np.array([stu(grobBerCwFreq1), stu(grobBerCwFreq2), stu(grobBerCwFreq3), stu(grobBerCwFreq4), \n",
    "                                stu(grobBerCwFreq6), stu(grobBerCwFreq8), stu(grobBerCwFreq10), stu(grobBerCwFreq12), \n",
    "                                stu(grobBerCwFreq14), stu(grobBerCwFreq16), stu(grobBerCwFreq18), stu(grobBerCwFreq20)])\n",
    "\n",
    "grobBerCw = np.append(np.arange(1, 5, 1), np.arange(6, 22, 2))\n",
    "\n",
    "\n",
    "grobBerCcwFreqArr = np.array([am(grobBerCcwFreq1), am(grobBerCcwFreq2), am(grobBerCcwFreq3), am(grobBerCcwFreq4), am(grobBerCcwFreq6),\n",
    "                           am(grobBerCcwFreq8), am(grobBerCcwFreq10), am(grobBerCcwFreq12), am(grobBerCcwFreq14), am(grobBerCcwFreq16), \n",
    "                           am(grobBerCcwFreq18), am(grobBerCcwFreq20)])\n",
    "\n",
    "grobBerCcwFreqArrErr = np.array([stu(grobBerCcwFreq1), stu(grobBerCcwFreq2), stu(grobBerCcwFreq3), stu(grobBerCcwFreq4), \n",
    "                                stu(grobBerCcwFreq6), stu(grobBerCcwFreq8), stu(grobBerCcwFreq10), stu(grobBerCcwFreq12), \n",
    "                                stu(grobBerCcwFreq14), stu(grobBerCcwFreq16), stu(grobBerCcwFreq18), stu(grobBerCcwFreq20)])\n",
    "\n",
    "grobBerCcw = -np.append(np.arange(1, 5, 1), np.arange(6, 22, 2))"
   ]
  },
  {
   "cell_type": "markdown",
   "metadata": {},
   "source": [
    "### Aufzeichnen der Daten"
   ]
  },
  {
   "cell_type": "code",
   "execution_count": 35,
   "metadata": {},
   "outputs": [
    {
     "data": {
      "image/png": "[encoded data removed]",
      "text/plain": [
       "<Figure size 1152x576 with 1 Axes>"
      ]
     },
     "metadata": {
      "needs_background": "light"
     },
     "output_type": "display_data"
    }
   ],
   "source": [
    "# Plotgröße anpassen\n",
    "plt.figure(figsize=(16, 8))\n",
    "\n",
    "# Gemessene Spannungswerte auftragen\n",
    "plt.errorbar(feinBerCw, feinBerCwFreqArr, xerr=0, yerr=feinBerCwFreqArrErr, color='crimson', label=\"Messung feiner Bereich Clockwise\")\n",
    "plt.errorbar(feinBerCcw, -feinBerCcwFreqArr, xerr=0, yerr=feinBerCcwFreqArrErr, color='darkblue', label=\"Messung feiner Bereich Counterclockwise\")\n",
    "plt.errorbar(grobBerCw, grobBerCwFreqArr, xerr=0, yerr=grobBerCwFreqArrErr, color='darkgreen', label=\"Messung groben Bereich Clockwise\")\n",
    "plt.errorbar(grobBerCcw, -grobBerCcwFreqArr, xerr=0, yerr=grobBerCcwFreqArrErr, color='purple', label=\"Messung groben Bereich Counterclockwise\")\n",
    "np.linspace\n",
    "plt.plot()\n",
    "\n",
    "# labels und legend\n",
    "plt.xlabel(r'Winkelgeschwindigkeit [unwichtig]')\n",
    "plt.ylabel(r'Frequenz [kHz]')\n",
    "plt.legend()\n",
    "\n",
    "# Plot anzeigen lassen\n",
    "plt.grid(True)\n",
    "plt.title('Frequenz gegen die Winkelgeschwindigkeit aufgetragen')\n",
    "plt.show()"
   ]
  },
  {
   "cell_type": "markdown",
   "metadata": {},
   "source": [
    "### Fits berechnen"
   ]
  },
  {
   "cell_type": "code",
   "execution_count": 6,
   "metadata": {},
   "outputs": [
    {
     "name": "stdout",
     "output_type": "stream",
     "text": [
      "platueMean 0.19223382085843466 platueMeanErr 2.0616035797558438e-06\n"
     ]
    },
    {
     "data": {
      "text/plain": [
       "[<matplotlib.lines.Line2D at 0x233960db640>]"
      ]
     },
     "execution_count": 6,
     "metadata": {},
     "output_type": "execute_result"
    },
    {
     "data": {
      "image/png": "[encoded data removed]",
      "text/plain": [
       "<Figure size 432x288 with 1 Axes>"
      ]
     },
     "metadata": {
      "needs_background": "light"
     },
     "output_type": "display_data"
    }
   ],
   "source": [
    "#Spannung des Plateaus berechnen - entspricht Temperatur von flüssigem Stickstoff\n",
    "\n",
    "def timeToIndices(timeStart, timeEnd, timeArray):\n",
    "    # Index finden, welcher dem gewünschten Zeitwert Entspricht\n",
    "    startIndex = np.argmax(timeArray >= timeStart)\n",
    "    endIndex = np.argmax(timeArray >= timeEnd)\n",
    "    \n",
    "    return startIndex, endIndex\n",
    "\n",
    "\n",
    "def clearNaNs(xArray,yArray):\n",
    "    nanMask = np.isnan(yArray)\n",
    "    nanIndices = np.where(nanMask)\n",
    "    \n",
    "    xArrayClean = np.delete(xArray, nanIndices[0])\n",
    "    yArrayClean = np.delete(yArray, nanIndices[0])\n",
    "    \n",
    "    return xArrayClean, yArrayClean\n",
    "    \n",
    "\n",
    "startTimePlateu = 40.5\n",
    "endTimePlateu = 47\n",
    "\n",
    "startIndexPlateu, endIndexPlateu = timeToIndices(startTimePlateu, endTimePlateu, zeitKupferMessung)\n",
    "\n",
    "#Slicen der Arrays für den Fit\n",
    "xDataPlateuUnclean = zeitKupferMessung[startIndexPlateu:endIndexPlateu]\n",
    "yDataPlateuUnclean = spannungUA1KupferMessung[startIndexPlateu:endIndexPlateu]\n",
    "    \n",
    "#Entfernen von NaN Werten\n",
    "xDataPlateu = clearNaNs(xDataPlateuUnclean,yDataPlateuUnclean)[0]\n",
    "yDataPlateu = clearNaNs(xDataPlateuUnclean,yDataPlateuUnclean)[1]\n",
    "\n",
    "# Bestimmung Mittelwert Plateu\n",
    "platueMean = np.mean(yDataPlateu)\n",
    "platueMeanErr = np.std(yDataPlateu, ddof=1) / np.sqrt(len(yDataPlateu))\n",
    "\n",
    "#Ausgabe Spannung PLateu Mittelwer\n",
    "print(\"platueMean\",platueMean,\"platueMeanErr\",platueMeanErr)\n",
    "\n",
    "# PLateu Plotten \n",
    "plt.plot(xDataPlateu,yDataPlateu)"
   ]
  },
  {
   "cell_type": "code",
   "execution_count": 7,
   "metadata": {
    "code_folding": []
   },
   "outputs": [
    {
     "name": "stderr",
     "output_type": "stream",
     "text": [
      "<ipython-input-7-1ad765091b7d>:25: RuntimeWarning: invalid value encountered in sqrt\n",
      "  standardErrors = np.sqrt(np.diag(covariance))\n"
     ]
    },
    {
     "data": {
      "image/png": "[encoded data removed]",
      "text/plain": [
       "<Figure size 432x288 with 1 Axes>"
      ]
     },
     "metadata": {
      "needs_background": "light"
     },
     "output_type": "display_data"
    },
    {
     "name": "stdout",
     "output_type": "stream",
     "text": [
      "Fitted Parameters:\n",
      "d = -2e-04 ± 1e-04 Entspricht unserer Spannung bei Raumtemperatur\n"
     ]
    }
   ],
   "source": [
    "# Berechnen von Fits \n",
    "\n",
    "# Define the exponential function\n",
    "def exponentialFunc(x, a, b, c, d):\n",
    "    return a * np.exp(b * x + c) + d\n",
    "\n",
    "\n",
    "def fitExponential(xData,yData,startTime,endTime,initialGuesses):\n",
    "    \n",
    "    startIndex = timeToIndices(startTime, endTime, xData)[0]\n",
    "    endIndex = timeToIndices(startTime, endTime, xData)[1]\n",
    "    \n",
    "    # Slicen der Arrays für den Fit\n",
    "    xDataFitUnclean = xData[startIndex:endIndex]\n",
    "    yDataFitUnclean = yData[startIndex:endIndex]\n",
    "    \n",
    "    # Entfernen von NaN Werten\n",
    "    xDataFit = clearNaNs(xDataFitUnclean,yDataFitUnclean)[0]\n",
    "    yDataFit = clearNaNs(xDataFitUnclean,yDataFitUnclean)[1]\n",
    "    \n",
    "    # Curve Fit mittels scypy\n",
    "    params, covariance = curve_fit(exponentialFunc, xDataFit, yDataFit,\n",
    "                                   p0=initialGuesses,maxfev = 80000)\n",
    "    \n",
    "    standardErrors = np.sqrt(np.diag(covariance))\n",
    "    \n",
    "    # Parameter Extrahieren\n",
    "    aFit, bFit, cFit, dFit = params\n",
    "    \n",
    "    \n",
    "    xFit = np.linspace(min(xDataFit), max(xDataFit), 100)\n",
    "    yFit = exponentialFunc(xFit, aFit, bFit, cFit, dFit)\n",
    "    \n",
    "    fitReturn = aFit, bFit, cFit, dFit, standardErrors, xFit, yFit, xDataFit, yDataFit\n",
    "    \n",
    "    return fitReturn\n",
    "\n",
    "\n",
    "initialGuesses5 = np.array([0.00001,-0.01,10,0])\n",
    "fitKupfer5 = fitExponential(zeitKupferMessung, spannungUA1KupferMessung,60,250,initialGuesses5)\n",
    "\n",
    "\n",
    "\n",
    "\n",
    "# Initial Guess Plot\n",
    "# plt.plot(np.linspace(60,250,100),exponentialFunc(np.linspace(60,250,100),\n",
    "#                   initialGuesses5[0], initialGuesses5[1], initialGuesses5[2], initialGuesses5[3]))\n",
    "\n",
    "# Originale und Fittet Curve Plotten\n",
    "plt.errorbar(fitKupfer5[7], fitKupfer5[8], label=\"Measured Data (Cut)\")\n",
    "plt.plot(fitKupfer5[5], fitKupfer5[6], 'r-', label=\"Fitted Curve\")\n",
    "\n",
    "# Plot Labeln\n",
    "plt.xlabel(\"x\")\n",
    "plt.ylabel(\"y\")\n",
    "plt.legend()\n",
    "plt.grid(True)\n",
    "plt.show()\n",
    "\n",
    "# Print the fitted parameters\n",
    "print(\"Fitted Parameters:\")\n",
    "print(f\"d = {fitKupfer5[3]:.0e} ± {fitKupfer5[4][3]:.0e} Entspricht unserer Spannung bei Raumtemperatur\")"
   ]
  },
  {
   "cell_type": "code",
   "execution_count": 8,
   "metadata": {
    "code_folding": [],
    "scrolled": false
   },
   "outputs": [
    {
     "name": "stderr",
     "output_type": "stream",
     "text": [
      "<ipython-input-8-1ad765091b7d>:25: RuntimeWarning: invalid value encountered in sqrt\n",
      "  standardErrors = np.sqrt(np.diag(covariance))\n"
     ]
    },
    {
     "data": {
      "image/png": "[encoded data removed]",
      "text/plain": [
       "<Figure size 432x288 with 1 Axes>"
      ]
     },
     "metadata": {
      "needs_background": "light"
     },
     "output_type": "display_data"
    },
    {
     "name": "stdout",
     "output_type": "stream",
     "text": [
      "Fitted Parameters:\n",
      "d = -2e-04 ± 1e-04 Entspricht unserer Spannung bei Raumtemperatur\n"
     ]
    }
   ],
   "source": [
    "# Berechnen von Fits \n",
    "\n",
    "# Define the exponential function\n",
    "def exponentialFunc(x, a, b, c, d):\n",
    "    return a * np.exp(b * x + c) + d\n",
    "\n",
    "\n",
    "def fitExponential(xData,yData,startTime,endTime,initialGuesses):\n",
    "    \n",
    "    startIndex = timeToIndices(startTime, endTime, xData)[0]\n",
    "    endIndex = timeToIndices(startTime, endTime, xData)[1]\n",
    "    \n",
    "    # Slicen der Arrays für den Fit\n",
    "    xDataFitUnclean = xData[startIndex:endIndex]\n",
    "    yDataFitUnclean = yData[startIndex:endIndex]\n",
    "    \n",
    "    # Entfernen von NaN Werten\n",
    "    xDataFit = clearNaNs(xDataFitUnclean,yDataFitUnclean)[0]\n",
    "    yDataFit = clearNaNs(xDataFitUnclean,yDataFitUnclean)[1]\n",
    "    \n",
    "    # Curve Fit mittels scypy\n",
    "    params, covariance = curve_fit(exponentialFunc, xDataFit, yDataFit,\n",
    "                                   p0=initialGuesses,maxfev = 80000)\n",
    "    \n",
    "    standardErrors = np.sqrt(np.diag(covariance))\n",
    "    \n",
    "    # Parameter Extrahieren\n",
    "    aFit, bFit, cFit, dFit = params\n",
    "    \n",
    "    \n",
    "    xFit = np.linspace(min(xDataFit), max(xDataFit), 100)\n",
    "    yFit = exponentialFunc(xFit, aFit, bFit, cFit, dFit)\n",
    "    \n",
    "    fitReturn = aFit, bFit, cFit, dFit, standardErrors, xFit, yFit, xDataFit, yDataFit\n",
    "    \n",
    "    return fitReturn\n",
    "\n",
    "\n",
    "initialGuesses5 = np.array([0.00001,-0.01,10,0])\n",
    "fitKupfer5 = fitExponential(zeitKupferMessung, spannungUA1KupferMessung,60,250,initialGuesses5)\n",
    "\n",
    "\n",
    "\n",
    "\n",
    "# Initial Guess Plot\n",
    "# plt.plot(np.linspace(60,250,100),exponentialFunc(np.linspace(60,250,100),\n",
    "#                   initialGuesses5[0], initialGuesses5[1], initialGuesses5[2], initialGuesses5[3]))\n",
    "\n",
    "# Originale und Fittet Curve Plotten\n",
    "plt.errorbar(fitKupfer5[7], fitKupfer5[8], label=\"Measured Data (Cut)\")\n",
    "plt.plot(fitKupfer5[5], fitKupfer5[6], 'r-', label=\"Fitted Curve\")\n",
    "\n",
    "# Plot Labeln\n",
    "plt.xlabel(\"x\")\n",
    "plt.ylabel(\"y\")\n",
    "plt.legend()\n",
    "plt.grid(True)\n",
    "plt.show()\n",
    "\n",
    "# Print the fitted parameters\n",
    "print(\"Fitted Parameters:\")\n",
    "print(f\"d = {fitKupfer5[3]:.0e} ± {fitKupfer5[4][3]:.0e} Entspricht unserer Spannung bei Raumtemperatur\")"
   ]
  },
  {
   "cell_type": "markdown",
   "metadata": {},
   "source": [
    "### Umwandlung der Schaltkreisspannung in einen Widerstand"
   ]
  },
  {
   "cell_type": "code",
   "execution_count": 9,
   "metadata": {},
   "outputs": [],
   "source": [
    "widerstandMessungKupfer = np.array([])\n",
    "widerstandMessungKupferErr = np.array([])\n",
    "\n",
    "for el in spannungUB1KupferMessung:\n",
    "    widerstand, widerstandErr = DivisionMitFehler(el, spannungErr, stromStärke, stromStärkeErr)\n",
    "    widerstandMessungKupfer = np.append(widerstandMessungKupfer, widerstand)\n",
    "    widerstandMessungKupferErr = np.append(widerstandMessungKupferErr, widerstandErr)"
   ]
  },
  {
   "cell_type": "markdown",
   "metadata": {},
   "source": [
    "### Residualwiderstand berechnen"
   ]
  },
  {
   "cell_type": "code",
   "execution_count": 10,
   "metadata": {},
   "outputs": [
    {
     "data": {
      "text/markdown": [
       "Es ergibt ein Residualwiderstand von: $ 215.9 \\pm 0.4$m$\\Omega$"
      ],
      "text/plain": [
       "<IPython.core.display.Markdown object>"
      ]
     },
     "execution_count": 10,
     "metadata": {},
     "output_type": "execute_result"
    }
   ],
   "source": [
    "# Bereich des Plateaus auswählen\n",
    "plateauWerte = widerstandMessungKupfer[365:1550]\n",
    "    \n",
    "# Nan-Werte im Plateaubereich löschen\n",
    "plateauWerte = np.delete(plateauWerte, np.where(np.isnan(plateauWerte))[0])\n",
    "\n",
    "# Mittelwert und Fehler des Plateaus berechnen\n",
    "plateauMittelwert = am(plateauWerte)\n",
    "plateauMittelwertErr = stu(plateauWerte)\n",
    "\n",
    "md(f\"\"\"Es ergibt ein Residualwiderstand von: $ {plateauMittelwert*1000:0.1f} \\pm {plateauMittelwertErr*1000:0.1f}$m$\\Omega$\"\"\")\n"
   ]
  },
  {
   "cell_type": "code",
   "execution_count": 11,
   "metadata": {},
   "outputs": [],
   "source": [
    "# Umwandlung Spannung -> Temperatur für Kupfer\n",
    "spannungKalt = platueMean # V\n",
    "spannungWarm = fitKupfer5[3]   # V\n",
    "\n",
    "tempFlüssigerStickstoff = 77 # °K\n",
    "tempRaum = 293.15             # °K = 20 °C\n",
    "tempErr = 1\n",
    "\n",
    "m = bestM(np.array([spannungKalt, spannungWarm]),np.array([tempFlüssigerStickstoff, tempRaum])) # °K/V\n",
    "b = bestB(np.array([spannungKalt, spannungWarm]),np.array([tempFlüssigerStickstoff, tempRaum])) # °K\n",
    "\n",
    "temperaturMessungKupfer = spannungUA1KupferMessung*(m) + b\n",
    "temperaturMessungKupferErr = spannungErr/spannungUA1KupferMessung*(m) + (spannungErr/spannungUA1KupferMessung)*b"
   ]
  },
  {
   "cell_type": "code",
   "execution_count": 12,
   "metadata": {},
   "outputs": [
    {
     "name": "stderr",
     "output_type": "stream",
     "text": [
      "<ipython-input-12-fc083401072e>:13: RuntimeWarning: invalid value encountered in greater\n",
      "  tempKritKupfer = temperaturMessungKupferCut[np.argmax(widerstandMessungKupferCut > 0.2215215)]\n",
      "<ipython-input-12-fc083401072e>:14: RuntimeWarning: invalid value encountered in greater\n",
      "  tempKritKupferErr = abs(temperaturMessungKupferErrCut[np.argmax(widerstandMessungKupferCut > 0.2215215)])\n"
     ]
    },
    {
     "data": {
      "text/markdown": [
       "Der Wert der kritischen Temperatur für Kupfer beträgt: $255.3 \\pm 2.5$ [°K]"
      ],
      "text/plain": [
       "<IPython.core.display.Markdown object>"
      ]
     },
     "execution_count": 12,
     "metadata": {},
     "output_type": "execute_result"
    },
    {
     "data": {
      "text/plain": [
       "<Figure size 1152x576 with 0 Axes>"
      ]
     },
     "metadata": {},
     "output_type": "display_data"
    }
   ],
   "source": [
    "# Plotgröße anpassen\n",
    "plt.figure(figsize=(16, 8))\n",
    "\n",
    "widerstandMessungKupferCut = widerstandMessungKupfer[1200:2500]\n",
    "temperaturMessungKupferCut = temperaturMessungKupfer[1200:2500]\n",
    "temperaturMessungKupferErrCut = temperaturMessungKupferErr[1200:2500]\n",
    "\n",
    "widerstandMessungKupferErrCut = widerstandMessungKupferErr[1200:2500]\n",
    "temperaturMessungKupferErrCut = temperaturMessungKupferErr[1200:2500]\n",
    "\n",
    "\n",
    "\n",
    "tempKritKupfer = temperaturMessungKupferCut[np.argmax(widerstandMessungKupferCut > 0.2215215)]\n",
    "tempKritKupferErr = abs(temperaturMessungKupferErrCut[np.argmax(widerstandMessungKupferCut > 0.2215215)])\n",
    "\n",
    "# # Daten zeichnen\n",
    "# plt.errorbar(temperaturMessungKupferCut,widerstandMessungKupferCut,\n",
    "#              fmt='.', color='darkblue', label='Berechneter Widerstand von Kupfer')\n",
    "\n",
    "# xerr=temperaturMessungKupferErrCut,yerr=widerstandMessungKupferErrCut,\n",
    "\n",
    "# # Kritische Temperatur einzeichnen\n",
    "# plt.errorbar(tempKritHTS, widerstandMessung1HTS[114], xerr=tempKritHTSErr, yerr=widerstandMessung1HTSErr[114],\n",
    "#                                     fmt='x', color='crimson', label='Kritische Temperatur')\n",
    "\n",
    "\n",
    "# # labels und legend\n",
    "# plt.xlabel(r'Temperatur [°K]')\n",
    "# plt.ylabel(r'Widerstand [$\\Omega$]')\n",
    "# plt.legend()\n",
    "\n",
    "# # Plot anzeigen lassen\n",
    "# plt.grid(True)\n",
    "# plt.title('Spannung gegen die Zeit aufgetragen')\n",
    "# plt.show()\n",
    "\n",
    "md(f\"\"\"Der Wert der kritischen Temperatur für Kupfer beträgt: ${tempKritKupfer:.1f} \\pm {tempKritKupferErr:.1f}$ [°K]\"\"\")"
   ]
  },
  {
   "cell_type": "markdown",
   "metadata": {},
   "source": [
    "## 2. Versuchsteil: Messung des Supraleiters"
   ]
  },
  {
   "cell_type": "markdown",
   "metadata": {},
   "source": [
    "### Aufzeichnen der Ursprünglichen Messdaten"
   ]
  },
  {
   "cell_type": "code",
   "execution_count": 13,
   "metadata": {},
   "outputs": [
    {
     "data": {
      "image/png": "[encoded data removed]",
      "text/plain": [
       "<Figure size 1152x576 with 1 Axes>"
      ]
     },
     "metadata": {
      "needs_background": "light"
     },
     "output_type": "display_data"
    }
   ],
   "source": [
    "# Plotgröße anpassen\n",
    "plt.figure(figsize=(16, 8))\n",
    "\n",
    "# Gemessene Spannungswerte auftragen\n",
    "plt.errorbar(zeitMessung1HTS, spannungUA1Messung1HTS, xerr=0, yerr=0, \n",
    "             fmt='.', color='darkblue', label='Spannungen Widerstand')\n",
    "\n",
    "plt.errorbar(zeitMessung1HTS, spannungUB1Messung1HTS, xerr=0, yerr=0, \n",
    "             fmt='.', color='crimson', label='Spannungen Draht')\n",
    "\n",
    "# labels und legend\n",
    "plt.xlabel(r'Zeit [s]')\n",
    "plt.ylabel(r'Spannung [V]')\n",
    "plt.legend()\n",
    "\n",
    "# Plot anzeigen lassen\n",
    "plt.grid(True)\n",
    "plt.title('Spannung gegen die Zeit aufgetragen')\n",
    "plt.show()"
   ]
  },
  {
   "cell_type": "markdown",
   "metadata": {},
   "source": [
    "### Umwandlung der Spannung des Widerstandsthermometers in eine Temperatur"
   ]
  },
  {
   "cell_type": "code",
   "execution_count": 14,
   "metadata": {},
   "outputs": [],
   "source": [
    "# Umwandlung Spannung -> Temperatur für Supraleiter\n",
    "spannungKalt = 192.35e-3 # V\n",
    "spannungWarm = -9.8e-3   # V\n",
    "\n",
    "tempFlüssigerStickstoff = 77 # °K\n",
    "tempRaum = 293.15             # °K = 20 °C\n",
    "tempErr = 1\n",
    "\n",
    "m = bestM(np.array([spannungKalt, spannungWarm]),np.array([tempFlüssigerStickstoff, tempRaum])) # °K/V\n",
    "b = bestB(np.array([spannungKalt, spannungWarm]),np.array([tempFlüssigerStickstoff, tempRaum])) # °K\n",
    "\n",
    "temperaturMessung1HTS = spannungUA1Messung1HTS*(m) + b\n",
    "temperaturMessung1HTSErr = spannungErr/spannungUA1Messung1HTS*(m) + (spannungErr/spannungUA1Messung1HTS)*b"
   ]
  },
  {
   "cell_type": "markdown",
   "metadata": {},
   "source": [
    "### Umwandlung der Schaltkreisspannung in einen Widerstand"
   ]
  },
  {
   "cell_type": "code",
   "execution_count": 15,
   "metadata": {},
   "outputs": [
    {
     "name": "stderr",
     "output_type": "stream",
     "text": [
      "<ipython-input-3-8ab7db670773>:31: RuntimeWarning: divide by zero encountered in double_scalars\n",
      "  deltaC = abs(C) * math.sqrt((deltaA / A)**2 + (deltaB / B)**2)\n",
      "<ipython-input-3-8ab7db670773>:31: RuntimeWarning: invalid value encountered in double_scalars\n",
      "  deltaC = abs(C) * math.sqrt((deltaA / A)**2 + (deltaB / B)**2)\n"
     ]
    }
   ],
   "source": [
    "widerstandMessung1HTS = np.array([])\n",
    "widerstandMessung1HTSErr = np.array([])\n",
    "\n",
    "for el in spannungUB1Messung1HTS:\n",
    "    widerstand, widerstandErr = DivisionMitFehler(el, spannungErr,stromStärke,stromStärkeErr)\n",
    "    widerstandMessung1HTS = np.append(widerstandMessung1HTS, widerstand)\n",
    "    widerstandMessung1HTSErr = np.append(widerstandMessung1HTSErr, widerstandErr)\n",
    "\n",
    "tempKritHTS = temperaturMessung1HTS[114]\n",
    "tempKritHTSErr = abs(temperaturMessung1HTSErr[114])"
   ]
  },
  {
   "cell_type": "markdown",
   "metadata": {},
   "source": [
    "### Aufzeichnen der Daten"
   ]
  },
  {
   "cell_type": "code",
   "execution_count": 16,
   "metadata": {},
   "outputs": [
    {
     "data": {
      "image/png": "[encoded data removed]",
      "text/plain": [
       "<Figure size 1152x576 with 1 Axes>"
      ]
     },
     "metadata": {
      "needs_background": "light"
     },
     "output_type": "display_data"
    },
    {
     "data": {
      "text/markdown": [
       "Der Wert der kritischen Temperatur beträgt: $105.7 \\pm 0.5$ [°K]"
      ],
      "text/plain": [
       "<IPython.core.display.Markdown object>"
      ]
     },
     "execution_count": 16,
     "metadata": {},
     "output_type": "execute_result"
    }
   ],
   "source": [
    "# Plotgröße anpassen\n",
    "plt.figure(figsize=(16, 8))\n",
    "\n",
    "# Daten zeichnen\n",
    "plt.errorbar(temperaturMessung1HTS, widerstandMessung1HTS, xerr=temperaturMessung1HTSErr, yerr=widerstandMessung1HTSErr, \n",
    "             fmt='.', color='darkblue', label='Berechneter Widerstand des Supraleiters')\n",
    "\n",
    "# Kritische Temperatur einzeichnen\n",
    "plt.errorbar(tempKritHTS, widerstandMessung1HTS[114], xerr=tempKritHTSErr, yerr=widerstandMessung1HTSErr[114],\n",
    "                                    fmt='x', color='crimson', label='Kritische Temperatur')\n",
    "\n",
    "\n",
    "# labels und legend\n",
    "plt.xlabel(r'Temperatur [°K]')\n",
    "plt.ylabel(r'Widerstand [$\\Omega$]')\n",
    "plt.legend()\n",
    "\n",
    "# Plot anzeigen lassen\n",
    "plt.grid(True)\n",
    "plt.title('Spannung gegen die Zeit aufgetragen')\n",
    "plt.show()\n",
    "\n",
    "md(f\"\"\"Der Wert der kritischen Temperatur beträgt: ${tempKritHTS:.1f} \\pm {tempKritHTSErr:.1f}$ [°K]\"\"\")"
   ]
  },
  {
   "cell_type": "markdown",
   "metadata": {},
   "source": [
    "### Berechnung t-Werte"
   ]
  },
  {
   "cell_type": "code",
   "execution_count": 17,
   "metadata": {},
   "outputs": [
    {
     "name": "stdout",
     "output_type": "stream",
     "text": [
      "1.492833795985474\n"
     ]
    }
   ],
   "source": [
    "tHTS = vertraeglichkeit(tempKritHTS, 105, tempKritHTSErr, 0)\n",
    "\n",
    "print(tHTS)"
   ]
  },
  {
   "cell_type": "markdown",
   "metadata": {},
   "source": [
    "# Diskussion\n",
    "## Zusammenfassung der Ergebnisse\n",
    "Als kritische Temperatur des Kupferdrahtes $T_\\text{c, cu}$ ergab sich:\n",
    "$$\n",
    "\tT_\\text{c, cu} = 255 \\pm 3 \\text{ °K}\n",
    "$$\n",
    "Damit können unsere Messungen die Literaturwerte der kritischen Temperatur des Kupferdrahtes nicht bestätigen, diese liegt eher um die 20 °K. Dabei betrag der Residualwiderstand $R_\\text{res}$:\n",
    "$$\n",
    "\tR_\\text{res} = 215.9 \\pm 0.4 \\times 10^{-3}\\Omega\n",
    "$$\n",
    "Dies stimmt auch (nicht) mit der Literatur überein.\n",
    "Für die kritische Temperatur des Supraleiters und den dazugehörige t-Wert unter Vergleich mit einem Wert, der für diese Art von Leitern typisch ist (genaueres hierzu in der Präsentation), $t_\\text{su}$ wurden folgende Werte ermittelt:\n",
    "$$\n",
    "\tT_\\text{c, su} = 105.7 \\pm 0.5 \\text{ °K} \\quad  t_\\text{su} \\approx 1.5\n",
    "$$.\\\\\n"
   ]
  },
  {
   "cell_type": "markdown",
   "metadata": {},
   "source": [
    "# Verbesserte Messmethoden\n",
    "Das Thermometer könnte besser Kalibriert werden, durch hinzunahme weiterer bekannter Temperaturen für jene, etwa 0 C°, könnte die Genauigkeit der Eichung erhöht werden."
   ]
  }
 ],
 "metadata": {
  "kernelspec": {
   "display_name": "Python 3",
   "language": "python",
   "name": "python3"
  },
  "language_info": {
   "codemirror_mode": {
    "name": "ipython",
    "version": 3
   },
   "file_extension": ".py",
   "mimetype": "text/x-python",
   "name": "python",
   "nbconvert_exporter": "python",
   "pygments_lexer": "ipython3",
   "version": "3.8.3"
  }
 },
 "nbformat": 4,
 "nbformat_minor": 4
}
