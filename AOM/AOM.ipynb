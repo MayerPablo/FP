{
 "cells": [
  {
   "cell_type": "markdown",
   "metadata": {},
   "source": [
    "# Imports"
   ]
  },
  {
   "cell_type": "code",
   "execution_count": 1,
   "metadata": {},
   "outputs": [],
   "source": [
    "import numpy as np\n",
    "import sympy as sp\n",
    "from sympy import *\n",
    "import re\n",
    "\n",
    "import pandas as pd\n",
    "import os\n",
    "\n",
    "import matplotlib.pyplot as plt\n",
    "import matplotlib.colors as c\n",
    "from matplotlib.ticker import PercentFormatter\n",
    "from matplotlib import rcParams\n",
    "from mpl_toolkits.axes_grid1.inset_locator import zoomed_inset_axes\n",
    "from mpl_toolkits.axes_grid1.inset_locator import mark_inset\n",
    "\n",
    "from math import log10, floor\n",
    "from math import *\n",
    "import math\n",
    "\n",
    "from IPython.display import display, Latex\n",
    "from IPython.display import Markdown as md\n",
    "\n",
    "import scipy.constants as pc\n",
    "from scipy.integrate import quad as quad\n",
    "from scipy.optimize import curve_fit\n",
    "from scipy.optimize import minimize\n",
    "from scipy import stats"
   ]
  },
  {
   "cell_type": "markdown",
   "metadata": {},
   "source": [
    "# Matplotlib Parameters"
   ]
  },
  {
   "cell_type": "code",
   "execution_count": 2,
   "metadata": {},
   "outputs": [],
   "source": [
    "rcParams['font.size'] = 16\n",
    "rcParams['font.weight'] = 'bold'\n",
    "rcParams['text.usetex'] = True\n",
    "rcParams['axes.grid'] = True\n",
    "rcParams['font.family'] = 'serif'\n",
    "rcParams['font.sans-serif'] = ['Latin Modern Math']\n",
    "rcParams['xtick.labelsize'] = 18\n",
    "rcParams['ytick.labelsize'] = 18\n",
    "rcParams[\"xtick.minor.size\"] =  4\n",
    "rcParams[\"ytick.minor.size\"] =  4\n",
    "rcParams[\"xtick.minor.visible\"] =  True\n",
    "rcParams[\"ytick.minor.visible\"] =  True\n",
    "plt.rcParams[\"figure.autolayout\"] = True"
   ]
  },
  {
   "cell_type": "markdown",
   "metadata": {},
   "source": [
    "# Selfcoded functions"
   ]
  },
  {
   "cell_type": "code",
   "execution_count": 3,
   "metadata": {
    "jupyter": {
     "source_hidden": true
    },
    "tags": []
   },
   "outputs": [],
   "source": [
    "# Funktionen\n",
    "def am(werte):\n",
    "    return np.mean(werte)\n",
    "\n",
    "def std(werte):\n",
    "    summen_der_quadrate = 0\n",
    "    for wert in werte:\n",
    "        summen_der_quadrate+=(wert-am(werte))**2       \n",
    "    return np.sqrt(summen_der_quadrate/(werte.size-1))\n",
    "\n",
    "def stu(werte):\n",
    "    return std(werte)/np.sqrt(werte.size)\n",
    "\n",
    "def fehler(f, werte, unsicherheiten, variablen):\n",
    "    zMax = 0\n",
    "    for i in range(werte.size):\n",
    "        dif = np.abs(sy.diff(f, variablen[i]))\n",
    "        zMax += (dif * unsicherheiten[i])**2\n",
    "    zMax = sqrt(zMax)\n",
    "    for j in range(werte.size):\n",
    "        zMax = sub(zMax, variablen[j], werte[j])\n",
    "    return zMax\n",
    "\n",
    "def sub(zMax, variable, wert):\n",
    "    return zMax.subs([(variable, wert)])\n",
    "\n",
    "def einfachGaussAdd(unsicherheiten, koeffizienten):\n",
    "    dz = 0\n",
    "    for i in range (unsicherheiten.size):\n",
    "        dz += (koeffizienten[i]*unsicherheiten[i])**2\n",
    "    return sqrt(dz)\n",
    "\n",
    "def einfachGaussMult(unsicherheiten, werte, exponenten):\n",
    "    dz = 0\n",
    "    for i in range (unsicherheiten.size):\n",
    "        dz += (exponenten[i]*unsicherheiten[i]/werte[i])**2\n",
    "    return sqrt(dz)\n",
    "\n",
    "def einfachGaussMultMax(unsicherheiten, werte, exponenten):\n",
    "    max_a = 0\n",
    "    num = -1\n",
    "    for i in range (unsicherheiten.size):\n",
    "        maxi = (exponenten[i]*unsicherheiten[i]/werte[i])**2\n",
    "        if max_a <= maxi:\n",
    "            max_a = maxi\n",
    "            num = i\n",
    "    return (max_a, num)\n",
    "\n",
    "# Formula for Gaussian error propagation with result\n",
    "def DivisionMitFehler(A, deltaA, B, deltaB): # for C=A/B\n",
    "    C = A/B\n",
    "    deltaC = abs(C) * math.sqrt((deltaA / A)**2 + (deltaB / B)**2)\n",
    "    return C,deltaC\n",
    "\n",
    "def MultiplikationMitFehler(A, deltaA, B, deltaB): #for C=A*B\n",
    "    C = A * B\n",
    "    deltaC = abs(C) * ((deltaA / abs(A)) + (deltaB / abs(B)))\n",
    "    return C, deltaC\n",
    "\n",
    "# t-value for without literature value\n",
    "def vertraeglichkeit(am_1, am_2, stu_1, stu_2):\n",
    "    return (np.abs(am_1-am_2)/(sqrt((stu_1**2)+(stu_2**2))))\n",
    "\n",
    "# analytic linear regression y(x)=m*x + b calculates m\n",
    "def bestM(x, y):\n",
    "    return (x.size*sum(x*y)-sum(x)*sum(y))/(x.size*sum(x**2)-sum(x)**2)\n",
    "\n",
    "# analytic linear regression y(x)=m*x + b calculates b\n",
    "def bestB(x, y):\n",
    "    return (sum(x**2)*sum(y)-sum(x)*sum(x*y))/(x.size*sum(x**2)-sum(x)**2)\n",
    "\n",
    "# analytic linear regression calculates variance \n",
    "# (only used for next two functions, never gets called on its own, enhances readability) \n",
    "def streuung(x, y):\n",
    "    s = 0\n",
    "    for i in range(x.size):\n",
    "        s += (y[i]-(bestB(x, y)+bestM(x, y)*x[i]))**2\n",
    "    return np.sqrt(s/(x.size-2))\n",
    "\n",
    "# analytic linear regression y(x)=m*x + b calculates error on m\n",
    "def stuM(x, y):\n",
    "    s = streuung(x, y)\n",
    "    return s*np.sqrt(x.size/((x.size*sum(x**2)-sum(x)**2)))\n",
    "\n",
    "# analytic linear regression y(x)=m*x + b calculates error on b\n",
    "def stuB(x, y):\n",
    "    s = streuung(x, y)\n",
    "    return s*np.sqrt(sum(x**2)/((x.size*sum(x**2)-sum(x)**2)))\n",
    "\n",
    "def round_to_j(x,j):\n",
    "    return round(x, (j-1)-int(floor(log10(abs(x)))))"
   ]
  },
  {
   "cell_type": "markdown",
   "metadata": {},
   "source": [
    "## Enter lab data"
   ]
  },
  {
   "cell_type": "code",
   "execution_count": 6,
   "metadata": {},
   "outputs": [
    {
     "name": "stdout",
     "output_type": "stream",
     "text": [
      "22 22 22\n"
     ]
    }
   ],
   "source": [
    "distanceA = 0.65\n",
    "\n",
    "# First meassurement: Change in frequency\n",
    "frequencies1 = np.array([20,30,40,50,60,70,80,90,100])\n",
    "distancesB1 = np.array([2.3,2.7,4.0,4.65,5.0,5.65,6.2,7.65,8.7]) / 1000\n",
    "disntacesBErr = np.array([0.2]) / 1000\n",
    "\n",
    "#Second meassurement: Change in Amplitudey\n",
    "rfAmplitude2 = np.array([0.5,0.6,0.7,0.8,0.9,1,1.1,1.2,1.3,1.4,1.5,1.6,1.7,1.8,1.9,2.0,2.1,2.2,2.3,2.4,2.5,2.6])\n",
    "outputPhotodiode2 = np.array([1.16,1.21,1.29,1.37,1.46,1.56,1.66,1.76,1.81,1.93,1.98,2.07,2.11,2.20,2.12,2.12,2.13,2.12,2.14\n",
    "                              ,2.10,2.14,2.12])\n",
    "dinstancesB2Err = np.array([7.2,7.2,7.5,7.1,7.2,7.0,7.3,7.2,7.2,7.3,7.4,7.5,7.2,7.3,7.1,7.4,7.6,7.7,7.5,7.4,7.5,7.6])\n",
    "\n",
    "#Measurement for speed of sound\n",
    "beamWidth = 1.2/1000\n",
    "beamWidthErr = 0.05 /1000\n",
    "\n",
    "riseTime = \n",
    "riseTimeErr = \n",
    "\n"
   ]
  },
  {
   "cell_type": "markdown",
   "metadata": {},
   "source": [
    "## Plot lab data"
   ]
  }
 ],
 "metadata": {
  "kernelspec": {
   "display_name": "Python 3",
   "language": "python",
   "name": "python3"
  },
  "language_info": {
   "codemirror_mode": {
    "name": "ipython",
    "version": 3
   },
   "file_extension": ".py",
   "mimetype": "text/x-python",
   "name": "python",
   "nbconvert_exporter": "python",
   "pygments_lexer": "ipython3",
   "version": "3.8.5"
  }
 },
 "nbformat": 4,
 "nbformat_minor": 4
}
