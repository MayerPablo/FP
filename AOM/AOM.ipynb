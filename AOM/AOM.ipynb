{
 "cells": [
  {
   "cell_type": "markdown",
   "metadata": {},
   "source": [
    "# Imports"
   ]
  },
  {
   "cell_type": "code",
   "execution_count": 1,
   "metadata": {},
   "outputs": [],
   "source": [
    "import numpy as np\n",
    "import sympy as sp\n",
    "from sympy import *\n",
    "import re\n",
    "\n",
    "import pandas as pd\n",
    "import os\n",
    "\n",
    "import matplotlib.pyplot as plt\n",
    "import matplotlib.colors as c\n",
    "from matplotlib.ticker import PercentFormatter\n",
    "from matplotlib import rcParams\n",
    "from mpl_toolkits.axes_grid1.inset_locator import zoomed_inset_axes\n",
    "from mpl_toolkits.axes_grid1.inset_locator import mark_inset\n",
    "\n",
    "from math import log10, floor\n",
    "from math import *\n",
    "import math\n",
    "\n",
    "from IPython.display import display, Latex\n",
    "from IPython.display import Markdown as md\n",
    "\n",
    "import scipy.constants as pc\n",
    "from scipy.integrate import quad as quad\n",
    "from scipy.optimize import curve_fit\n",
    "from scipy.optimize import minimize\n",
    "from scipy import stats"
   ]
  },
  {
   "cell_type": "markdown",
   "metadata": {},
   "source": [
    "# Matplotlib Parameters"
   ]
  },
  {
   "cell_type": "code",
   "execution_count": 2,
   "metadata": {},
   "outputs": [],
   "source": [
    "rcParams['font.size'] = 16\n",
    "rcParams['font.weight'] = 'bold'\n",
    "rcParams['text.usetex'] = True\n",
    "rcParams['axes.grid'] = True\n",
    "rcParams['font.family'] = 'serif'\n",
    "rcParams['font.sans-serif'] = ['Latin Modern Math']\n",
    "rcParams['xtick.labelsize'] = 18\n",
    "rcParams['ytick.labelsize'] = 18\n",
    "rcParams[\"xtick.minor.size\"] =  4\n",
    "rcParams[\"ytick.minor.size\"] =  4\n",
    "rcParams[\"xtick.minor.visible\"] =  True\n",
    "rcParams[\"ytick.minor.visible\"] =  True\n",
    "plt.rcParams[\"figure.autolayout\"] = True"
   ]
  },
  {
   "cell_type": "markdown",
   "metadata": {},
   "source": [
    "# Selfcoded functions"
   ]
  },
  {
   "cell_type": "code",
   "execution_count": 19,
   "metadata": {
    "jupyter": {
     "source_hidden": true
    },
    "tags": []
   },
   "outputs": [],
   "source": [
    "# Funktionen\n",
    "def am(werte):\n",
    "    return np.mean(werte)\n",
    "\n",
    "def std(werte):\n",
    "    summen_der_quadrate = 0\n",
    "    for wert in werte:\n",
    "        summen_der_quadrate+=(wert-am(werte))**2       \n",
    "    return np.sqrt(summen_der_quadrate/(werte.size-1))\n",
    "\n",
    "def stu(werte):\n",
    "    return std(werte)/np.sqrt(werte.size)\n",
    "\n",
    "def fehler(f, werte, unsicherheiten, variablen):\n",
    "    zMax = 0\n",
    "    for i in range(werte.size):\n",
    "        dif = np.abs(sy.diff(f, variablen[i]))\n",
    "        zMax += (dif * unsicherheiten[i])**2\n",
    "    zMax = sqrt(zMax)\n",
    "    for j in range(werte.size):\n",
    "        zMax = sub(zMax, variablen[j], werte[j])\n",
    "    return zMax\n",
    "\n",
    "def sub(zMax, variable, wert):\n",
    "    return zMax.subs([(variable, wert)])\n",
    "\n",
    "def einfachGaussAdd(unsicherheiten, koeffizienten):\n",
    "    dz = 0\n",
    "    for i in range (unsicherheiten.size):\n",
    "        dz += (koeffizienten[i]*unsicherheiten[i])**2\n",
    "    return sqrt(dz)\n",
    "\n",
    "def einfachGaussMult(unsicherheiten, werte, exponenten):\n",
    "    dz = 0\n",
    "    for i in range (unsicherheiten.size):\n",
    "        dz += (exponenten[i]*unsicherheiten[i]/werte[i])**2\n",
    "    return sqrt(dz)\n",
    "\n",
    "def einfachGaussMultMax(unsicherheiten, werte, exponenten):\n",
    "    max_a = 0\n",
    "    num = -1\n",
    "    for i in range (unsicherheiten.size):\n",
    "        maxi = (exponenten[i]*unsicherheiten[i]/werte[i])**2\n",
    "        if max_a <= maxi:\n",
    "            max_a = maxi\n",
    "            num = i\n",
    "    return (max_a, num)\n",
    "\n",
    "# Formula for Gaussian error propagation with result\n",
    "def DivisionMitFehler(A, deltaA, B, deltaB): # for C=A/B\n",
    "    C = A/B\n",
    "    deltaC = abs(C) * math.sqrt((deltaA / A)**2 + (deltaB / B)**2)\n",
    "    return C,deltaC\n",
    "\n",
    "def MultiplikationMitFehler(A, deltaA, B, deltaB): #for C=A*B\n",
    "    C = A * B\n",
    "    deltaC = abs(C) * ((deltaA / abs(A)) + (deltaB / abs(B)))\n",
    "    return C, deltaC\n",
    "\n",
    "# t-value for without literature value\n",
    "def vertraeglichkeit(am_1, am_2, stu_1, stu_2):\n",
    "    return (np.abs(am_1-am_2)/(sqrt((stu_1**2)+(stu_2**2))))\n",
    "\n",
    "# analytic linear regression y(x)=m*x + b calculates m\n",
    "def bestM(x, y):\n",
    "    return (x.size*sum(x*y)-sum(x)*sum(y))/(x.size*sum(x**2)-sum(x)**2)\n",
    "\n",
    "# analytic linear regression y(x)=m*x + b calculates b\n",
    "def bestB(x, y):\n",
    "    return (sum(x**2)*sum(y)-sum(x)*sum(x*y))/(x.size*sum(x**2)-sum(x)**2)\n",
    "\n",
    "# analytic linear regression calculates variance \n",
    "# (only used for next two functions, never gets called on its own, enhances readability) \n",
    "def streuung(x, y):\n",
    "    s = 0\n",
    "    for i in range(x.size):\n",
    "        s += (y[i]-(bestB(x, y)+bestM(x, y)*x[i]))**2\n",
    "    return np.sqrt(s/(x.size-2))\n",
    "\n",
    "# analytic linear regression y(x)=m*x + b calculates error on m\n",
    "def stuM(x, y):\n",
    "    s = streuung(x, y)\n",
    "    return s*np.sqrt(x.size/((x.size*sum(x**2)-sum(x)**2)))\n",
    "\n",
    "# analytic linear regression y(x)=m*x + b calculates error on b\n",
    "def stuB(x, y):\n",
    "    s = streuung(x, y)\n",
    "    return s*np.sqrt(sum(x**2)/((x.size*sum(x**2)-sum(x)**2)))\n",
    "\n",
    "def round_to_j(x,j):\n",
    "    return round(x, (j-1)-int(floor(log10(abs(x)))))"
   ]
  },
  {
   "cell_type": "markdown",
   "metadata": {},
   "source": [
    "## Enter lab data"
   ]
  },
  {
   "cell_type": "code",
   "execution_count": 23,
   "metadata": {},
   "outputs": [],
   "source": [
    "distanceA = 0.65\n",
    "distanceAErr = 0.002\n",
    "\n",
    "# First meassurement: Change in frequency\n",
    "frequencies1 = np.array([20,30,40,50,60,70,80,90,100]) * 10**6\n",
    "distancesB1 = np.array([2.3,2.7,4.0,4.65,5.0,5.65,6.2,7.65,8.7]) / 1000\n",
    "distancesBErr = 0.2 / 1000\n",
    "\n",
    "#Second meassurement: Change in Amplitudey\n",
    "rfAmplitude2 = np.array([0.5,0.6,0.7,0.8,0.9,1,1.1,1.2,1.3,1.4,1.5,1.6,1.7,1.8,1.9,2.0,2.1,2.2,2.3,2.4,2.5,2.6])\n",
    "outputPhotodiode2 = np.array([1.16,1.21,1.29,1.37,1.46,1.56,1.66,1.76,1.81,1.93,1.98,2.07,2.11,2.20,2.12,2.12,2.13,2.12,2.14\n",
    "                              ,2.10,2.14,2.12])\n",
    "distancesB2 = np.array([7.2,7.2,7.5,7.1,7.2,7.0,7.3,7.2,7.2,7.3,7.4,7.5,7.2,7.3,7.1,7.4,7.6,7.7,7.5,7.4,7.5,7.6])\n",
    "\n",
    "#Measurement for speed of sound\n",
    "beamWidth = 1.2/1000\n",
    "beamWidthErr = 0.05 /1000\n",
    "\n",
    "riseTime = 3.91e-6\n",
    "riseTimeErr = 0.1e-6"
   ]
  },
  {
   "cell_type": "markdown",
   "metadata": {},
   "source": [
    "## Plot lab data"
   ]
  },
  {
   "cell_type": "code",
   "execution_count": 33,
   "metadata": {},
   "outputs": [
    {
     "name": "stdout",
     "output_type": "stream",
     "text": [
      "0.20273806598452543 0.003076910026548613\n",
      "0.2379964845364806 0.003076918364835252\n",
      "0.35258496165650843 0.0030770395862169076\n",
      "0.4098781998141587 0.0030771911744227405\n",
      "0.44072807276101417 0.0030773098926562556\n",
      "0.49802000241590816 0.0030776180744207815\n",
      "0.5464970157613679 0.003077987878317971\n",
      "0.6742961190132348 0.0030796127085397627\n",
      "0.7668361817604762 0.0030815818773652975\n"
     ]
    }
   ],
   "source": [
    "#Varying Frequency\n",
    "\n",
    "anglesFreq = np.arctan(distancesB1/distanceA) * 180/pi\n",
    "anglesFreqErr = np.sqrt((distanceA/(distanceA**2 + distancesB1**2) * distanceAErr)**2 +\n",
    "                       (distancesB1/(distanceA**2 + distancesB1**2) * distancesB1)**2)\n",
    "\n",
    "for i in range(len(anglesFreq)):\n",
    "    print(anglesFreq[i],anglesFreqErr[i])"
   ]
  },
  {
   "cell_type": "code",
   "execution_count": 34,
   "metadata": {},
   "outputs": [
    {
     "data": {
      "text/plain": [
       "0.12480306613523554"
      ]
     },
     "execution_count": 34,
     "metadata": {},
     "output_type": "execute_result"
    }
   ],
   "source": [
    "# Varying Amplitude\n",
    "\n",
    "anglesAmp = np.arctan(distancesB2/distanceA) * 180/pi\n",
    "anglesAmpMean = np.mean(anglesAmp)\n",
    "np.std(anglesAmp)"
   ]
  },
  {
   "cell_type": "markdown",
   "metadata": {},
   "source": [
    "### Part Two: Speed of sound measurement"
   ]
  },
  {
   "cell_type": "code",
   "execution_count": 22,
   "metadata": {},
   "outputs": [
    {
     "name": "stdout",
     "output_type": "stream",
     "text": [
      "202.55754475703324 \\pm 9.903002171913657\n"
     ]
    }
   ],
   "source": [
    "betaConst = 0.66\n",
    "\n",
    "speedSound1 = betaConst * beamWidth/riseTime\n",
    "speedSound1Err = np.sqrt((0.66 / riseTime * beamWidthErr)**2 + (0.66 * beamWidth/riseTime**2 * riseTimeErr)**2)\n",
    "\n",
    "print(speedSound1,r\"\\pm\",speedSound1Err)"
   ]
  },
  {
   "cell_type": "code",
   "execution_count": 35,
   "metadata": {},
   "outputs": [
    {
     "name": "stdout",
     "output_type": "stream",
     "text": [
      "M: 144911658.94332284 +- 8581117.433771461\n",
      "B: -6491508.7787492 +- 4217180.998174142\n",
      "77.09300255784775\n"
     ]
    },
    {
     "data": {
      "image/png": "[encoded data removed]",
      "text/plain": [
       "<Figure size 432x288 with 1 Axes>"
      ]
     },
     "metadata": {
      "needs_background": "light"
     },
     "output_type": "display_data"
    }
   ],
   "source": [
    "#Linear Regression fit\n",
    "\n",
    "plt.scatter(anglesFreq, frequencies1)\n",
    "\n",
    "#Linear Regression\n",
    "speedSoundBestM = bestM(anglesFreq, frequencies1)\n",
    "speedSoundBestB = bestB(anglesFreq, frequencies1)\n",
    "\n",
    "speedSoundBestMErr = stuM(anglesFreq, frequencies1)\n",
    "speedSoundBestBErr = stuB(anglesFreq, frequencies1)\n",
    "\n",
    "plt.plot(anglesFreq, speedSoundBestM * anglesFreq + speedSoundBestB)\n",
    "\n",
    "print(\"M:\",speedSoundBestM,\"+-\",speedSoundBestMErr)\n",
    "print(\"B:\",speedSoundBestB,\"+-\",speedSoundBestBErr)\n",
    "\n",
    "print(532e-9 * speedSoundBestM)\n",
    "\n",
    "plt.savefig(\"speedSoundReg.pdf\")"
   ]
  },
  {
   "cell_type": "code",
   "execution_count": null,
   "metadata": {},
   "outputs": [],
   "source": []
  },
  {
   "cell_type": "code",
   "execution_count": null,
   "metadata": {},
   "outputs": [],
   "source": []
  }
 ],
 "metadata": {
  "kernelspec": {
   "display_name": "Python 3",
   "language": "python",
   "name": "python3"
  },
  "language_info": {
   "codemirror_mode": {
    "name": "ipython",
    "version": 3
   },
   "file_extension": ".py",
   "mimetype": "text/x-python",
   "name": "python",
   "nbconvert_exporter": "python",
   "pygments_lexer": "ipython3",
   "version": "3.8.3"
  }
 },
 "nbformat": 4,
 "nbformat_minor": 4
}
