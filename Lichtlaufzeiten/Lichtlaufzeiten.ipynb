{
 "cells": [
  {
   "cell_type": "markdown",
   "metadata": {},
   "source": [
    "# Imports"
   ]
  },
  {
   "cell_type": "code",
   "execution_count": 1,
   "metadata": {},
   "outputs": [],
   "source": [
    "import numpy as np\n",
    "import sympy as sp\n",
    "import re\n",
    "import csv\n",
    "\n",
    "import matplotlib.pyplot as plt\n",
    "import matplotlib.colors as c\n",
    "from matplotlib.ticker import PercentFormatter\n",
    "from matplotlib import rcParams\n",
    "import scipy.constants as pc\n",
    "from sympy import *\n",
    "from math import log10, floor\n",
    "from math import *\n",
    "import math\n",
    "\n",
    "from scipy.optimize import curve_fit\n",
    "from scipy.optimize import minimize\n",
    "from scipy import stats\n",
    "\n",
    "rcParams['font.size'] = 15\n",
    "rcParams['font.weight'] = 'bold'\n",
    "rcParams['text.usetex'] = True\n",
    "rcParams['axes.grid'] = True\n",
    "rcParams['font.family'] = 'sans-serif'\n",
    "rcParams['font.sans-serif'] = ['Helvetica']\n",
    "rcParams['xtick.labelsize'] = 18\n",
    "rcParams['ytick.labelsize'] = 18\n",
    "rcParams[\"xtick.minor.size\"] =  4\n",
    "rcParams[\"ytick.minor.size\"] =  4\n",
    "rcParams[\"xtick.minor.visible\"] =  True\n",
    "rcParams[\"ytick.minor.visible\"] =  True"
   ]
  },
  {
   "cell_type": "markdown",
   "metadata": {},
   "source": [
    "# Selfcoded functions"
   ]
  },
  {
   "cell_type": "code",
   "execution_count": 2,
   "metadata": {
    "jupyter": {
     "source_hidden": true
    },
    "tags": []
   },
   "outputs": [],
   "source": [
    "# mean value\n",
    "def am(werte):\n",
    "    return np.mean(werte)\n",
    "\n",
    "# stdandard deviation\n",
    "def std(werte):\n",
    "    summen_der_quadrate = 0\n",
    "    for wert in werte:\n",
    "        summen_der_quadrate+=(wert-am(werte))**2       \n",
    "    return np.sqrt(summen_der_quadrate/(werte.size-1))\n",
    "\n",
    "# standard error\n",
    "def stu(werte):\n",
    "    return std(werte)/np.sqrt(werte.size)\n",
    "\n",
    "# gaussian error propogation\n",
    "def fehler(f, werte, unsicherheiten, variablen):\n",
    "    zMax = 0\n",
    "    for i in range(werte.size):\n",
    "        dif = np.abs(sy.diff(f, variablen[i]))\n",
    "        zMax += (dif * unsicherheiten[i])**2\n",
    "    zMax = sqrt(zMax)\n",
    "    for j in range(werte.size):\n",
    "        zMax = sub(zMax, variablen[j], werte[j])\n",
    "    return zMax\n",
    "\n",
    "# maximum error with gaussian error propagation\n",
    "def fehlerMax(f, werte, unsicherheiten, variablen):\n",
    "    zMax = 0\n",
    "    for i in range(werte.size):\n",
    "        dif = np.abs(sy.diff(f, variablen[i]))\n",
    "        zMax += dif * unsicherheiten[i]\n",
    "    for j in range(werte.size):\n",
    "        zMax = sub(zMax, variablen[j], werte[j])\n",
    "    return zMax\n",
    "\n",
    "# what error makes up the most of the resulting error in error propogation\n",
    "def groessterBeitrag(f, werte, unsicherheiten, variablen):\n",
    "    zMax = 0\n",
    "    zMaxArray = np.array([])\n",
    "    for i in range (werte.size):\n",
    "        zMax = (np.abs(sy.diff(f, variablen[i])) * unsicherheiten[i])\n",
    "        for j in range(werte.size):\n",
    "            zMax = sub(zMax, variablen[j], werte[j])\n",
    "        x = np.array([zMax])\n",
    "        zMaxArray = np.append(zMaxArray, x)\n",
    "    return variablen[np.argmax(zMaxArray)], zMaxArray[np.argmax(zMaxArray)]\n",
    "\n",
    "# quality of life subsitution function for sympy tp substitute multiple variables at once\n",
    "def sub(zMax, variable, wert):\n",
    "    return zMax.subs([(variable, wert)])\n",
    "\n",
    "# easier formula for gaussian error propagation with addition\n",
    "def einfachGaussAdd(unsicherheiten, koeffizienten):\n",
    "    dz = 0\n",
    "    for i in range (unsicherheiten.size):\n",
    "        dz += (koeffizienten[i]*unsicherheiten[i])**2\n",
    "    return sqrt(dz)\n",
    "\n",
    "# easier formula for gaussian error propagation with multiplication\n",
    "def einfachGaussMult(unsicherheiten, werte, exponenten):\n",
    "    dz = 0\n",
    "    for i in range (unsicherheiten.size):\n",
    "        dz += (exponenten[i]*unsicherheiten[i]/werte[i])**2\n",
    "    return sqrt(dz)\n",
    "\n",
    "# easier formula for maximum gaussian error propagation with multiplication\n",
    "def einfachGaussMultMax(unsicherheiten, werte, exponenten):\n",
    "    max_a = 0\n",
    "    num = -1\n",
    "    for i in range (unsicherheiten.size):\n",
    "        maxi = (exponenten[i]*unsicherheiten[i]/werte[i])**2\n",
    "        if max_a <= maxi:\n",
    "            max_a = maxi\n",
    "            num = i\n",
    "    return (max_a, num)\n",
    "\n",
    "# t-value for without literature value\n",
    "def vertraeglichkeit(am_1, am_2, stu_1, stu_2):\n",
    "    return (np.abs(am_1-am_2)/(sqrt((stu_1**2)*(stu_2**2))))\n",
    "\n",
    "# analytic linear regression y(x)=a + b*x calculates a\n",
    "def bestA(x, y):\n",
    "    return (sum(x**2)*sum(y)-sum(x)*sum(x*y))/(x.size*sum(x**2)-sum(x)**2)\n",
    "\n",
    "# analytic linear regression y(x)=a + b*x calculates b\n",
    "def bestB(x, y):\n",
    "    return (x.size*sum(x*y)-sum(x)*sum(y))/(x.size*sum(x**2)-sum(x)**2)\n",
    "\n",
    "# analytic linear regression calculates variance \n",
    "# (only used for next two functions, never gets called on its own, ehances readability) \n",
    "def streuung(x, y):\n",
    "    s = 0\n",
    "    for i in range(x.size):\n",
    "        s += (y[i]-(bestA(x, y)+bestB(x, y)*x[i]))**2\n",
    "    return np.sqrt(s/(x.size-2))\n",
    "\n",
    "# analytic linear regression y(x)=a + b*x calculates error on a\n",
    "def stuA(x, y):\n",
    "    s = streuung(x, y)\n",
    "    return s*np.sqrt(sum(x**2)/((x.size*sum(x**2)-sum(x)**2)))\n",
    "\n",
    "# analytic linear regression y(x)=a + b*x calculates error on b\n",
    "def stuB(x, y):\n",
    "    s = streuung(x, y)\n",
    "    return s*np.sqrt(x.size/((x.size*sum(x**2)-sum(x)**2)))"
   ]
  },
  {
   "cell_type": "markdown",
   "metadata": {},
   "source": [
    "# Versuch Lichtlaufzeiten"
   ]
  },
  {
   "cell_type": "markdown",
   "metadata": {},
   "source": [
    "\n",
    "## Versuchsteil 1 - Chopper\n"
   ]
  },
  {
   "cell_type": "code",
   "execution_count": 3,
   "metadata": {
    "code_folding": [
     0
    ]
   },
   "outputs": [
    {
     "name": "stdout",
     "output_type": "stream",
     "text": [
      "Brennweite mit Fehler:  45.443902439024384 +- 1.4142135623730951\n"
     ]
    }
   ],
   "source": [
    "# Funktion zur Berechnung der Brennweite\n",
    "\n",
    "def brennweite(g, b):\n",
    "    return 1/(1/g+1/b)\n",
    "\n",
    "\n",
    "abstandGegenstandLinse   =  130 # mm\n",
    "abstandLinseSchirm = 65 # mm\n",
    "\n",
    "linsenPosGegenstand = 7 # mm\n",
    "linsenPosSchirm = 3 # mm\n",
    "\n",
    "# Fehler aller Positionsmessungen\n",
    "posErr = 1 # mm\n",
    "\n",
    "# Berechnung der Brennweite\n",
    "brennweite = brennweite(abstandGegenstandLinse+linsenPosGegenstand, abstandLinseSchirm+linsenPosSchirm)\n",
    "\n",
    "# Berechnung des Fehlers der Brennweite mit Gausscher Fehlerforpflanzung\n",
    "brennweiteErr = einfachGaussAdd(np.array([posErr,posErr]),np.array([1,1]))\n",
    "\n",
    "print('Brennweite mit Fehler: ',brennweite, '+-', brennweiteErr)"
   ]
  },
  {
   "cell_type": "code",
   "execution_count": 4,
   "metadata": {
    "code_folding": [
     0
    ]
   },
   "outputs": [
    {
     "name": "stdout",
     "output_type": "stream",
     "text": [
      "[ 150  300  450  600  750  900 1050 1200 1350 1500 1650 1800 1950 2100\n",
      " 2250 2400 2550 2700 2850 3000 3150 3300 3450 3600 3750 3900 4500 5000\n",
      " 5500 6000 6500 7000 7500 8000 8500 9000 9500] [208 197 189 179 167 155 144 135 127 117 111 104  98  93  89  85  81  78\n",
      "  74  71  69  66  64  62  59  58  53  48  46  42  40  38  37  34  33  32\n",
      "  30]\n"
     ]
    }
   ],
   "source": [
    "# Daten einlesen\n",
    "\n",
    "spannungen = np.array([208, 197, 189, 179, 167, 155, 144, 135, 127, 117, 111, 104, 98, 93, \n",
    "                       89, 85, 81, 78, 74, 71, 69, 66, 64, 62, 59, 58, 53, 48, 46, 42, 40, 38, 37, 34, 33, 32, 30])  # mV\n",
    "frequenzenKlein = np.arange(150, 4050, 150)\n",
    "frequenzenGroß = np.arange(4500, 10000, 500)\n",
    "frequenzen = np.concatenate((frequenzenKlein, frequenzenGroß))\n",
    "print(frequenzen, spannungen)"
   ]
  },
  {
   "cell_type": "code",
   "execution_count": 5,
   "metadata": {
    "code_folding": [
     0
    ]
   },
   "outputs": [
    {
     "data": {
      "image/png": "[encoded data removed]",
      "text/plain": [
       "<Figure size 864x432 with 1 Axes>"
      ]
     },
     "metadata": {
      "needs_background": "light"
     },
     "output_type": "display_data"
    }
   ],
   "source": [
    "# FIt durch die Daten berechnen\n",
    "\n",
    "def myCos(x, f, a, p, o):\n",
    "    return a*np.cos(f*x+p) + o\n",
    "\n",
    "\n",
    "# Anfangswerte für den fit (geraten)\n",
    "freqGuess = 1/(340000*pc.pi)\n",
    "ampGuess = 3000000\n",
    "phaseGuess = pi/1.0035\n",
    "offsetGuess = 3000000\n",
    "p0 = np.array([freqGuess, ampGuess, phaseGuess, offsetGuess] )\n",
    "xRange = np.arange(-10000, 10001, 1)\n",
    "\n",
    "def fitCos(p0, x, y):\n",
    "    fit = curve_fit(myCos, x, y, p0=p0, maxfev = 10000000)\n",
    "    data_fit = myCos(x, *fit[0])\n",
    "    return data_fit\n",
    "\n",
    "fitWerte = fitCos(p0,frequenzen,spannungen)\n",
    "\n",
    "# Plot daempfung\n",
    "plt.figure(figsize=(12, 6))  \n",
    "\n",
    "plt.scatter(frequenzen, spannungen, color='r', label='Datenpunkte',marker=None)\n",
    "plt.plot(frequenzen, fitWerte, color='crimson', label='Fit Cos',marker=None)\n",
    "\n",
    "plt.plot(xRange, myCos(xRange, 1/(340000*pc.pi), 3000000, pi/1.0035, 3000000), color='darkblue', label='Fit Cos self',marker=None)\n",
    "\n",
    "# labels und legend\n",
    "plt.xlabel(r'Frequenz [Hz]')\n",
    "plt.ylabel(r'Spannung [mV]')\n",
    "plt.legend()\n",
    "\n",
    "# show plot\n",
    "plt.grid(True)\n",
    "plt.title('Spannung gegen die Frequenz aufgetragen')\n",
    "plt.show()"
   ]
  },
  {
   "cell_type": "code",
   "execution_count": null,
   "metadata": {
    "code_folding": []
   },
   "outputs": [],
   "source": []
  },
  {
   "cell_type": "markdown",
   "metadata": {},
   "source": [
    "## 2. Methode Funktionsgenerator\n",
    "Die gesamte Strecke, welche das Licht zurücklegt wird entsprechend der Skizze mit der Formel\n",
    "\n",
    "$$L = A + B + C + \\sqrt{F^2+C^2}$$\n",
    "\n",
    "bestimmt. Für den Fehler haben wir auf jede Messung einen Wert von $\\Delta = 0.002$m geschätzt. Mittels der Gaußschen Fehlerfortpflanzung ergibt sich dann ein Fehler von \n",
    "\n",
    "$$\\Delta L=\\sqrt{0.006\\text{m}+0.002\\text{m}(F^{2}+C^{2})^{-\\frac{1}{2}}(F+C)}$$\n",
    "\n",
    "Der Fehler auf den Delay wurde mit $\\Delta Delay = 0.2$ns geschätzt."
   ]
  },
  {
   "cell_type": "code",
   "execution_count": 32,
   "metadata": {},
   "outputs": [],
   "source": [
    "# Date Einlesen und erste Berechnungen:\n",
    "def bestimmungLichtLaufstrecke(C):\n",
    "    return np.sqrt(F**2+C**2) + A + B + C\n",
    "\n",
    "def bestimmungLichtLaufstreckeErr(C): #Mittels Gaußscher Fehlerfortpflanzung\n",
    "    return np.sqrt(0.006+0.002*(F**2+C**2)**(-1/2)*(F+C))\n",
    "\n",
    "# Längen des Aufbaus:\n",
    "A,B,F = 0.763,0.750,0.065\n",
    "MessungenC = np.array([0.74,0.64,0.54,0.44,0.34,0.24,0.14])\n",
    "fehlerStreckenmessung = 0.002\n",
    "\n",
    "# Gemessene Delays mit Average, min und max, abgelesen vom Oszilloskop\n",
    "DelayAverage = np.array([10.2,9.9,9.7,9.4,9,8.3,7.6]) * 10**-9\n",
    "DelayMin = np.array([9.6,9.6,9.3,9.3,8.8,7.2,7.0]) * 10**-9\n",
    "DelayMax = np.array([10.6,10.2,9.9,9.9,9.6,10.9,9.4]) * 10**-9\n",
    "DelayErr = 0.2 * 10**-9\n",
    "\n",
    "# Berechnen Gesamt Länge und Fehler\n",
    "LichtLaufstrecke2 = bestimmungLichtLaufstrecke(MessungenC)\n",
    "LichtLaufstrecke2Err = bestimmungLichtLaufstreckeErr(MessungenC)"
   ]
  },
  {
   "cell_type": "code",
   "execution_count": 36,
   "metadata": {},
   "outputs": [
    {
     "name": "stdout",
     "output_type": "stream",
     "text": [
      "447730281.1860585\n"
     ]
    },
    {
     "data": {
      "image/png": "[encoded data removed]",
      "text/plain": [
       "<Figure size 432x288 with 1 Axes>"
      ]
     },
     "metadata": {
      "needs_background": "light"
     },
     "output_type": "display_data"
    }
   ],
   "source": [
    "# Plotten der Daten und Lineare Regression\n",
    "bTeil2 = bestA(DelayAverage,LichtLaufstrecke2)\n",
    "mTeil2 = bestB(DelayAverage,LichtLaufstrecke2)\n",
    "\n",
    "plt.errorbar(DelayAverage, LichtLaufstrecke2, yerr=LichtLaufstrecke2Err,\n",
    "             xerr=DelayErr, fmt='o', label='Data with Error Bars', color='black')\n",
    "plt.plot(DelayAverage, mTeil2 * DelayAverage + bTeil2, color='red', label='Regression Line')\n",
    "print(mTeil2)\n",
    "plt.xlabel('Delay Average')\n",
    "plt.ylabel('Laufstrecke des Lichts')\n",
    "plt.legend()\n",
    "plt.show()"
   ]
  },
  {
   "cell_type": "markdown",
   "metadata": {},
   "source": [
    "## 3. Pulslaser\n",
    "Statt des einfachen Laserpointers wurde nun der Pulslaser angeschlossen, welcher mittels des Funktionsgenerator gesteuert wurde. \n",
    "Diesmal wurde nur der abstand D variiert. Es ergibt sich also für die Lichtlauflänge\n",
    "\n",
    "$$L=A+B+C+D$$\n",
    "\n",
    "Für den fehler ergibt sich \n",
    "\n",
    "$$\\Delta L = \\sqrt{4\\cdot0.002\\text{m}}=0.004\\text{m}$$"
   ]
  },
  {
   "cell_type": "code",
   "execution_count": 40,
   "metadata": {},
   "outputs": [],
   "source": [
    "# Daten eingeben\n",
    "\n",
    "# Lichtlaufstrecke\n",
    "A, B, C = 0.565, 0.782, 0.815\n",
    "MessungenD = np.array([60,50,40,30,20,10])*0.01\n",
    "fehlerStreckenmessung = 0.002\n",
    "\n",
    "LichtLaufstrecke3 = MessungenD + A + B + C\n",
    "LichtLaufstrecke3Err = np.sqrt(4*0.002)\n",
    "\n",
    "#gemessene Delays mit Fehler\n",
    "MessungDelay3 = np.array([12,11,10,9,7.6,5]) * 10**-9\n",
    "MessungDelay3Err = np.array([1,1,1,1,0.5,2]) * 10**-9 "
   ]
  },
  {
   "cell_type": "code",
   "execution_count": 43,
   "metadata": {},
   "outputs": [
    {
     "name": "stdout",
     "output_type": "stream",
     "text": [
      "Ergebnis für die Lichtgeschwindigketit 72413793.10344855\n"
     ]
    },
    {
     "data": {
      "image/png": "[encoded data removed]",
      "text/plain": [
       "<Figure size 432x288 with 1 Axes>"
      ]
     },
     "metadata": {
      "needs_background": "light"
     },
     "output_type": "display_data"
    }
   ],
   "source": [
    "# Daten Plotten mit Errorbars\n",
    "\n",
    "bTeil3 = bestA(MessungDelay3,LichtLaufstrecke3)\n",
    "mTeil3 = bestB(MessungDelay3,LichtLaufstrecke3)\n",
    "\n",
    "plt.errorbar(MessungDelay3, LichtLaufstrecke3, yerr=LichtLaufstrecke3Err,\n",
    "             xerr=MessungDelay3Err, fmt='o', label='Data with Error Bars', color='black')\n",
    "plt.plot(MessungDelay3, mTeil3 * MessungDelay3 + bTeil3, color='red', label='Regression Line')\n",
    "\n",
    "#Ausgabe des Eregebnisses für die Lichtgeschwindigkeit\n",
    "print(\"Ergebnis für die Lichtgeschwindigketit\",mTeil3)\n",
    "\n",
    "#WOAH\n",
    "plt.xlabel('Delay Average')\n",
    "plt.ylabel('Laufstrecke des Lichts')\n",
    "plt.legend()\n",
    "plt.show()"
   ]
  }
 ],
 "metadata": {
  "kernelspec": {
   "display_name": "Python 3",
   "language": "python",
   "name": "python3"
  },
  "language_info": {
   "codemirror_mode": {
    "name": "ipython",
    "version": 3
   },
   "file_extension": ".py",
   "mimetype": "text/x-python",
   "name": "python",
   "nbconvert_exporter": "python",
   "pygments_lexer": "ipython3",
   "version": "3.8.5"
  }
 },
 "nbformat": 4,
 "nbformat_minor": 4
}
