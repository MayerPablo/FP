{
 "cells": [
  {
   "cell_type": "markdown",
   "metadata": {
    "heading_collapsed": true
   },
   "source": [
    "# Imports"
   ]
  },
  {
   "cell_type": "code",
   "execution_count": 1,
   "metadata": {
    "hidden": true
   },
   "outputs": [],
   "source": [
    "import numpy as np\n",
    "import sympy as sp\n",
    "from sympy import *\n",
    "import re\n",
    "\n",
    "import matplotlib.pyplot as plt\n",
    "import matplotlib.colors as c\n",
    "from matplotlib.ticker import PercentFormatter\n",
    "from matplotlib import rcParams\n",
    "\n",
    "from math import log10, floor\n",
    "from math import *\n",
    "import math\n",
    "\n",
    "from IPython.display import display, Latex\n",
    "from IPython.display import Markdown as md\n",
    "\n",
    "import scipy.constants as pc\n",
    "from scipy.optimize import curve_fit\n",
    "from scipy.optimize import minimize\n",
    "from scipy import stats"
   ]
  },
  {
   "cell_type": "markdown",
   "metadata": {
    "heading_collapsed": true
   },
   "source": [
    "# Matplotlib Style changes"
   ]
  },
  {
   "cell_type": "code",
   "execution_count": 2,
   "metadata": {
    "hidden": true
   },
   "outputs": [],
   "source": [
    "rcParams['font.size'] = 15\n",
    "rcParams['font.weight'] = 'bold'\n",
    "rcParams['text.usetex'] = True\n",
    "rcParams['axes.grid'] = True\n",
    "rcParams['font.family'] = 'serif'\n",
    "rcParams['font.sans-serif'] = ['Latin Modern Math']\n",
    "rcParams['xtick.labelsize'] = 18\n",
    "rcParams['ytick.labelsize'] = 18\n",
    "rcParams[\"xtick.minor.size\"] =  4\n",
    "rcParams[\"ytick.minor.size\"] =  4\n",
    "rcParams[\"xtick.minor.visible\"] =  True\n",
    "rcParams[\"ytick.minor.visible\"] =  True"
   ]
  },
  {
   "cell_type": "markdown",
   "metadata": {
    "heading_collapsed": true
   },
   "source": [
    "# Statistical Selfcoded functions"
   ]
  },
  {
   "cell_type": "code",
   "execution_count": 3,
   "metadata": {
    "hidden": true,
    "jupyter": {
     "source_hidden": true
    },
    "tags": []
   },
   "outputs": [],
   "source": [
    "# easier formula for gaussian error propagation with addition\n",
    "def einfachGaussAdd(unsicherheiten, koeffizienten):\n",
    "    dz = 0\n",
    "    for i in range (unsicherheiten.size):\n",
    "        dz += (koeffizienten[i]*unsicherheiten[i])**2\n",
    "    return sqrt(dz)\n",
    "\n",
    "# easier formula for gaussian error propagation with multiplication\n",
    "def einfachGaussMult(unsicherheiten, werte, exponenten):\n",
    "    dz = 0\n",
    "    for i in range (unsicherheiten.size):\n",
    "        dz += (exponenten[i]*unsicherheiten[i]/werte[i])**2\n",
    "    return sqrt(dz)\n",
    "\n",
    "# Formlae for Gaußen Error propagation with result\n",
    "def DivisionMitFehler(A, deltaA, B, deltaB): # Für C=A/B\n",
    "    C = A/B\n",
    "    deltaC = abs(C) * math.sqrt((deltaA / A)**2 + (deltaB / B)**2)\n",
    "    return C,deltaC\n",
    "\n",
    "def MultiplikationMitFehler(A, deltaA, B, deltaB): #Für C=A*B\n",
    "    C = A * B\n",
    "    deltaC = abs(C) * ((deltaA / abs(A)) + (deltaB / abs(B)))\n",
    "    return C, deltaC\n",
    "\n",
    "# t-value for without literature value\n",
    "def vertraeglichkeit(am_1, am_2, stu_1, stu_2):\n",
    "    return (np.abs(am_1-am_2)/(sqrt((stu_1**2)*(stu_2**2))))\n",
    "\n",
    "# analytic linear regression y(x)=m*x + b calculates m\n",
    "def bestM(x, y):\n",
    "    return (x.size*sum(x*y)-sum(x)*sum(y))/(x.size*sum(x**2)-sum(x)**2)\n",
    "\n",
    "# analytic linear regression y(x)=m*x + b calculates b\n",
    "def bestB(x, y):\n",
    "    return (sum(x**2)*sum(y)-sum(x)*sum(x*y))/(x.size*sum(x**2)-sum(x)**2)\n",
    "\n",
    "# analytic linear regression calculates variance \n",
    "# (only used for next two functions, never gets called on its own, enhances readability) \n",
    "def streuung(x, y):\n",
    "    s = 0\n",
    "    for i in range(x.size):\n",
    "        s += (y[i]-(bestB(x, y)+bestM(x, y)*x[i]))**2\n",
    "    return np.sqrt(s/(x.size-2))\n",
    "\n",
    "# analytic linear regression y(x)=m*x + b calculates error on m\n",
    "def stuM(x, y):\n",
    "    s = streuung(x, y)\n",
    "    return s*np.sqrt(x.size/((x.size*sum(x**2)-sum(x)**2)))\n",
    "\n",
    "# analytic linear regression y(x)=m*x + b calculates error on b\n",
    "def stuB(x, y):\n",
    "    s = streuung(x, y)\n",
    "    return s*np.sqrt(sum(x**2)/((x.size*sum(x**2)-sum(x)**2)))\n"
   ]
  },
  {
   "cell_type": "markdown",
   "metadata": {},
   "source": [
    "# Ergebnisse des Versuchs Lichtlaufzeiten"
   ]
  },
  {
   "cell_type": "markdown",
   "metadata": {},
   "source": [
    "Wichtige Anmerkungen zu den Codekonventionen:\n",
    "- Variablennamen nutzen CamelCase und kürzen ab z.B.: linsenAbstandGegenstand was dem Abstand der Linse von der Gegenstandseite entspricht\n",
    "- Fehler werden hierbei mit dem Suffix Err im CamelCase gekennzeichnet z.B.: abstandErr entspricht dem Fehler der Abstandsvariable \n",
    "- Einheiten stehen kommentiert nach den Einheiten z.B.: x = 3 # mm oder \"vMax = 2 # V\""
   ]
  },
  {
   "cell_type": "markdown",
   "metadata": {},
   "source": [
    "\n",
    "## 1. Methode: Optischer Chopper\n",
    "\n",
    "Bei der ersten Methode wurde der Lichtstrahl mithilfe eines optischen Choppers unterbrochen, der dadurch entstandene Lichtpuls wurde an einem Spiegel zurück in eine Photodiode reflektiert und passierte dabei eine Strecke von $\\Delta s = 1.120 \\pm 0.005 $m. Damit der Laserstrahl am Ort des Choppers optimal fokussiert war, wurde die Brennweite einer Linse berechnet, und diese so installiert, dass ihr Brennpunkt mit der Chopperdisk kongruent war. Die resultierenden Spannung der Photodiode wurden mithilfe des LeCroy Lt344L Oszilloskops ausgelesen"
   ]
  },
  {
   "cell_type": "markdown",
   "metadata": {
    "heading_collapsed": true
   },
   "source": [
    "### Brennweite der Linse berechnen"
   ]
  },
  {
   "cell_type": "code",
   "execution_count": 4,
   "metadata": {
    "code_folding": [],
    "hidden": true
   },
   "outputs": [
    {
     "data": {
      "text/markdown": [
       "Brennweite mit Fehler: $45.4 \\pm 1.4$ [mm]"
      ],
      "text/plain": [
       "<IPython.core.display.Markdown object>"
      ]
     },
     "execution_count": 4,
     "metadata": {},
     "output_type": "execute_result"
    }
   ],
   "source": [
    "# Funktion zur Berechnung der Brennweite\n",
    "def brennweite(g, b):\n",
    "    return 1/(1/g+1/b)\n",
    "\n",
    "\n",
    "# Abstandsmessungen\n",
    "abstandGegenstandLinse = 130 # mm\n",
    "abstandLinseSchirm = 65      # mm\n",
    "\n",
    "linsenAbstandGegenstand = 7  # mm\n",
    "linsenAbstandSchirm = 3      # mm\n",
    "\n",
    "# Fehler aller Abstandsmessungen\n",
    "abstandErr = 1 # mm\n",
    "\n",
    "# Berechnung der Brennweite\n",
    "brennweite = brennweite(abstandGegenstandLinse+linsenAbstandGegenstand, abstandLinseSchirm+linsenAbstandSchirm)\n",
    "\n",
    "# Berechnung des Fehlers der Brennweite mit Gausscher Fehlerforpflanzung\n",
    "brennweiteErr = einfachGaussAdd(np.array([abstandErr,abstandErr]),np.array([1,1]))\n",
    "\n",
    "\n",
    "md(f\"Brennweite mit Fehler: ${brennweite:.1f} \\pm {brennweiteErr:.1f}$ [mm]\")"
   ]
  },
  {
   "cell_type": "markdown",
   "metadata": {},
   "source": [
    "### Dateneingabe der ersten Messreihe Chopper\n",
    "Es wurde nicht der gesamte aufgenommene Datenbereich für die Auswertung genommen, da die Werte für hohe Spannungen einer klar anderen Funktion folgen, als für niedrige, was auch einem visuellen Knick klar ersichtlich ist."
   ]
  },
  {
   "cell_type": "code",
   "execution_count": 48,
   "metadata": {
    "code_folding": []
   },
   "outputs": [
    {
     "data": {
      "text/markdown": [
       "Lichtgeschwindigkeit Untergrenze: $22.5 \\pm 0.4$ [km/s]"
      ],
      "text/plain": [
       "<IPython.core.display.Markdown object>"
      ]
     },
     "execution_count": 48,
     "metadata": {},
     "output_type": "execute_result"
    }
   ],
   "source": [
    "#Strecke, Chopper-Spiegel-Chopper\n",
    "LichtLaufstrecke1 = MultiplikationMitFehler(2,0,0.56,0.01)[0]    # m\n",
    "LichtLaufstrecke1Err = MultiplikationMitFehler(2,0,0.56,0.01)[1] # m\n",
    "\n",
    "\n",
    "# Gemessene Spannungen\n",
    "\n",
    "# Vollständige Messung\n",
    "# spannungen = np.array([208, 197, 189, 179, 167, 155, 144, 135, 127, 117, 111, 104, 98, 93, 89, 85, 81, \n",
    "#                        78, 74, 71, 69, 66, 64, 62, 59, 58, 53, 48, 46, 42, 40, 38, 37, 34, 33, 32, 30])  # mV\n",
    "\n",
    "# Ausgewählter Bereich\n",
    "spannungen = np.array([53, 48, 46, 42, 40, 38, 37, 34, 33, 32, 30])\n",
    "\n",
    "# Fehler der Spannungen (durch Variation am Oszilloskop geschätzt)\n",
    "spannungenErr = 2 # mV\n",
    "\n",
    "# Dazugehörige Frequenzen\n",
    "#frequenzenKlein = np.arange(150, 4050, 150)                    # Hz\n",
    "frequenzenGroß = np.arange(4500, 10000, 500)                    # Hz\n",
    "frequenzen = np.concatenate((np.array([]), frequenzenGroß))     # Hz\n",
    "\n",
    "# Fehler der Frequenzen geschätzt andhand der Variation auf Anzeige und der Spezifikation des Datenblatts.\n",
    "frequenzenErr = 20 # Hz\n",
    "\n",
    "# Maximale Frequenz (für Lichtgeschwindigkeituntergrenze)\n",
    "frequenzMax = 20090\n",
    "frequenzMaxErr = 20\n",
    "\n",
    "# Berechnung der Lchtgeschwindigkeitsuntergrenze\n",
    "lichtgeschwindigkeitMin, lichtgeschwindigkeitMinErr = MultiplikationMitFehler(frequenzMax, frequenzMaxErr, LichtLaufstrecke1, LichtLaufstrecke1Err)\n",
    "\n",
    "md(f\"Lichtgeschwindigkeit Untergrenze: ${lichtgeschwindigkeitMin/1000:.1f} \\pm {lichtgeschwindigkeitMinErr/1000:.1f}$ [km/s]\")"
   ]
  },
  {
   "cell_type": "markdown",
   "metadata": {},
   "source": [
    "### Fit berechnen"
   ]
  },
  {
   "cell_type": "code",
   "execution_count": 34,
   "metadata": {
    "code_folding": [
     0
    ],
    "scrolled": false
   },
   "outputs": [],
   "source": [
    "frequenzBereich = np.arange(0, 60001, 1)\n",
    "\n",
    "# Cosinusfunktion \n",
    "def myCos(x, f, p):\n",
    "    return 3359420*np.cos(f*x+p) + 3359420\n",
    "\n",
    "# Fitfunktion\n",
    "def fitCos(p0, x, y):\n",
    "    fit = curve_fit(myCos, x, y, p0=p0, maxfev = 10000000)\n",
    "    data_fit = myCos(frequenzBereich, *fit[0])\n",
    "    minPoint = np.array([data_fit.argmin(), min(data_fit)]) \n",
    "    return data_fit, minPoint, fit \n",
    "\n",
    "# Anfangswerte für den fit (geraten)\n",
    "freqGuess = 1/(340000*pc.pi)\n",
    "phaseGuess = pi/1.0035\n",
    "p0 = np.array([freqGuess, phaseGuess] )\n",
    "\n",
    "# Berechnen der gefitteten Werte\n",
    "fitWerte, minPoint, fit = fitCos(p0,frequenzen,spannungen)\n",
    "\n",
    "fitErr = np.sqrt(np.diag(fit[0]))\n",
    "\n",
    "minPointErr = minPoint[0]*fitErr[0][0]+fitErr[1][1]\n",
    "\n",
    "lichtgeschwindigkeit, lichtgeschwindigkeitErr = MultiplikationMitFehler(minPoint[0], minPointErr, LichtLaufstrecke1, LichtLaufstrecke1Err)"
   ]
  },
  {
   "cell_type": "markdown",
   "metadata": {},
   "source": [
    "### Anzeigen der Daten"
   ]
  },
  {
   "cell_type": "code",
   "execution_count": 37,
   "metadata": {},
   "outputs": [
    {
     "data": {
      "image/png": "[encoded data removed]",
      "text/plain": [
       "<Figure size 1152x576 with 1 Axes>"
      ]
     },
     "metadata": {
      "needs_background": "light"
     },
     "output_type": "display_data"
    },
    {
     "data": {
      "text/markdown": [
       "Minimalpunkt liegt bei: $24935 \\pm 15$ [Hz]\n",
       "  \n",
       "   Dies entspricht einer Lichtgeschwindigkeit von: $27.9 \\pm 0.5$ [km/s]"
      ],
      "text/plain": [
       "<IPython.core.display.Markdown object>"
      ]
     },
     "execution_count": 37,
     "metadata": {},
     "output_type": "execute_result"
    }
   ],
   "source": [
    "# Plotgröße anpassen\n",
    "plt.figure(figsize=(16, 8))    \n",
    "\n",
    "# Gemessene Spannungswerte auftragen\n",
    "plt.errorbar(frequenzen, spannungen, xerr=frequenzenErr, yerr=spannungenErr, \n",
    "             fmt='.', color='red', label='Datenpunkte', marker=None)\n",
    "\n",
    "# Gemessene Spannungswerte auftragen\n",
    "plt.errorbar(frequenzen, spannungen, xerr=frequenzenErr, yerr=spannungenErr, \n",
    "             fmt='.', color='red', label='Datenpunkte', marker=None)\n",
    "\n",
    "# Angepasste Cosinusfunktion aufzeichnen\n",
    "plt.plot(frequenzBereich, fitWerte, color='crimson', label='Fit Cos',marker=None)\n",
    "\n",
    "# labels und legend\n",
    "plt.xlabel(r'Frequenz [Hz]')\n",
    "plt.ylabel(r'Spannung [mV]')\n",
    "plt.legend()\n",
    "\n",
    "# Plot anzeigen lassen\n",
    "plt.grid(True)\n",
    "plt.title('Spannung gegen die Frequenz aufgetragen')\n",
    "plt.show()\n",
    "\n",
    "# Ausgabe des Hz-Werts für den Minimalpunkt\n",
    "md(f\"\"\"Minimalpunkt liegt bei: ${minPoint[0]:.0f} \\pm {minPointErr:.0f}$ [Hz]\\n  \n",
    "   Dies entspricht einer Lichtgeschwindigkeit von: ${lichtgeschwindigkeit/1000:.1f} \\pm {lichtgeschwindigkeitErr/1000:.1f}$ [km/s]\"\"\")"
   ]
  },
  {
   "cell_type": "markdown",
   "metadata": {},
   "source": [
    "### Dateneingabe der zweiten Messreihe Chopper"
   ]
  },
  {
   "cell_type": "code",
   "execution_count": 8,
   "metadata": {},
   "outputs": [],
   "source": [
    "# Gemessene Spannungen\n",
    "\n",
    "# Vollständige Messung\n",
    "# spannungen2 = np.array([600, 395, 285, 224, 184, 161, 143, 129, 116, 108, 95, 72, 66, 62, 58, 55, 52, 49, 47, 45])  # mV\n",
    "\n",
    "# Ausgewählter Bereich\n",
    "spannungen2 = np.array([72, 66, 62, 58, 55, 52, 49, 47, 45])  # mV\n",
    "\n",
    "# Fehler der Spannungen (durch Variation am Oszilloskop geschätzt)\n",
    "\n",
    "# Vollständige Messung\n",
    "#spannungen2Err = np.array([5,4,4, 4, 4, 4, 4, 4, 4, 4, 1, 1, 1, 1, 1, 1, 1, 1, 1])  # mV\n",
    "\n",
    "# Im ausgewählten Bereich\n",
    "spannungen2Err = 1 # mV\n",
    "\n",
    "# Dazugehörige Frequenzen\n",
    "frequenzen2 = np.arange(12, 21, 1)*1e3   # Hz\n",
    "\n",
    "# Fehler der Frequenzen\n",
    "frequenzen2Err = 20 # Hz"
   ]
  },
  {
   "cell_type": "markdown",
   "metadata": {},
   "source": [
    "### Fit berechnen"
   ]
  },
  {
   "cell_type": "code",
   "execution_count": 9,
   "metadata": {},
   "outputs": [],
   "source": [
    "# Frequenzbereich festlegen\n",
    "frequenzBereich2 = np.arange(0, 60001, 1)\n",
    "\n",
    "# Cosinusfunktion \n",
    "def myCos(x, f, p):\n",
    "    return 3359420*np.cos(f*x+p) + 3359420\n",
    "\n",
    "\n",
    "# Fitfunktion\n",
    "def fitCos(p0, x, y):\n",
    "    fit = curve_fit(myCos, x, y, p0=p0, maxfev = 10000000)\n",
    "    data_fit = myCos(frequenzBereich, *fit[0])\n",
    "    minPoint = np.array([data_fit.argmin(), min(data_fit)]) \n",
    "    return data_fit, minPoint, fit\n",
    "\n",
    "# Anfangswerte für den fit (geraten)\n",
    "freqGuess = 2e-07\n",
    "ampGuess = 3000000\n",
    "phaseGuess = 3.1325\n",
    "offsetGuess = 3000050\n",
    "p0 = np.array([freqGuess, phaseGuess])\n",
    "\n",
    "# Berechnen der gefitteten Werte\n",
    "fitWerte2, minPoint2, fit2 = fitCos(p0,frequenzen2,spannungen2)\n",
    "\n",
    "fitErr2 = np.sqrt(np.diag(fit2[0]))\n",
    "\n",
    "minPointErr2 = minPoint2[0]*fitErr2[0][0]+fitErr2[1][1]\n",
    "\n",
    "lichtgeschwindigkeit2, lichtgeschwindigkeitErr2 = MultiplikationMitFehler(minPoint2[0], minPointErr2, LichtLaufstrecke1, LichtLaufstrecke1Err)"
   ]
  },
  {
   "cell_type": "markdown",
   "metadata": {},
   "source": [
    "### Anzeigen der Daten"
   ]
  },
  {
   "cell_type": "code",
   "execution_count": 38,
   "metadata": {},
   "outputs": [
    {
     "data": {
      "image/png": "[encoded data removed]",
      "text/plain": [
       "<Figure size 1152x576 with 1 Axes>"
      ]
     },
     "metadata": {
      "needs_background": "light"
     },
     "output_type": "display_data"
    },
    {
     "data": {
      "text/markdown": [
       "Minimalpunkt liegt bei: $49766 \\pm 22$ [Hz]\n",
       "  \n",
       "   Dies entspricht einer Lichtgeschwindigkeit von: $55.7 \\pm 1.0$ [km/s]"
      ],
      "text/plain": [
       "<IPython.core.display.Markdown object>"
      ]
     },
     "execution_count": 38,
     "metadata": {},
     "output_type": "execute_result"
    }
   ],
   "source": [
    "# Plotgröße anpassen\n",
    "plt.figure(figsize=(16, 8))  \n",
    "\n",
    "# Gemessene Spannungswerte auftragen\n",
    "plt.errorbar(frequenzen2, spannungen2, xerr=frequenzen2Err, yerr=spannungen2Err, \n",
    "             fmt='.', color='red', label='Datenpunkte', marker=None)\n",
    "\n",
    "# Angepasste Cosinusfunktion aufzeichnen\n",
    "plt.plot(frequenzBereich2, fitWerte2, color='crimson', label='Fit Cos',marker=None)\n",
    "\n",
    "# Minimalpunkt\n",
    "plt.errorbar(minPoint2[0], minPoint2[1], color='darkblue', label='Minimalpunkt', fmt='x')\n",
    "\n",
    "# labels und legend\n",
    "plt.xlabel(r'Frequenz [Hz]')\n",
    "plt.ylabel(r'Spannung [mV]')\n",
    "plt.legend()\n",
    "\n",
    "# Plot anzeigen lassen\n",
    "plt.grid(True)\n",
    "plt.title('Spannung gegen die Frequenz aufgetragen')\n",
    "plt.show()\n",
    "\n",
    "# Ausgabe des Hz-Werts für den Minimalpunkt\n",
    "md(f\"\"\"Minimalpunkt liegt bei: ${minPoint2[0]:.0f} \\pm {minPointErr2:.0f}$ [Hz]\\n  \n",
    "   Dies entspricht einer Lichtgeschwindigkeit von: ${lichtgeschwindigkeit2/1000:.1f} \\pm {lichtgeschwindigkeitErr2/1000:.1f}$ [km/s]\"\"\")"
   ]
  },
  {
   "cell_type": "markdown",
   "metadata": {},
   "source": [
    "## 2. Methode Funktionsgenerator\n",
    "Die gesamte Strecke, welche das Licht zurücklegt wird entsprechend der Skizze mit der Formel\n",
    "\n",
    "$$L = A + B + C + \\sqrt{F^2+C^2}$$\n",
    "\n",
    "bestimmt. Für den Fehler haben wir auf jede Messung einen Wert von $\\Delta = 0.002$m geschätzt, bei diesem Werthandeölt es sich um einen statistischen Fehler, da er sich nicht nach der Skalenauflösung des Messinstruments richtet (das Messinstrument war ein Bandmaß mit einer Skalenauflösung von 1mm), sondern nach der Ungenauigkeit der vermessenden Person. Mittels der Gaußschen Fehlerfortpflanzung ergibt sich aus diesem Fehler dann ein Fehler für die gesamte Länge von \n",
    "\n",
    "$$\\Delta L=\\sqrt{0.006\\text{m}+0.002\\text{m}(F^{2}+C^{2})^{-\\frac{1}{2}}(F+C)}$$\n",
    "\n",
    "Der Fehler auf den Delay wurde mit $\\Delta Delay = 0.2$ns geschätzt."
   ]
  },
  {
   "cell_type": "code",
   "execution_count": 11,
   "metadata": {},
   "outputs": [],
   "source": [
    "# Funktion zum Berechnen der Lichtlaufstrecke\n",
    "def bestimmungLichtLaufstrecke(C):\n",
    "    return np.sqrt(F**2+C**2) + A + B + C\n",
    "\n",
    "# Funktion zum Berechnen des Fehlers auf die Lichtlaufstrecke mittels Gaußscher Fehlerfortpflanzung\n",
    "def bestimmungLichtLaufstreckeErr(C): \n",
    "    return np.sqrt(0.006+0.002*(F**2+C**2)**(-1/2)*(F+C))\n",
    "\n",
    "# Längen des Aufbaus:\n",
    "A,B,F = 0.763, 0.750, 0.065                                 # m\n",
    "MessungenC = np.array([0.74,0.64,0.54,0.44,0.34,0.24,0.14]) # m\n",
    "StreckenmessungErr = 0.002                                  # m\n",
    "\n",
    "# Gemessene Delays mit Average, min und max, abgelesen vom Oszilloskop\n",
    "delayAverage = np.array([10.2,9.9,9.7,9.4,9,8.3,7.6]) * 10**-9 # s\n",
    "delayMin = np.array([9.6,9.6,9.3,9.3,8.8,7.2,7.0]) * 10**-9    # s\n",
    "delayMax = np.array([10.6,10.2,9.9,9.9,9.6,10.9,9.4]) * 10**-9 # s\n",
    "delayErr = 0.2 * 10**-9                                        # s\n",
    "\n",
    "# Berechnen Gesamt Länge und Fehler\n",
    "LichtLaufstrecke2 = bestimmungLichtLaufstrecke(MessungenC)\n",
    "LichtLaufstrecke2Err = bestimmungLichtLaufstreckeErr(MessungenC)"
   ]
  },
  {
   "cell_type": "markdown",
   "metadata": {},
   "source": [
    "### Lineare Regression berechnen"
   ]
  },
  {
   "cell_type": "code",
   "execution_count": 26,
   "metadata": {},
   "outputs": [],
   "source": [
    "# Lineare Regression bestimmen\n",
    "bTeil2 = bestB(delayAverage,LichtLaufstrecke2)\n",
    "mTeil2 = bestM(delayAverage,LichtLaufstrecke2)\n",
    "\n",
    "# Fehler der Linearen Regression bestimmen\n",
    "bTeil2Err = stuB(delayAverage,LichtLaufstrecke2)\n",
    "mTeil2Err = stuM(delayAverage,LichtLaufstrecke2)\n",
    "\n",
    "zeichenBereichTeil2 = np.linspace(0, 1.3e-8, 100)"
   ]
  },
  {
   "cell_type": "markdown",
   "metadata": {},
   "source": [
    "### Plotten der Daten und Lineare Regression"
   ]
  },
  {
   "cell_type": "code",
   "execution_count": 27,
   "metadata": {},
   "outputs": [
    {
     "data": {
      "image/png": "[encoded data removed]",
      "text/plain": [
       "<Figure size 1152x576 with 1 Axes>"
      ]
     },
     "metadata": {
      "needs_background": "light"
     },
     "output_type": "display_data"
    },
    {
     "data": {
      "text/markdown": [
       "Für den Fit ergeben sich die Werte \n",
       "\n",
       "$b = -1.7 \\pm 0.5$ [m] &\n",
       "$m = 4.5e+08 \\pm 4.9e+07$ [m/s] \n",
       "\n",
       "Die Steigung der Gerade, welche dem von uns gemessenen Wert der Lichtgeschwindigkeit Entspricht\n",
       "ergibt sich also als: \n",
       "\n",
       "$c_{gemessen} = 4.5e+08 \\pm 4.9e+07$ [m/s]"
      ],
      "text/plain": [
       "<IPython.core.display.Markdown object>"
      ]
     },
     "execution_count": 27,
     "metadata": {},
     "output_type": "execute_result"
    }
   ],
   "source": [
    "# Plotgröße anpassen\n",
    "plt.figure(figsize=(16, 8))    \n",
    "\n",
    "# Zeichnen der Datenpunkte in schwarz\n",
    "plt.errorbar(delayAverage, LichtLaufstrecke2, yerr=LichtLaufstrecke2Err,\n",
    "             xerr=delayErr, fmt='o',capsize=5, label='Data with Error Bars', color='black')\n",
    "\n",
    "# Zeichnen der linearen Ausgleichsgerade in rot\n",
    "plt.plot(zeichenBereichTeil2, mTeil2 * zeichenBereichTeil2 + bTeil2, color='red', label='Regression Line')\n",
    "\n",
    "#b pm und m pm in die Legende einfügen\n",
    "plt.errorbar(0.9*10**-8,2.6,markersize='0',label = \"b=−1.7±0.5 [m] \", color=\"white\")\n",
    "plt.errorbar(0.9*10**-8,2.6,markersize='0',label = \"m=4.5e+08±4.9e+07 [m/s] \", color=\"white\")\n",
    "\n",
    "\n",
    "# Achsenbeschriftungen\n",
    "plt.xlabel(r'Delay des Signals [s]')\n",
    "plt.ylabel(r'Laufstrecke des Lichts [m]')\n",
    "plt.title(\"Licht-Laufstrecken Aufgetragen gegen gemessene Delays\")\n",
    "\n",
    "plt.legend()\n",
    "plt.show()\n",
    "\n",
    "\n",
    "# Ausgabe des Hz-Werts für den Minimalpunkt\n",
    "md(f\"\"\"Für den Fit ergeben sich die Werte \\n\n",
    "$b = {bTeil2:.1f} \\pm {bTeil2Err:.1f}$ [m] &\n",
    "$m = {mTeil2:.1e} \\pm {mTeil2Err:.1e}$ [m/s] \\n\n",
    "Die Steigung der Gerade, welche dem von uns gemessenen Wert der Lichtgeschwindigkeit Entspricht\n",
    "ergibt sich also als: \\n\n",
    "$c_{{gemessen}} = {mTeil2:.1e} \\pm {mTeil2Err:.1e}$ [m/s]\"\"\")"
   ]
  },
  {
   "cell_type": "markdown",
   "metadata": {},
   "source": [
    "## 3. Pulslaser\n",
    "Statt des einfachen Laserpointers wurde nun der Pulslaser angeschlossen, welcher mittels des Funktionsgenerator gesteuert wurde. \n",
    "Diesmal wurde nur der abstand D variiert. Es ergibt sich also für die Lichtlauflänge\n",
    "\n",
    "$$L=A+B+C+D$$\n",
    "\n",
    "Für den fehler ergibt sich \n",
    "\n",
    "$$\\Delta L = \\sqrt{4\\cdot0.002\\text{m}}=0.004\\text{m}$$"
   ]
  },
  {
   "cell_type": "markdown",
   "metadata": {},
   "source": [
    "### Daten eingeben"
   ]
  },
  {
   "cell_type": "code",
   "execution_count": 13,
   "metadata": {},
   "outputs": [],
   "source": [
    "# Lichtlaufstrecke\n",
    "A, B, C = 0.565, 0.782, 0.815\n",
    "MessungenD = np.array([60,50,40,30,20,10])*0.01\n",
    "fehlerStreckenmessung = 0.002\n",
    "\n",
    "LichtLaufstrecke3 = MessungenD + A + B + C\n",
    "LichtLaufstrecke3Err = np.sqrt(4*0.002)\n",
    "\n",
    "# gemessene Delays mit Fehler\n",
    "MessungDelay3 = np.array([12,11,10,9,7.6,5]) * 10**-9\n",
    "MessungDelay3Err = np.array([1,1,1,1,0.5,2]) * 10**-9 "
   ]
  },
  {
   "cell_type": "markdown",
   "metadata": {},
   "source": [
    "### Fit berechnen"
   ]
  },
  {
   "cell_type": "code",
   "execution_count": 24,
   "metadata": {},
   "outputs": [],
   "source": [
    "# Bestimmung der Fitparameter\n",
    "bTeil3 = bestB(MessungDelay3,LichtLaufstrecke3)\n",
    "mTeil3 = bestM(MessungDelay3,LichtLaufstrecke3)\n",
    "\n",
    "# Bestimmung von Fehler auf Fit parameter\n",
    "bTeil3Err = stuB(MessungDelay3,LichtLaufstrecke3)\n",
    "mTeil3Err = stuM(MessungDelay3,LichtLaufstrecke3)\n",
    "\n",
    "# Definieren des Zeichenbereichs\n",
    "zeichenBereich = np.linspace(0, 1.3e-8, 100)"
   ]
  },
  {
   "cell_type": "markdown",
   "metadata": {},
   "source": [
    "### Daten Plotten mit Errorbars"
   ]
  },
  {
   "cell_type": "code",
   "execution_count": 25,
   "metadata": {},
   "outputs": [
    {
     "data": {
      "image/png": "[encoded data removed]",
      "text/plain": [
       "<Figure size 1152x576 with 1 Axes>"
      ]
     },
     "metadata": {
      "needs_background": "light"
     },
     "output_type": "display_data"
    },
    {
     "data": {
      "text/markdown": [
       "Für den Fit ergeben sich die Werte \n",
       "\n",
       "$b = 1.9 \\pm 0.1$ [m] & $m = 7.2e+07 \\pm 7.8e+06$ [m/s] \n",
       "\n",
       "Die Steigung der Gerade, welche dem von uns gemessenen Wert der Lichtgeschwindigkeit Entspricht\n",
       "ergibt sich also als: \n",
       "\n",
       "$c_{gemessen} = 7.2e+07 \\pm 7.8e+06$ [m/s]"
      ],
      "text/plain": [
       "<IPython.core.display.Markdown object>"
      ]
     },
     "execution_count": 25,
     "metadata": {},
     "output_type": "execute_result"
    }
   ],
   "source": [
    "# Plotgröße anpassen\n",
    "plt.figure(figsize=(16, 8))    \n",
    "\n",
    "# Datenpunkte einzeichnen\n",
    "plt.errorbar(MessungDelay3, LichtLaufstrecke3, yerr=LichtLaufstrecke3Err, xerr=MessungDelay3Err, capsize=5,\n",
    "             fmt='o', label='Data with Error Bars', color='black')\n",
    "\n",
    "# Ausgleichsgerade einzeichnen\n",
    "plt.plot(zeichenBereich, mTeil3 * zeichenBereich + bTeil3, color='red', label='Regression Line')\n",
    "\n",
    "#b pm und m pm in die Legende einfügen\n",
    "plt.errorbar(0.9*10**-8,2.6,markersize='0',label = \"b=1.9±0.1 [m] \", color=\"white\")\n",
    "plt.errorbar(0.9*10**-8,2.6,markersize='0',label = \"m=7.2e+07±7.8e+06 [m/s]\", color=\"white\")\n",
    "\n",
    "# Achsenbeschriftungen\n",
    "plt.xlabel('Delay ')\n",
    "plt.ylabel('Laufstrecke des Lichts')\n",
    "plt.title(\"Licht-Laufstrecken Aufgetragen gegen gemessene Delays\")\n",
    "\n",
    "plt.legend()\n",
    "plt.show()\n",
    "\n",
    "# Ausgabe des Hz-Werts für den Minimalpunkt\n",
    "md(f\"\"\"Für den Fit ergeben sich die Werte \\n\n",
    "$b = {bTeil3:.1f} \\pm {bTeil3Err:.1f}$ [m] & $m = {mTeil3:.1e} \\pm {mTeil3Err:.1e}$ [m/s] \\n\n",
    "Die Steigung der Gerade, welche dem von uns gemessenen Wert der Lichtgeschwindigkeit Entspricht\n",
    "ergibt sich also als: \\n\n",
    "$c_{{gemessen}} = {mTeil3:.1e} \\pm {mTeil3Err:.1e}$ [m/s]\"\"\")"
   ]
  },
  {
   "cell_type": "markdown",
   "metadata": {},
   "source": [
    "### Berechnung t-Werte"
   ]
  },
  {
   "cell_type": "code",
   "execution_count": 49,
   "metadata": {},
   "outputs": [
    {
     "name": "stdout",
     "output_type": "stream",
     "text": [
      "706671.2805280527\n"
     ]
    }
   ],
   "source": [
    "t1 = abs((lichtgeschwindigkeit-pc.c)/lichtgeschwindigkeitErr)\n",
    "tMin = abs(lichtgeschwindigkeitMin-pc.c)/lichtgeschwindigkeitMinErr\n",
    "t2 = abs((lichtgeschwindigkeit2-pc.c)/lichtgeschwindigkeitErr2)\n",
    "t3 = abs((mTeil2-pc.c)/mTeil2Err)\n",
    "t4 = abs((mTeil3-pc.c)/mTeil3Err)\n",
    "\n",
    "print(tMin)"
   ]
  },
  {
   "cell_type": "markdown",
   "metadata": {},
   "source": [
    "# Diskussion\n",
    "Es wurde für die 1. Methode mit dem Optischer Chopper mithilfe zweier Messreihen die Lichtgeschwindigkeit berechnen: dabei ergaben sich die folgenden Werte:\n",
    "$$\n",
    " c_1 = 27.9\\pm 0.5 \\times 10^3 \\times 10^3 \\left[\\frac{\\text{m}}{\\text{s}}\\right] \\quad  \n",
    " c_2 = 55.7\\pm 1.0 \\times 10^3 \\left[\\frac{\\text{m}}{\\text{s}}\\right]\n",
    "$$\n",
    "Wenn wir dies mit dem Literaturwert der Lichtgeschwindigkeit $\\left(299 792 458 \\left[\\frac{\\text{m}}{\\text{s}}\\right]\\right)$ mithilfe eines t-Tests vergleichen erhalten wir t-Werte von:\n",
    "$$\n",
    " t_1 = 5.8\\times10^5 \\quad  \n",
    " t_2 = 2.9\\times10^5\n",
    "$$\n",
    "Diese Verträglichkeiten sind nicht im Bereich t<2, womit der ermittelte Wert und der Literaturwert nicht miteinander verträglich sind. Die Messwerte ergeben eine Lichtgeschwindigkeit, die nicht annähernd richtig ist. Als Untergrenze der Lichtgeschwindigkeit wurde folgender Wert ermittelt:\n",
    "$$\n",
    "    c_\\text{ug} = 22.5 \\pm 0.4 \\times 10^3 \\left[\\frac{\\text{m}}{\\text{s}}\\right]\n",
    "$$\n",
    "Für die 2. Messmethode mit dem Funktiongenerator (Durch Subtext 'fg' gekennzeichnet) erhielten wir als Lichtgeschwindigkeit un den dazugeörigen t-Wert:\n",
    "$$\n",
    "    c_\\text{fg} = 4.5 \\pm 0.5 \\times 10^8 \\left[\\frac{\\text{m}}{\\text{s}}\\right]\\quad \n",
    "    t_\\text{fg} = 3.0\n",
    "$$\n",
    "Für die 3. Messmethode mit dem Pulslaser (Durch Subtext 'pl' gekennzeichnet) und Funktiongenerator erhielten wir als Lichtgeschwindigkeit un den dazugeörigen t-Wert:\n",
    "$$\n",
    "    c_\\text{fg} = 7.2 \\pm 0.8 \\times 10^7 \\left[\\frac{\\text{m}}{\\text{s}}\\right]\\quad \n",
    "    t_\\text{pl} = 2.9 \\times 10^1\n",
    "$$\n",
    "Am zufriedenstellendsten ist dabei die 2. Messmethode, da sie am besten mit dem Literaturwert verträglich ist, gleichzeitig gilt es aber anzumerken, dass sie dennoch sehr stark abweicht und des Weiteren die Lichtgeschwindigkeit überschätzt und damit nach allen gängigen theoretischen Modellen unphysikalisch ist. Insgesamt kann festgehalten werden, dass die Lichtgeschwindigkeit mindestens"
   ]
  },
  {
   "cell_type": "markdown",
   "metadata": {},
   "source": [
    "# Verbesserte Messmethoden"
   ]
  },
  {
   "cell_type": "code",
   "execution_count": 15,
   "metadata": {},
   "outputs": [],
   "source": [
    "# Schlitze pro Sekunde, abgelesen vom Chopper\n",
    "MaximaleFrequenz = 20090\n",
    "MaximaleFrequenzErr = 10\n",
    "\n",
    "# Kleinste mögliche Zeit pro Schlitz\n",
    "MinimaleZeit = DivisionMitFehler(1, 0, MaximaleFrequenz, MaximaleFrequenzErr)[0]\n",
    "MinimaleZeitErr = DivisionMitFehler(1, 0, MaximaleFrequenz, MaximaleFrequenzErr)[1]\n",
    "\n",
    "Lichtgeschwindigkeit = 299792458\n",
    "\n",
    "# Minimal nötige Strecke für komplettes verschwinden des Signals bei gleicher Maximaler Frequenz\n",
    "minDistanz = MultiplikationMitFehler(Lichtgeschwindigkeit, 0, MinimaleZeit, MinimaleZeitErr)[0]\n",
    "minDistanzErr = MultiplikationMitFehler(Lichtgeschwindigkeit, 0, MinimaleZeit, MinimaleZeitErr)[1]\n",
    "\n",
    "# Minimal nötige Frequenz für das verschwinden des Signals bei gleicher Strecke\n",
    "Distanz = LichtLaufstrecke1\n",
    "DistanzErr = LichtLaufstrecke1Err\n",
    "\n",
    "#benötigte Zeit pro Schlitz, bei der im Versuch verwendeten Strecke\n",
    "ZeitGleicheDistanz = DivisionMitFehler(Distanz, DistanzErr,Lichtgeschwindigkeit, 0)[0]\n",
    "ZeitGleicheDistanzErr = DivisionMitFehler(Distanz, DistanzErr, Lichtgeschwindigkeit, 0)[1]\n",
    "\n",
    "#Frequent, berechnet aus der benötigten Zeit pro Schlitz, bei der im Versuch verwendeten Strecke\n",
    "FrequenzGleicheDistanz = DivisionMitFehler(1, 0, ZeitGleicheDistanz, ZeitGleicheDistanzErr)[0]\n",
    "FrequenzGleicheDistanzErr = DivisionMitFehler(1, 0, ZeitGleicheDistanz, ZeitGleicheDistanzErr)[1]"
   ]
  },
  {
   "cell_type": "code",
   "execution_count": null,
   "metadata": {},
   "outputs": [],
   "source": []
  }
 ],
 "metadata": {
  "kernelspec": {
   "display_name": "Python 3",
   "language": "python",
   "name": "python3"
  },
  "language_info": {
   "codemirror_mode": {
    "name": "ipython",
    "version": 3
   },
   "file_extension": ".py",
   "mimetype": "text/x-python",
   "name": "python",
   "nbconvert_exporter": "python",
   "pygments_lexer": "ipython3",
   "version": "3.8.3"
  }
 },
 "nbformat": 4,
 "nbformat_minor": 4
}
