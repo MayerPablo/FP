{
 "cells": [
  {
   "cell_type": "markdown",
   "metadata": {},
   "source": [
    "# Imports"
   ]
  },
  {
   "cell_type": "code",
   "execution_count": 25,
   "metadata": {},
   "outputs": [],
   "source": [
    "import numpy as np\n",
    "import sympy as sp\n",
    "from sympy import *\n",
    "import re\n",
    "\n",
    "import matplotlib.pyplot as plt\n",
    "import matplotlib.colors as c\n",
    "from matplotlib.ticker import PercentFormatter\n",
    "from matplotlib import rcParams\n",
    "\n",
    "from math import log10, floor\n",
    "from math import *\n",
    "import math\n",
    "\n",
    "from IPython.display import display, Latex\n",
    "from IPython.display import Markdown as md\n",
    "\n",
    "import scipy.constants as pc\n",
    "from scipy.optimize import curve_fit\n",
    "from scipy.optimize import minimize\n",
    "from scipy import stats"
   ]
  },
  {
   "cell_type": "markdown",
   "metadata": {},
   "source": [
    "# Style changes"
   ]
  },
  {
   "cell_type": "code",
   "execution_count": 17,
   "metadata": {},
   "outputs": [],
   "source": [
    "rcParams['font.size'] = 15\n",
    "rcParams['font.weight'] = 'bold'\n",
    "rcParams['text.usetex'] = True\n",
    "rcParams['axes.grid'] = True\n",
    "rcParams['font.family'] = 'serif'\n",
    "rcParams['font.sans-serif'] = ['Latin Modern Math']\n",
    "rcParams['xtick.labelsize'] = 18\n",
    "rcParams['ytick.labelsize'] = 18\n",
    "rcParams[\"xtick.minor.size\"] =  4\n",
    "rcParams[\"ytick.minor.size\"] =  4\n",
    "rcParams[\"xtick.minor.visible\"] =  True\n",
    "rcParams[\"ytick.minor.visible\"] =  True"
   ]
  },
  {
   "cell_type": "markdown",
   "metadata": {},
   "source": [
    "# Selfcoded functions"
   ]
  },
  {
   "cell_type": "code",
   "execution_count": 3,
   "metadata": {
    "jupyter": {
     "source_hidden": true
    },
    "tags": []
   },
   "outputs": [],
   "source": [
    "# mean value\n",
    "def am(werte):\n",
    "    return np.mean(werte)\n",
    "\n",
    "# stdandard deviation\n",
    "def std(werte):\n",
    "    summen_der_quadrate = 0\n",
    "    for wert in werte:\n",
    "        summen_der_quadrate+=(wert-am(werte))**2       \n",
    "    return np.sqrt(summen_der_quadrate/(werte.size-1))\n",
    "\n",
    "# standard error\n",
    "def stu(werte):\n",
    "    return std(werte)/np.sqrt(werte.size)\n",
    "\n",
    "# gaussian error propogation\n",
    "def fehler(f, werte, unsicherheiten, variablen):\n",
    "    zMax = 0\n",
    "    for i in range(werte.size):\n",
    "        dif = np.abs(sy.diff(f, variablen[i]))\n",
    "        zMax += (dif * unsicherheiten[i])**2\n",
    "    zMax = sqrt(zMax)\n",
    "    for j in range(werte.size):\n",
    "        zMax = sub(zMax, variablen[j], werte[j])\n",
    "    return zMax\n",
    "\n",
    "# maximum error with gaussian error propagation\n",
    "def fehlerMax(f, werte, unsicherheiten, variablen):\n",
    "    zMax = 0\n",
    "    for i in range(werte.size):\n",
    "        dif = np.abs(sy.diff(f, variablen[i]))\n",
    "        zMax += dif * unsicherheiten[i]\n",
    "    for j in range(werte.size):\n",
    "        zMax = sub(zMax, variablen[j], werte[j])\n",
    "    return zMax\n",
    "\n",
    "# what error makes up the most of the resulting error in error propogation\n",
    "def groessterBeitrag(f, werte, unsicherheiten, variablen):\n",
    "    zMax = 0\n",
    "    zMaxArray = np.array([])\n",
    "    for i in range (werte.size):\n",
    "        zMax = (np.abs(sy.diff(f, variablen[i])) * unsicherheiten[i])\n",
    "        for j in range(werte.size):\n",
    "            zMax = sub(zMax, variablen[j], werte[j])\n",
    "        x = np.array([zMax])\n",
    "        zMaxArray = np.append(zMaxArray, x)\n",
    "    return variablen[np.argmax(zMaxArray)], zMaxArray[np.argmax(zMaxArray)]\n",
    "\n",
    "# quality of life subsitution function for sympy tp substitute multiple variables at once\n",
    "def sub(zMax, variable, wert):\n",
    "    return zMax.subs([(variable, wert)])\n",
    "\n",
    "# easier formula for gaussian error propagation with addition\n",
    "def einfachGaussAdd(unsicherheiten, koeffizienten):\n",
    "    dz = 0\n",
    "    for i in range (unsicherheiten.size):\n",
    "        dz += (koeffizienten[i]*unsicherheiten[i])**2\n",
    "    return sqrt(dz)\n",
    "\n",
    "# easier formula for gaussian error propagation with multiplication\n",
    "def einfachGaussMult(unsicherheiten, werte, exponenten):\n",
    "    dz = 0\n",
    "    for i in range (unsicherheiten.size):\n",
    "        dz += (exponenten[i]*unsicherheiten[i]/werte[i])**2\n",
    "    return sqrt(dz)\n",
    "\n",
    "# easier formula for maximum gaussian error propagation with multiplication\n",
    "def einfachGaussMultMax(unsicherheiten, werte, exponenten):\n",
    "    max_a = 0\n",
    "    num = -1\n",
    "    for i in range (unsicherheiten.size):\n",
    "        maxi = (exponenten[i]*unsicherheiten[i]/werte[i])**2\n",
    "        if max_a <= maxi:\n",
    "            max_a = maxi\n",
    "            num = i\n",
    "    return (max_a, num)\n",
    "\n",
    "# t-value for without literature value\n",
    "def vertraeglichkeit(am_1, am_2, stu_1, stu_2):\n",
    "    return (np.abs(am_1-am_2)/(sqrt((stu_1**2)*(stu_2**2))))\n",
    "\n",
    "# analytic linear regression y(x)=a + b*x calculates a\n",
    "def bestA(x, y):\n",
    "    return (sum(x**2)*sum(y)-sum(x)*sum(x*y))/(x.size*sum(x**2)-sum(x)**2)\n",
    "\n",
    "# analytic linear regression y(x)=a + b*x calculates b\n",
    "def bestB(x, y):\n",
    "    return (x.size*sum(x*y)-sum(x)*sum(y))/(x.size*sum(x**2)-sum(x)**2)\n",
    "\n",
    "# analytic linear regression calculates variance \n",
    "# (only used for next two functions, never gets called on its own, ehances readability) \n",
    "def streuung(x, y):\n",
    "    s = 0\n",
    "    for i in range(x.size):\n",
    "        s += (y[i]-(bestA(x, y)+bestB(x, y)*x[i]))**2\n",
    "    return np.sqrt(s/(x.size-2))\n",
    "\n",
    "# analytic linear regression y(x)=a + b*x calculates error on a\n",
    "def stuA(x, y):\n",
    "    s = streuung(x, y)\n",
    "    return s*np.sqrt(sum(x**2)/((x.size*sum(x**2)-sum(x)**2)))\n",
    "\n",
    "# analytic linear regression y(x)=a + b*x calculates error on b\n",
    "def stuB(x, y):\n",
    "    s = streuung(x, y)\n",
    "    return s*np.sqrt(x.size/((x.size*sum(x**2)-sum(x)**2)))"
   ]
  },
  {
   "cell_type": "markdown",
   "metadata": {},
   "source": [
    "# Versuch Lichtlaufzeiten"
   ]
  },
  {
   "cell_type": "markdown",
   "metadata": {},
   "source": [
    "Wichtige Anmerkungen zu den Codekonventionen:\n",
    "- Variablennamen nutzen CamelCase und kürzen ab z.B.: linsenAbstandGegenstand was dem Abstand der Linse von der Gegenstandseite entspricht\n",
    "- Fehler werden hierbei mit dem Suffix Err im CamelCase gekennzeichnet z.B.: abstandErr entspricht dem Fehler der Abstandsvariable \n",
    "- Einheiten stehen kommentiert nach den Einheiten z.B.: x = 3 # mm oder \"vMax = 2 # V\""
   ]
  },
  {
   "cell_type": "markdown",
   "metadata": {},
   "source": [
    "\n",
    "## Versuchsteil 1 - Chopper\n"
   ]
  },
  {
   "cell_type": "code",
   "execution_count": 27,
   "metadata": {
    "code_folding": [
     0
    ]
   },
   "outputs": [
    {
     "data": {
      "text/markdown": [
       "Brennweite mit Fehler: $45.4 \\pm 1.4$ [mm]"
      ],
      "text/plain": [
       "<IPython.core.display.Markdown object>"
      ]
     },
     "execution_count": 27,
     "metadata": {},
     "output_type": "execute_result"
    }
   ],
   "source": [
    "# Funktion zur Berechnung der Brennweite\n",
    "def brennweite(g, b):\n",
    "    return 1/(1/g+1/b)\n",
    "\n",
    "\n",
    "# Abstandsmessungen\n",
    "abstandGegenstandLinse = 130 # mm\n",
    "abstandLinseSchirm = 65      # mm\n",
    "\n",
    "linsenAbstandGegenstand = 7      # mm\n",
    "linsenAbstandSchirm = 3          # mm\n",
    "\n",
    "# Fehler aller Abstandsmessungen\n",
    "abstandErr = 1 # mm\n",
    "\n",
    "# Berechnung der Brennweite\n",
    "brennweite = brennweite(abstandGegenstandLinse+linsenAbstandGegenstand, abstandLinseSchirm+linsenAbstandSchirm)\n",
    "\n",
    "# Berechnung des Fehlers der Brennweite mit Gausscher Fehlerforpflanzung\n",
    "brennweiteErr = einfachGaussAdd(np.array([abstandErr,abstandErr]),np.array([1,1]))\n",
    "\n",
    "\n",
    "md(f\"Brennweite mit Fehler: ${brennweite:.1f} \\pm {brennweiteErr:.1f}$ [mm]\")"
   ]
  },
  {
   "cell_type": "code",
   "execution_count": 32,
   "metadata": {
    "code_folding": [
     0
    ]
   },
   "outputs": [],
   "source": [
    "# Gemessene Spannungen\n",
    "spannungen = np.array([208, 197, 189, 179, 167, 155, 144, 135, 127, 117, 111, 104, 98, 93, 89, 85, 81, \n",
    "                       78, 74, 71, 69, 66, 64, 62, 59, 58, 53, 48, 46, 42, 40, 38, 37, 34, 33, 32, 30])  # mV\n",
    "# Fehler der Spannungen\n",
    "spannungenErr = 2 # mV\n",
    "\n",
    "# Dazugehörige Frequenzen\n",
    "frequenzenKlein = np.arange(150, 4050, 150)                    # Hz\n",
    "frequenzenGroß = np.arange(4500, 10000, 500)                   # Hz\n",
    "frequenzen = np.concatenate((frequenzenKlein, frequenzenGroß)) # Hz\n",
    "\n",
    "# Fehler der Frequenzen\n",
    "frequenzenErr = 20 # Hz"
   ]
  },
  {
   "cell_type": "code",
   "execution_count": 46,
   "metadata": {
    "code_folding": [
     0
    ]
   },
   "outputs": [
    {
     "data": {
      "image/png": "[encoded data removed]",
      "text/plain": [
       "<Figure size 864x432 with 1 Axes>"
      ]
     },
     "metadata": {
      "needs_background": "light"
     },
     "output_type": "display_data"
    },
    {
     "name": "stdout",
     "output_type": "stream",
     "text": [
      "21704\n"
     ]
    }
   ],
   "source": [
    "# FIt durch die Daten berechnen\n",
    "\n",
    "# Cosinusfunktion \n",
    "def myCos(x, f, a, p, o):\n",
    "    return a*np.cos(f*x+p) + o\n",
    "\n",
    "# Fitfunktion\n",
    "def fitCos(p0, x, y):\n",
    "    fit = curve_fit(myCos, x, y, p0=p0, maxfev = 10000000)\n",
    "    data_fit = myCos(x, *fit[0])\n",
    "    return data_fit\n",
    "\n",
    "# Anfangswerte für den fit (geraten)\n",
    "freqGuess = 1/(340000*pc.pi)\n",
    "ampGuess = 3000000\n",
    "phaseGuess = pi/1.0035\n",
    "offsetGuess = 3000000\n",
    "p0 = np.array([freqGuess, ampGuess, phaseGuess, offsetGuess] )\n",
    "xRange = np.arange(-10000, 20001, 1)\n",
    "\n",
    "# Berechnen der gefitteten Werte\n",
    "fitWerte = fitCos(p0,frequenzen,spannungen)\n",
    "\n",
    "# Plotgröße anpassen\n",
    "plt.figure(figsize=(12, 6))  \n",
    "\n",
    "# Gemessene Spannungswerte auftragen\n",
    "plt.errorbar(frequenzen, spannungen, xerr=frequenzenErr, yerr=spannungenErr, \n",
    "             fmt='.', color='red', label='Datenpunkte', marker=None)\n",
    "\n",
    "# Angepasste Cosinusfunktion aufzeichnen\n",
    "plt.plot(frequenzen, fitWerte, color='crimson', label='Fit Cos',marker=None)\n",
    "\n",
    "# Angepasste Cosinusfunktion auf größerem Bereich aufzeichnen\n",
    "plt.plot(xRange, myCos(xRange, 1/(340000*pc.pi), 3000000, pi/1.0035, 3000000), color='darkblue', label='Fit Cos self',marker=None)\n",
    "\n",
    "# labels und legend\n",
    "plt.xlabel(r'Frequenz [Hz]')\n",
    "plt.ylabel(r'Spannung [mV]')\n",
    "plt.legend()\n",
    "\n",
    "# Plot anzeigen lassen\n",
    "plt.grid(True)\n",
    "plt.title('Spannung gegen die Frequenz aufgetragen')\n",
    "plt.show()\n",
    "\n",
    "# Minimum der Cosinusfunktion anzeigen lassen:\n",
    "\n",
    "print(xRange[(myCos(xRange, 1/(340000*pc.pi), 3000000, pi/1.0035, 3000000)).argmin()])"
   ]
  },
  {
   "cell_type": "markdown",
   "metadata": {},
   "source": [
    "## 2. Methode Funktionsgenerator\n",
    "Die gesamte Strecke, welche das Licht zurücklegt wird entsprechend der Skizze mit der Formel\n",
    "\n",
    "$$L = A + B + C + \\sqrt{F^2+C^2}$$\n",
    "\n",
    "bestimmt. Für den Fehler haben wir auf jede Messung einen Wert von $\\Delta = 0.002$m geschätzt, bei diesem Werthandeölt es sich um einen statistischen Fehler, da er sich nicht nach der Skalenauflösung des Messinstruments richtet (das Messinstrument war ein Bandmaß mit einer Skalenauflösung von 1mm), sondern nach der Ungenauigkeit der vermessenden Person. Mittels der Gaußschen Fehlerfortpflanzung ergibt sich aus diesem Fehler dann ein Fehler für die gesamte Länge von \n",
    "\n",
    "$$\\Delta L=\\sqrt{0.006\\text{m}+0.002\\text{m}(F^{2}+C^{2})^{-\\frac{1}{2}}(F+C)}$$\n",
    "\n",
    "Der Fehler auf den Delay wurde mit $\\Delta Delay = 0.2$ns geschätzt."
   ]
  },
  {
   "cell_type": "code",
   "execution_count": 19,
   "metadata": {},
   "outputs": [],
   "source": [
    "# Funktion zum Berechnen der Lichtlaufstrecke\n",
    "def bestimmungLichtLaufstrecke(C):\n",
    "    return np.sqrt(F**2+C**2) + A + B + C\n",
    "\n",
    "# Funktion zum Berechnen des Fehlers auf die Lichtlaufstrecke mittels Gaußscher Fehlerfortpflanzung\n",
    "def bestimmungLichtLaufstreckeErr(C): \n",
    "    return np.sqrt(0.006+0.002*(F**2+C**2)**(-1/2)*(F+C))\n",
    "\n",
    "# Längen des Aufbaus:\n",
    "A,B,F = 0.763, 0.750, 0.065                                 # m\n",
    "MessungenC = np.array([0.74,0.64,0.54,0.44,0.34,0.24,0.14]) # m\n",
    "StreckenmessungErr = 0.002                                  # m\n",
    "\n",
    "# Gemessene Delays mit Average, min und max, abgelesen vom Oszilloskop\n",
    "delayAverage = np.array([10.2,9.9,9.7,9.4,9,8.3,7.6]) * 10**-9 # s\n",
    "delayMin = np.array([9.6,9.6,9.3,9.3,8.8,7.2,7.0]) * 10**-9    # s\n",
    "delayMax = np.array([10.6,10.2,9.9,9.9,9.6,10.9,9.4]) * 10**-9 # s\n",
    "delayErr = 0.2 * 10**-9                                        # s\n",
    "\n",
    "# Berechnen Gesamt Länge und Fehler\n",
    "LichtLaufstrecke2 = bestimmungLichtLaufstrecke(MessungenC)\n",
    "LichtLaufstrecke2Err = bestimmungLichtLaufstreckeErr(MessungenC)"
   ]
  },
  {
   "cell_type": "code",
   "execution_count": 21,
   "metadata": {},
   "outputs": [
    {
     "data": {
      "image/png": "[encoded data removed]",
      "text/plain": [
       "<Figure size 864x432 with 1 Axes>"
      ]
     },
     "metadata": {
      "needs_background": "light"
     },
     "output_type": "display_data"
    },
    {
     "name": "stdout",
     "output_type": "stream",
     "text": [
      "447730281.1860585\n"
     ]
    }
   ],
   "source": [
    "# Plotten der Daten und Lineare Regression\n",
    "bTeil2 = bestA(delayAverage,LichtLaufstrecke2)\n",
    "mTeil2 = bestB(delayAverage,LichtLaufstrecke2)\n",
    "\n",
    "# Plotgröße anpassen\n",
    "plt.figure(figsize=(12, 6))  \n",
    "\n",
    "# Zeichnen der Datenpunkte in schwarz\n",
    "plt.errorbar(delayAverage, LichtLaufstrecke2, yerr=LichtLaufstrecke2Err,\n",
    "             xerr=delayErr, fmt='o', label='Data with Error Bars', color='black')\n",
    "\n",
    "# Zeichnen der linearen Ausgleichsgerade in rot\n",
    "plt.plot(delayAverage, mTeil2 * delayAverage + bTeil2, color='red', label='Regression Line')\n",
    "\n",
    "# Achsenbeschriftungen\n",
    "plt.xlabel(r'Delay des Signals [s]')\n",
    "plt.ylabel(r'Laufstrecke des Lichts [m]')\n",
    "\n",
    "plt.legend()\n",
    "plt.show()\n",
    "\n",
    "# Ausgabe der Steigung bzw. der Lichtgeschwindigkeit\n",
    "print(mTeil2)"
   ]
  },
  {
   "cell_type": "markdown",
   "metadata": {},
   "source": [
    "## 3. Pulslaser\n",
    "Statt des einfachen Laserpointers wurde nun der Pulslaser angeschlossen, welcher mittels des Funktionsgenerator gesteuert wurde. \n",
    "Diesmal wurde nur der abstand D variiert. Es ergibt sich also für die Lichtlauflänge\n",
    "\n",
    "$$L=A+B+C+D$$\n",
    "\n",
    "Für den fehler ergibt sich \n",
    "\n",
    "$$\\Delta L = \\sqrt{4\\cdot0.002\\text{m}}=0.004\\text{m}$$"
   ]
  },
  {
   "cell_type": "code",
   "execution_count": 22,
   "metadata": {},
   "outputs": [],
   "source": [
    "# Daten eingeben\n",
    "\n",
    "# Lichtlaufstrecke\n",
    "A, B, C = 0.565, 0.782, 0.815\n",
    "MessungenD = np.array([60,50,40,30,20,10])*0.01\n",
    "fehlerStreckenmessung = 0.002\n",
    "\n",
    "LichtLaufstrecke3 = MessungenD + A + B + C\n",
    "LichtLaufstrecke3Err = np.sqrt(4*0.002)\n",
    "\n",
    "#gemessene Delays mit Fehler\n",
    "MessungDelay3 = np.array([12,11,10,9,7.6,5]) * 10**-9\n",
    "MessungDelay3Err = np.array([1,1,1,1,0.5,2]) * 10**-9 "
   ]
  },
  {
   "cell_type": "code",
   "execution_count": 23,
   "metadata": {},
   "outputs": [
    {
     "name": "stdout",
     "output_type": "stream",
     "text": [
      "Ergebnis für die Lichtgeschwindigketit 72413793.10344855\n"
     ]
    },
    {
     "data": {
      "image/png": "[encoded data removed]",
      "text/plain": [
       "<Figure size 864x432 with 1 Axes>"
      ]
     },
     "metadata": {
      "needs_background": "light"
     },
     "output_type": "display_data"
    }
   ],
   "source": [
    "# Daten Plotten mit Errorbars\n",
    "\n",
    "bTeil3 = bestA(MessungDelay3,LichtLaufstrecke3)\n",
    "mTeil3 = bestB(MessungDelay3,LichtLaufstrecke3)\n",
    "\n",
    "# Plotgröße anpassen\n",
    "plt.figure(figsize=(12, 6))  \n",
    "\n",
    "\n",
    "plt.errorbar(MessungDelay3, LichtLaufstrecke3, yerr=LichtLaufstrecke3Err, xerr=MessungDelay3Err, \n",
    "             fmt='o', label='Data with Error Bars', color='black')\n",
    "plt.plot(MessungDelay3, mTeil3 * MessungDelay3 + bTeil3, color='red', label='Regression Line')\n",
    "\n",
    "#Ausgabe des Eregebnisses für die Lichtgeschwindigkeit\n",
    "print(\"Ergebnis für die Lichtgeschwindigketit\",mTeil3)\n",
    "\n",
    "#WOAH\n",
    "plt.xlabel('Delay ')\n",
    "plt.ylabel('Laufstrecke des Lichts')\n",
    "plt.legend()\n",
    "plt.show()"
   ]
  },
  {
   "cell_type": "code",
   "execution_count": null,
   "metadata": {},
   "outputs": [],
   "source": []
  }
 ],
 "metadata": {
  "kernelspec": {
   "display_name": "Python 3",
   "language": "python",
   "name": "python3"
  },
  "language_info": {
   "codemirror_mode": {
    "name": "ipython",
    "version": 3
   },
   "file_extension": ".py",
   "mimetype": "text/x-python",
   "name": "python",
   "nbconvert_exporter": "python",
   "pygments_lexer": "ipython3",
   "version": "3.8.3"
  }
 },
 "nbformat": 4,
 "nbformat_minor": 4
}
