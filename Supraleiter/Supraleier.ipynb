{
 "cells": [
  {
   "cell_type": "markdown",
   "metadata": {},
   "source": [
    "# Imports"
   ]
  },
  {
   "cell_type": "code",
   "execution_count": 6,
   "metadata": {},
   "outputs": [],
   "source": [
    "import numpy as np\n",
    "import sympy as sp\n",
    "from sympy import *\n",
    "import re\n",
    "\n",
    "import pandas as pd\n",
    "\n",
    "import matplotlib.pyplot as plt\n",
    "import matplotlib.colors as c\n",
    "from matplotlib.ticker import PercentFormatter\n",
    "from matplotlib import rcParams\n",
    "\n",
    "from math import log10, floor\n",
    "from math import *\n",
    "import math\n",
    "\n",
    "from IPython.display import display, Latex\n",
    "from IPython.display import Markdown as md\n",
    "\n",
    "import scipy.constants as pc\n",
    "from scipy.optimize import curve_fit\n",
    "from scipy.optimize import minimize\n",
    "from scipy import stats"
   ]
  },
  {
   "cell_type": "markdown",
   "metadata": {
    "heading_collapsed": true
   },
   "source": [
    "# Matplotlib Style changes"
   ]
  },
  {
   "cell_type": "code",
   "execution_count": 3,
   "metadata": {
    "hidden": true
   },
   "outputs": [],
   "source": [
    "rcParams['font.size'] = 15\n",
    "rcParams['font.weight'] = 'bold'\n",
    "rcParams['text.usetex'] = True\n",
    "rcParams['axes.grid'] = True\n",
    "rcParams['font.family'] = 'serif'\n",
    "rcParams['font.sans-serif'] = ['Latin Modern Math']\n",
    "rcParams['xtick.labelsize'] = 18\n",
    "rcParams['ytick.labelsize'] = 18\n",
    "rcParams[\"xtick.minor.size\"] =  4\n",
    "rcParams[\"ytick.minor.size\"] =  4\n",
    "rcParams[\"xtick.minor.visible\"] =  True\n",
    "rcParams[\"ytick.minor.visible\"] =  True"
   ]
  },
  {
   "cell_type": "markdown",
   "metadata": {
    "heading_collapsed": true
   },
   "source": [
    "# Statistical Selfcoded functions"
   ]
  },
  {
   "cell_type": "code",
   "execution_count": 4,
   "metadata": {
    "hidden": true,
    "jupyter": {
     "source_hidden": true
    },
    "tags": []
   },
   "outputs": [],
   "source": [
    "# easier formula for gaussian error propagation with addition\n",
    "def einfachGaussAdd(unsicherheiten, koeffizienten):\n",
    "    dz = 0\n",
    "    for i in range (unsicherheiten.size):\n",
    "        dz += (koeffizienten[i]*unsicherheiten[i])**2\n",
    "    return sqrt(dz)\n",
    "\n",
    "# easier formula for gaussian error propagation with multiplication\n",
    "def einfachGaussMult(unsicherheiten, werte, exponenten):\n",
    "    dz = 0\n",
    "    for i in range (unsicherheiten.size):\n",
    "        dz += (exponenten[i]*unsicherheiten[i]/werte[i])**2\n",
    "    return sqrt(dz)\n",
    "\n",
    "# Formlae for Gaußen Error propagation with result\n",
    "def DivisionMitFehler(A, deltaA, B, deltaB): # Für C=A/B\n",
    "    C = A/B\n",
    "    deltaC = abs(C) * math.sqrt((deltaA / A)**2 + (deltaB / B)**2)\n",
    "    return C,deltaC\n",
    "\n",
    "def MultiplikationMitFehler(A, deltaA, B, deltaB): #Für C=A*B\n",
    "    C = A * B\n",
    "    deltaC = abs(C) * ((deltaA / abs(A)) + (deltaB / abs(B)))\n",
    "    return C, deltaC\n",
    "\n",
    "# t-value for without literature value\n",
    "def vertraeglichkeit(am_1, am_2, stu_1, stu_2):\n",
    "    return (np.abs(am_1-am_2)/(sqrt((stu_1**2)*(stu_2**2))))\n",
    "\n",
    "# analytic linear regression y(x)=m*x + b calculates m\n",
    "def bestM(x, y):\n",
    "    return (x.size*sum(x*y)-sum(x)*sum(y))/(x.size*sum(x**2)-sum(x)**2)\n",
    "\n",
    "# analytic linear regression y(x)=m*x + b calculates b\n",
    "def bestB(x, y):\n",
    "    return (sum(x**2)*sum(y)-sum(x)*sum(x*y))/(x.size*sum(x**2)-sum(x)**2)\n",
    "\n",
    "# analytic linear regression calculates variance \n",
    "# (only used for next two functions, never gets called on its own, enhances readability) \n",
    "def streuung(x, y):\n",
    "    s = 0\n",
    "    for i in range(x.size):\n",
    "        s += (y[i]-(bestB(x, y)+bestM(x, y)*x[i]))**2\n",
    "    return np.sqrt(s/(x.size-2))\n",
    "\n",
    "# analytic linear regression y(x)=m*x + b calculates error on m\n",
    "def stuM(x, y):\n",
    "    s = streuung(x, y)\n",
    "    return s*np.sqrt(x.size/((x.size*sum(x**2)-sum(x)**2)))\n",
    "\n",
    "# analytic linear regression y(x)=m*x + b calculates error on b\n",
    "def stuB(x, y):\n",
    "    s = streuung(x, y)\n",
    "    return s*np.sqrt(sum(x**2)/((x.size*sum(x**2)-sum(x)**2)))\n"
   ]
  },
  {
   "cell_type": "markdown",
   "metadata": {},
   "source": [
    "# Ergebnisse des Versuchs Supraleiter"
   ]
  },
  {
   "cell_type": "markdown",
   "metadata": {},
   "source": [
    "Wichtige Anmerkungen zu den Codekonventionen:\n",
    "- Variablennamen nutzen CamelCase und kürzen ab z.B.: linsenAbstandGegenstand was dem Abstand der Linse von der Gegenstandseite entspricht\n",
    "- Fehler werden hierbei mit dem Suffix Err im CamelCase gekennzeichnet z.B.: abstandErr entspricht dem Fehler der Abstandsvariable \n",
    "- Einheiten stehen kommentiert nach den Einheiten z.B.: x = 3 # mm oder \"vMax = 2 # V\""
   ]
  },
  {
   "cell_type": "markdown",
   "metadata": {},
   "source": [
    "### Verwendetes Equipment\n",
    "Für den ersten Versuchsteil wurde die Photodiode verwendet. Diese hat zwar, gegenüber der Solarzelle, eine geringere Zeitauflösung, gibt aber dafür ein stärkeres Signal aus. Da Signal kann normalerweise mit dem Transimpedanzverstärker verstärkt werden, da dieser aber nicht funktioniert hat, war das Signal der Solarzelle vom Untergrund zu wenig unterscheidbar.\n",
    "Der Laser selbst konnte zur Verstärkung des Signals nicht heller gemacht werden, da der Lichtstrahl sonst zu breit wäre und nicht mehr vom Chopper geblockt werden könnte. Dies würde zu einer starken verfälschung des Signals führen.\n",
    "Es wurde im ersten Versuchsteil das LeCroy Oszilloskop verwendet, da dieses eine deutlich höhere Bandbreite als die Alternative von Rigol. \n",
    "\n",
    "Für den zweiten und dritten Versuchsteil wurde die Solarzelle verwendet, da hier der Laser deutlich stärker eingestellt werden kann und daher ein sinnvolles Signal am Oszilloskop erscheint. \n",
    "Es wurde das Oszilloskop von Rigol verwendet, da bei der alternative von LeCroy es nicht möglich war, den Delay der beiden Signale anzuzeigen.\n",
    "Als Funktionsverstärker wurde das neuere Modell von Rigol verwendet, da nur dieser Puls Signale ausgeben konnte."
   ]
  },
  {
   "cell_type": "markdown",
   "metadata": {},
   "source": [
    "\n",
    "## 1. Methode: Optischer Chopper\n",
    "\n",
    "Bei der ersten Methode wurde der Lichtstrahl mithilfe eines optischen Choppers unterbrochen, der dadurch entstandene Lichtpuls wurde an einem Spiegel zurück in eine Photodiode reflektiert und passierte dabei eine Strecke von $\\Delta s = 1.120 \\pm 0.005 $m. Damit der Laserstrahl am Ort des Choppers optimal fokussiert war, wurde die Brennweite einer Linse berechnet, und diese so installiert, dass ihr Brennpunkt mit der Chopperdisk kongruent war. Die resultierenden Spannung der Photodiode wurden mithilfe des LeCroy Lt344L Oszilloskops ausgelesen"
   ]
  },
  {
   "cell_type": "markdown",
   "metadata": {
    "heading_collapsed": true
   },
   "source": [
    "### Brennweite der Linse berechnen"
   ]
  },
  {
   "cell_type": "code",
   "execution_count": 4,
   "metadata": {
    "code_folding": [],
    "hidden": true
   },
   "outputs": [
    {
     "data": {
      "text/markdown": [
       "Brennweite mit Fehler: $45.4 \\pm 1.4$ [mm]"
      ],
      "text/plain": [
       "<IPython.core.display.Markdown object>"
      ]
     },
     "execution_count": 4,
     "metadata": {},
     "output_type": "execute_result"
    }
   ],
   "source": [
    "# Funktion zur Berechnung der Brennweite\n",
    "def brennweite(g, b):\n",
    "    return 1/(1/g+1/b)\n",
    "\n",
    "\n",
    "# Abstandsmessungen\n",
    "abstandGegenstandLinse = 130 # mm\n",
    "abstandLinseSchirm = 65      # mm\n",
    "\n",
    "linsenAbstandGegenstand = 7  # mm\n",
    "linsenAbstandSchirm = 3      # mm\n",
    "\n",
    "# Fehler aller Abstandsmessungen\n",
    "abstandErr = 1 # mm\n",
    "\n",
    "# Berechnung der Brennweite\n",
    "brennweite = brennweite(abstandGegenstandLinse+linsenAbstandGegenstand, abstandLinseSchirm+linsenAbstandSchirm)\n",
    "\n",
    "# Berechnung des Fehlers der Brennweite mit Gausscher Fehlerforpflanzung\n",
    "brennweiteErr = einfachGaussAdd(np.array([abstandErr,abstandErr]),np.array([1,1]))\n",
    "\n",
    "\n",
    "md(f\"Brennweite mit Fehler: ${brennweite:.1f} \\pm {brennweiteErr:.1f}$ [mm]\")"
   ]
  },
  {
   "cell_type": "markdown",
   "metadata": {},
   "source": [
    "### Einlesung der Daten\n",
    "Es wurde nicht der gesamte aufgenommene Datenbereich für die Auswertung genommen, da die Werte für hohe Spannungen einer klar anderen Funktion folgen, als für niedrige, was auch einem visuellen Knick klar ersichtlich ist."
   ]
  },
  {
   "cell_type": "code",
   "execution_count": 10,
   "metadata": {
    "code_folding": []
   },
   "outputs": [],
   "source": [
    "# Einlesen der Daten\n",
    "messung1HTS = pd.read_csv('Messung_1_HTS.csv')\n",
    "\n",
    "zeitMessung1HTS = messung1HTS['Zeit t / s'].to_numpy()\n",
    "spannungUA1Messung1HTS = messung1HTS['Spannung U_A1 / V'].to_numpy()\n",
    "spannungUB1Messung1HTS = messung1HTS['Spannung U_B1 / V'].to_numpy()\n",
    "\n",
    "\n",
    "messungWarmKaltHTS = pd.read_csv('Messung_warmkalt_HTS.csv')\n",
    "\n",
    "zeitMessungWarmKaltHTS = messungWarmKaltHTS['Zeit t / s'].to_numpy()\n",
    "spannungUA1MessungWarmKaltHTS = messungWarmKaltHTS['Spannung U_A1 / V'].to_numpy()\n",
    "spannungUB1MessungWarmKaltHTS = messungWarmKaltHTS['Spannung U_B1 / V'].to_numpy()\n",
    "\n",
    "\n",
    "messungKaltWarmHTS = pd.read_csv('Messung_kaltwarm_HTS.csv')\n",
    "\n",
    "zeitMessungKaltWarmHTS = messungKaltWarmHTS['Zeit t / s'].to_numpy()\n",
    "spannungUA1MessungKaltWarmHTS = messungKaltWarmHTS['Spannung U_A1 / V'].to_numpy()\n",
    "spannungUB1MessungKaltWarmHTS = messungKaltWarmHTS['Spannung U_B1 / V'].to_numpy()\n",
    "\n",
    "\n",
    "goofyAhMessung = pd.read_csv('goofy ah messung.csv')\n",
    "\n",
    "zeitgoofyAhMessung = goofyAhMessung['Zeit t / s'].to_numpy()\n",
    "spannungUA1goofyAhMessung = goofyAhMessung['Spannung U_A1 / V'].to_numpy()\n",
    "spannungUB1goofyAhMessung = goofyAhMessung['Spannung U_B1 / V'].to_numpy()\n",
    "\n",
    "\n",
    "goofyAhMessung2 = pd.read_csv('goofy ah messung 2.csv')\n",
    "\n",
    "zeitgoofyAhMessung2 = goofyAhMessung2['Zeit t / s'].to_numpy()\n",
    "spannungUA1goofyAhMessung2 = goofyAhMessung2['Spannung U_A1 / V'].to_numpy()\n",
    "spannungUB1goofyAhMessung2 = goofyAhMessung2['Spannung U_B1 / V'].to_numpy()\n",
    "\n",
    "\n",
    "semiGoofyAhMessung = pd.read_csv('goofy ah messung.csv')\n",
    "\n",
    "zeitsemiGoofyAhMessung = semiGoofyAhMessung['Zeit t / s'].to_numpy()\n",
    "spannungUA1semiGoofyAhMessung = semiGoofyAhMessung['Spannung U_A1 / V'].to_numpy()\n",
    "spannungUB1semiGoofyAhMessung = semiGoofyAhMessung['Spannung U_B1 / V'].to_numpy()\n",
    "\n",
    "\n",
    "semiGoofyAhMessung2 = pd.read_csv('goofy ah messung 2.csv')\n",
    "\n",
    "zeitsemiGoofyAhMessung2 = semiGoofyAhMessung2['Zeit t / s'].to_numpy()\n",
    "spannungUA1semiGoofyAhMessung2 = semiGoofyAhMessung2['Spannung U_A1 / V'].to_numpy()\n",
    "spannungUB1semiGoofyAhMessung2 = semiGoofyAhMessung2['Spannung U_B1 / V'].to_numpy()\n",
    "\n",
    "\n",
    "quarterGoofyAhMessung = pd.read_csv('goofy ah messung 2.csv')\n",
    "\n",
    "zeitquarterGoofyAhMessung2 = quarterGoofyAhMessung['Zeit t / s'].to_numpy()\n",
    "spannungUA1quarterGoofyAhMessung2 = quarterGoofyAhMessung['Spannung U_A1 / V'].to_numpy()\n",
    "spannungUB1quarterGoofyAhMessung2 = quarterGoofyAhMessung['Spannung U_B1 / V'].to_numpy()"
   ]
  },
  {
   "cell_type": "code",
   "execution_count": null,
   "metadata": {},
   "outputs": [],
   "source": []
  },
  {
   "cell_type": "markdown",
   "metadata": {},
   "source": [
    "### Fit berechnen"
   ]
  },
  {
   "cell_type": "code",
   "execution_count": 6,
   "metadata": {
    "code_folding": [
     0
    ],
    "scrolled": false
   },
   "outputs": [],
   "source": [
    "frequenzBereich = np.arange(0, 60001, 1)\n",
    "\n",
    "# Cosinusfunktion \n",
    "def myCos(x, f, p):\n",
    "    return 3359420*np.cos(f*x+p) + 3359420\n",
    "\n",
    "# Fitfunktion\n",
    "def fitCos(p0, x, y):\n",
    "    fit = curve_fit(myCos, x, y, p0=p0, maxfev = 10000000)\n",
    "    data_fit = myCos(frequenzBereich, *fit[0])\n",
    "    minPoint = np.array([data_fit.argmin(), min(data_fit)]) \n",
    "    return data_fit, minPoint, fit \n",
    "\n",
    "# Anfangswerte für den fit (geraten)\n",
    "freqGuess = 1/(340000*pc.pi)\n",
    "phaseGuess = pi/1.0035\n",
    "p0 = np.array([freqGuess, phaseGuess] )\n",
    "\n",
    "# Berechnen der gefitteten Werte\n",
    "fitWerte, minPoint, fit = fitCos(p0,frequenzen,spannungen)\n",
    "\n",
    "fitErr = np.sqrt(np.diag(fit[0]))\n",
    "\n",
    "minPointErr = minPoint[0]*fitErr[0][0]+fitErr[1][1]\n",
    "\n",
    "lichtgeschwindigkeit, lichtgeschwindigkeitErr = MultiplikationMitFehler(minPoint[0], minPointErr, LichtLaufstrecke1, LichtLaufstrecke1Err)"
   ]
  },
  {
   "cell_type": "markdown",
   "metadata": {},
   "source": [
    "### Anzeigen der Daten"
   ]
  },
  {
   "cell_type": "code",
   "execution_count": 7,
   "metadata": {},
   "outputs": [
    {
     "data": {
      "image/png": "[encoded data removed]",
      "text/plain": [
       "<Figure size 1152x576 with 1 Axes>"
      ]
     },
     "metadata": {
      "needs_background": "light"
     },
     "output_type": "display_data"
    },
    {
     "data": {
      "text/markdown": [
       "Minimalpunkt liegt bei: $24935 \\pm 15$ [Hz]\n",
       "  \n",
       "   Dies entspricht einer Lichtgeschwindigkeit von: $27.9 \\pm 0.5$ [km/s]"
      ],
      "text/plain": [
       "<IPython.core.display.Markdown object>"
      ]
     },
     "execution_count": 7,
     "metadata": {},
     "output_type": "execute_result"
    }
   ],
   "source": [
    "# Plotgröße anpassen\n",
    "plt.figure(figsize=(16, 8))    \n",
    "\n",
    "# Gemessene Spannungswerte auftragen\n",
    "plt.errorbar(frequenzen, spannungen, xerr=frequenzenErr, yerr=spannungenErr, \n",
    "             fmt='.', color='red', label='Datenpunkte', marker=None)\n",
    "\n",
    "# Gemessene Spannungswerte auftragen\n",
    "plt.errorbar(frequenzen, spannungen, xerr=frequenzenErr, yerr=spannungenErr, \n",
    "             fmt='.', color='red', label='Datenpunkte', marker=None)\n",
    "\n",
    "# Angepasste Cosinusfunktion aufzeichnen\n",
    "plt.plot(frequenzBereich, fitWerte, color='crimson', label='Fit Cos',marker=None)\n",
    "\n",
    "# labels und legend\n",
    "plt.xlabel(r'Frequenz [Hz]')\n",
    "plt.ylabel(r'Spannung [mV]')\n",
    "plt.legend()\n",
    "\n",
    "# Plot anzeigen lassen\n",
    "plt.grid(True)\n",
    "plt.title('Spannung gegen die Frequenz aufgetragen')\n",
    "plt.show()\n",
    "\n",
    "# Ausgabe des Hz-Werts für den Minimalpunkt\n",
    "md(f\"\"\"Minimalpunkt liegt bei: ${minPoint[0]:.0f} \\pm {minPointErr:.0f}$ [Hz]\\n  \n",
    "   Dies entspricht einer Lichtgeschwindigkeit von: ${lichtgeschwindigkeit/1000:.1f} \\pm {lichtgeschwindigkeitErr/1000:.1f}$ [km/s]\"\"\")"
   ]
  },
  {
   "cell_type": "markdown",
   "metadata": {},
   "source": [
    "### Dateneingabe der zweiten Messreihe Chopper"
   ]
  },
  {
   "cell_type": "code",
   "execution_count": 8,
   "metadata": {},
   "outputs": [],
   "source": [
    "# Gemessene Spannungen\n",
    "\n",
    "# Vollständige Messung\n",
    "# spannungen2 = np.array([600, 395, 285, 224, 184, 161, 143, 129, 116, 108, 95, 72, 66, 62, 58, 55, 52, 49, 47, 45])  # mV\n",
    "\n",
    "# Ausgewählter Bereich\n",
    "spannungen2 = np.array([72, 66, 62, 58, 55, 52, 49, 47, 45])  # mV\n",
    "\n",
    "# Fehler der Spannungen (durch Variation am Oszilloskop geschätzt)\n",
    "\n",
    "# Vollständige Messung\n",
    "#spannungen2Err = np.array([5,4,4, 4, 4, 4, 4, 4, 4, 4, 1, 1, 1, 1, 1, 1, 1, 1, 1])  # mV\n",
    "\n",
    "# Im ausgewählten Bereich\n",
    "spannungen2Err = 1 # mV\n",
    "\n",
    "# Dazugehörige Frequenzen\n",
    "frequenzen2 = np.arange(12, 21, 1)*1e3   # Hz\n",
    "\n",
    "# Fehler der Frequenzen\n",
    "frequenzen2Err = 20 # Hz"
   ]
  },
  {
   "cell_type": "markdown",
   "metadata": {},
   "source": [
    "### Fit berechnen"
   ]
  },
  {
   "cell_type": "code",
   "execution_count": 9,
   "metadata": {},
   "outputs": [],
   "source": [
    "# Frequenzbereich festlegen\n",
    "frequenzBereich2 = np.arange(0, 60001, 1)\n",
    "\n",
    "# Cosinusfunktion \n",
    "def myCos(x, f, p):\n",
    "    return 3359420*np.cos(f*x+p) + 3359420\n",
    "\n",
    "\n",
    "# Fitfunktion\n",
    "def fitCos(p0, x, y):\n",
    "    fit = curve_fit(myCos, x, y, p0=p0, maxfev = 10000000)\n",
    "    data_fit = myCos(frequenzBereich, *fit[0])\n",
    "    minPoint = np.array([data_fit.argmin(), min(data_fit)]) \n",
    "    return data_fit, minPoint, fit\n",
    "\n",
    "# Anfangswerte für den fit (geraten)\n",
    "freqGuess = 2e-07\n",
    "ampGuess = 3000000\n",
    "phaseGuess = 3.1325\n",
    "offsetGuess = 3000050\n",
    "p0 = np.array([freqGuess, phaseGuess])\n",
    "\n",
    "# Berechnen der gefitteten Werte\n",
    "fitWerte2, minPoint2, fit2 = fitCos(p0,frequenzen2,spannungen2)\n",
    "\n",
    "fitErr2 = np.sqrt(np.diag(fit2[0]))\n",
    "\n",
    "minPointErr2 = minPoint2[0]*fitErr2[0][0]+fitErr2[1][1]\n",
    "\n",
    "lichtgeschwindigkeit2, lichtgeschwindigkeitErr2 = MultiplikationMitFehler(minPoint2[0], minPointErr2, LichtLaufstrecke1, LichtLaufstrecke1Err)"
   ]
  },
  {
   "cell_type": "markdown",
   "metadata": {},
   "source": [
    "### Anzeigen der Daten"
   ]
  },
  {
   "cell_type": "code",
   "execution_count": 10,
   "metadata": {},
   "outputs": [
    {
     "data": {
      "image/png": "[encoded data removed]",
      "text/plain": [
       "<Figure size 1152x576 with 1 Axes>"
      ]
     },
     "metadata": {
      "needs_background": "light"
     },
     "output_type": "display_data"
    },
    {
     "data": {
      "text/markdown": [
       "Minimalpunkt liegt bei: $49766 \\pm 22$ [Hz]\n",
       "  \n",
       "   Dies entspricht einer Lichtgeschwindigkeit von: $55.7 \\pm 1.0$ [km/s]"
      ],
      "text/plain": [
       "<IPython.core.display.Markdown object>"
      ]
     },
     "execution_count": 10,
     "metadata": {},
     "output_type": "execute_result"
    }
   ],
   "source": [
    "# Plotgröße anpassen\n",
    "plt.figure(figsize=(16, 8))  \n",
    "\n",
    "# Gemessene Spannungswerte auftragen\n",
    "plt.errorbar(frequenzen2, spannungen2, xerr=frequenzen2Err, yerr=spannungen2Err, \n",
    "             fmt='.', color='red', label='Datenpunkte', marker=None)\n",
    "\n",
    "# Angepasste Cosinusfunktion aufzeichnen\n",
    "plt.plot(frequenzBereich2, fitWerte2, color='crimson', label='Fit Cos',marker=None)\n",
    "\n",
    "# Minimalpunkt\n",
    "plt.errorbar(minPoint2[0], minPoint2[1], color='darkblue', label='Minimalpunkt', fmt='x')\n",
    "\n",
    "# labels und legend\n",
    "plt.xlabel(r'Frequenz [Hz]')\n",
    "plt.ylabel(r'Spannung [mV]')\n",
    "plt.legend()\n",
    "\n",
    "# Plot anzeigen lassen\n",
    "plt.grid(True)\n",
    "plt.title('Spannung gegen die Frequenz aufgetragen')\n",
    "plt.show()\n",
    "\n",
    "# Ausgabe des Hz-Werts für den Minimalpunkt\n",
    "md(f\"\"\"Minimalpunkt liegt bei: ${minPoint2[0]:.0f} \\pm {minPointErr2:.0f}$ [Hz]\\n  \n",
    "   Dies entspricht einer Lichtgeschwindigkeit von: ${lichtgeschwindigkeit2/1000:.1f} \\pm {lichtgeschwindigkeitErr2/1000:.1f}$ [km/s]\"\"\")"
   ]
  },
  {
   "cell_type": "markdown",
   "metadata": {},
   "source": [
    "## 2. Methode Funktionsgenerator\n",
    "Die gesamte Strecke, welche das Licht zurücklegt wird entsprechend der Skizze mit der Formel\n",
    "\n",
    "$$L = A + B + C + \\sqrt{F^2+C^2}$$\n",
    "\n",
    "bestimmt. Für den Fehler haben wir auf jede Messung einen Wert von $\\Delta = 0.002$m geschätzt, bei diesem Werthandeölt es sich um einen statistischen Fehler, da er sich nicht nach der Skalenauflösung des Messinstruments richtet (das Messinstrument war ein Bandmaß mit einer Skalenauflösung von 1mm), sondern nach der Ungenauigkeit der vermessenden Person. Mittels der Gaußschen Fehlerfortpflanzung ergibt sich aus diesem Fehler dann ein Fehler für die gesamte Länge von \n",
    "\n",
    "$$\\Delta L=\\sqrt{0.006\\text{m}+0.002\\text{m}(F^{2}+C^{2})^{-\\frac{1}{2}}(F+C)}$$\n",
    "\n",
    "Der Fehler auf den Delay wurde mit $\\Delta Delay = 0.2$ns geschätzt."
   ]
  },
  {
   "cell_type": "code",
   "execution_count": 11,
   "metadata": {},
   "outputs": [],
   "source": [
    "# Funktion zum Berechnen der Lichtlaufstrecke\n",
    "def bestimmungLichtLaufstrecke(C):\n",
    "    return np.sqrt(F**2+C**2) + A + B + C\n",
    "\n",
    "# Funktion zum Berechnen des Fehlers auf die Lichtlaufstrecke mittels Gaußscher Fehlerfortpflanzung\n",
    "def bestimmungLichtLaufstreckeErr(C): \n",
    "    return np.sqrt(0.006+0.002*(F**2+C**2)**(-1/2)*(F+C))\n",
    "\n",
    "# Längen des Aufbaus:\n",
    "A,B,F = 0.763, 0.750, 0.065                                 # m\n",
    "MessungenC = np.array([0.74,0.64,0.54,0.44,0.34,0.24,0.14]) # m\n",
    "StreckenmessungErr = 0.002                                  # m\n",
    "\n",
    "# Gemessene Delays mit Average, min und max, abgelesen vom Oszilloskop\n",
    "delayAverage = np.array([10.2,9.9,9.7,9.4,9,8.3,7.6]) * 10**-9 # s\n",
    "delayMin = np.array([9.6,9.6,9.3,9.3,8.8,7.2,7.0]) * 10**-9    # s\n",
    "delayMax = np.array([10.6,10.2,9.9,9.9,9.6,10.9,9.4]) * 10**-9 # s\n",
    "delayErr = 0.2 * 10**-9                                        # s\n",
    "\n",
    "# Berechnen Gesamt Länge und Fehler\n",
    "LichtLaufstrecke2 = bestimmungLichtLaufstrecke(MessungenC)\n",
    "LichtLaufstrecke2Err = bestimmungLichtLaufstreckeErr(MessungenC)"
   ]
  },
  {
   "cell_type": "markdown",
   "metadata": {},
   "source": [
    "### Lineare Regression berechnen"
   ]
  },
  {
   "cell_type": "code",
   "execution_count": 29,
   "metadata": {},
   "outputs": [],
   "source": [
    "# Lineare Regression bestimmen\n",
    "bTeil2 = bestB(delayAverage,LichtLaufstrecke2)\n",
    "mTeil2 = bestM(delayAverage,LichtLaufstrecke2)\n",
    "\n",
    "# Fehler der Linearen Regression bestimmen\n",
    "bTeil2Err = stuB(delayAverage,LichtLaufstrecke2)\n",
    "mTeil2Err = stuM(delayAverage,LichtLaufstrecke2)\n",
    "\n",
    "zeichenBereichTeil2 = np.linspace(1.65, 3.1, 100)"
   ]
  },
  {
   "cell_type": "markdown",
   "metadata": {},
   "source": [
    "### Plotten der Daten und Lineare Regression"
   ]
  },
  {
   "cell_type": "code",
   "execution_count": 30,
   "metadata": {},
   "outputs": [
    {
     "data": {
      "image/png": "[encoded data removed]",
      "text/plain": [
       "<Figure size 1152x576 with 1 Axes>"
      ]
     },
     "metadata": {
      "needs_background": "light"
     },
     "output_type": "display_data"
    },
    {
     "data": {
      "text/markdown": [
       "Für den Fit ergeben sich die Werte \n",
       "\n",
       "$b = 4.1e-09 \\pm 6e-10$ s \n",
       "\n",
       "$m = 2.1e-09 \\pm 2e-10$ s/m\n",
       "\n",
       "Die gemessene Lichtgeschwindigkeit ergibt sich also aus dem Inversen der Steigung der Geraden: \n",
       "\n",
       "$c_{gemessen} = 4.8e+08 \\pm 5e+07$ m/s"
      ],
      "text/plain": [
       "<IPython.core.display.Markdown object>"
      ]
     },
     "execution_count": 30,
     "metadata": {},
     "output_type": "execute_result"
    }
   ],
   "source": [
    "# Plotten der Daten und Lineare Regression\n",
    "bTeil2 = bestB(LichtLaufstrecke2,delayAverage)\n",
    "mTeil2 = bestM(LichtLaufstrecke2,delayAverage)\n",
    "\n",
    "#Fehler der Linearen Regression bestimmen\n",
    "bTeil2Err = stuB(LichtLaufstrecke2,delayAverage)\n",
    "mTeil2Err = stuM(LichtLaufstrecke2,delayAverage)\n",
    "\n",
    "#gemessene lichtgeschwindigkeit\n",
    "LichtgeschwindigkeitGemessen2 = DivisionMitFehler(1, 0,mTeil2, mTeil2Err)[0]\n",
    "LichtgeschwindigkeitGemessen2Err = DivisionMitFehler(1, 0,mTeil2, mTeil2Err)[1]\n",
    "\n",
    "# Plotgröße anpassen\n",
    "plt.figure(figsize=(16, 8))    \n",
    "\n",
    "# Zeichnen der Datenpunkte in schwarz\n",
    "plt.errorbar(LichtLaufstrecke2, delayAverage, xerr=LichtLaufstrecke2Err,\n",
    "             yerr=delayErr, fmt='o',capsize=5, label='Data with Error Bars', color='black')\n",
    "\n",
    "# Zeichnen der linearen Ausgleichsgerade in rot\n",
    "plt.plot(zeichenBereichTeil2, mTeil2 * zeichenBereichTeil2 + bTeil2, color='red', label='Regression Line')\n",
    "\n",
    "#b pm und m pm in die Legende einfügen\n",
    "plt.errorbar(2.6,0.9*10**-8,markersize='0',label = \"b=4.1e−09±6e−10 m\", color=\"white\")\n",
    "plt.errorbar(2.6,0.9*10**-8,markersize='0',label = \"2.1e−09±2e−10 s/m \", color=\"white\")\n",
    "\n",
    "\n",
    "# Achsenbeschriftungen\n",
    "plt.ylabel(r'Delay des Signals [s]')\n",
    "plt.xlabel(r'Laufstrecke des Lichts [m]')\n",
    "plt.title(\"Licht-Laufstrecken Aufgetragen gegen gemessene Delays\")\n",
    "\n",
    "plt.legend()\n",
    "plt.show()\n",
    "\n",
    "\n",
    "# Ausgabe des Hz-Werts für den Minimalpunkt\n",
    "md(f\"\"\"Für den Fit ergeben sich die Werte \\n\n",
    "$b = {bTeil2:.1e} \\pm {bTeil2Err:.0e}$ s \\n\n",
    "$m = {mTeil2:.1e} \\pm {mTeil2Err:.0e}$ s/m\\n\n",
    "Die gemessene Lichtgeschwindigkeit ergibt sich also aus dem Inversen der Steigung der Geraden: \\n\n",
    "$c_{{gemessen}} = {LichtgeschwindigkeitGemessen2:.1e} \\pm {LichtgeschwindigkeitGemessen2Err:.0e}$ m/s\"\"\")"
   ]
  },
  {
   "cell_type": "markdown",
   "metadata": {},
   "source": [
    "## 3. Pulslaser\n",
    "Statt des einfachen Laserpointers wurde nun der Pulslaser angeschlossen, welcher mittels des Funktionsgenerator gesteuert wurde. \n",
    "Diesmal wurde nur der abstand D variiert. Es ergibt sich also für die Lichtlauflänge\n",
    "\n",
    "$$L=A+B+C+D$$\n",
    "\n",
    "Für den fehler ergibt sich \n",
    "\n",
    "$$\\Delta L = \\sqrt{4\\cdot0.002\\text{m}}=0.004\\text{m}$$"
   ]
  },
  {
   "cell_type": "markdown",
   "metadata": {},
   "source": [
    "### Daten eingeben"
   ]
  },
  {
   "cell_type": "code",
   "execution_count": 31,
   "metadata": {},
   "outputs": [],
   "source": [
    "# Lichtlaufstrecke\n",
    "A, B, C = 0.565, 0.782, 0.815\n",
    "MessungenD = np.array([60,50,40,30,20,10])*0.01\n",
    "fehlerStreckenmessung = 0.002\n",
    "\n",
    "LichtLaufstrecke3 = MessungenD + A + B + C\n",
    "LichtLaufstrecke3Err = np.sqrt(4*0.002)\n",
    "\n",
    "# gemessene Delays mit Fehler\n",
    "MessungDelay3 = np.array([12,11,10,9,7.6,5]) * 10**-9\n",
    "MessungDelay3Err = np.array([1,1,1,1,0.5,2]) * 10**-9 "
   ]
  },
  {
   "cell_type": "markdown",
   "metadata": {},
   "source": [
    "### Fit berechnen"
   ]
  },
  {
   "cell_type": "code",
   "execution_count": 32,
   "metadata": {},
   "outputs": [],
   "source": [
    "# Bestimmung der Fitparameter\n",
    "bTeil3 = bestB(MessungDelay3,LichtLaufstrecke3)\n",
    "mTeil3 = bestM(MessungDelay3,LichtLaufstrecke3)\n",
    "\n",
    "# Bestimmung von Fehler auf Fit parameter\n",
    "bTeil3Err = stuB(MessungDelay3,LichtLaufstrecke3)\n",
    "mTeil3Err = stuM(MessungDelay3,LichtLaufstrecke3)\n",
    "\n",
    "# Definieren des Zeichenbereichs\n",
    "zeichenBereichTeil3 = np.linspace(2.1, 2.85, 100)"
   ]
  },
  {
   "cell_type": "markdown",
   "metadata": {},
   "source": [
    "### Daten Plotten mit Errorbars"
   ]
  },
  {
   "cell_type": "code",
   "execution_count": 33,
   "metadata": {},
   "outputs": [
    {
     "data": {
      "image/png": "[encoded data removed]",
      "text/plain": [
       "<Figure size 1152x576 with 1 Axes>"
      ]
     },
     "metadata": {
      "needs_background": "light"
     },
     "output_type": "display_data"
    },
    {
     "data": {
      "text/markdown": [
       "Für den Fit ergeben sich die Werte \n",
       "\n",
       "$b = -2.4e-08 \\pm 4e-09$ s \n",
       "\n",
       "$m = 1.3e-08 \\pm 1e-09$ s/m \n",
       "\n",
       "Die gemessene Lichtgeschwindigkeit ergibt sich also aus dem Inversen der Steigung der Geraden: \n",
       "\n",
       "$c_{gemessen} = 7.6e+07 \\pm 8e+06$ m/s"
      ],
      "text/plain": [
       "<IPython.core.display.Markdown object>"
      ]
     },
     "execution_count": 33,
     "metadata": {},
     "output_type": "execute_result"
    }
   ],
   "source": [
    "# Daten Plotten mit Errorbars\n",
    "\n",
    "#Bestimmung der Fitparameter\n",
    "bTeil3 = bestB(LichtLaufstrecke3,MessungDelay3)\n",
    "mTeil3 = bestM(LichtLaufstrecke3,MessungDelay3)\n",
    "\n",
    "#Bestimmung von Fehler auf Fit parameter\n",
    "bTeil3Err = stuB(LichtLaufstrecke3,MessungDelay3)\n",
    "mTeil3Err = stuM(LichtLaufstrecke3,MessungDelay3)\n",
    "\n",
    "#gemessene lichtgeschwindigkeit\n",
    "LichtgeschwindigkeitGemessen3 = DivisionMitFehler(1, 0,mTeil3, mTeil3Err)[0]\n",
    "LichtgeschwindigkeitGemessen3Err = DivisionMitFehler(1, 0,mTeil3, mTeil3Err)[1]\n",
    "\n",
    "# Plotgröße anpassen\n",
    "plt.figure(figsize=(16, 8))    \n",
    "\n",
    "# Datenpunkte einzeichnen\n",
    "plt.errorbar(LichtLaufstrecke3,MessungDelay3, xerr=LichtLaufstrecke3Err, yerr=MessungDelay3Err, capsize=5,\n",
    "             fmt='o', label='Data with Error Bars', color='black')\n",
    "\n",
    "# Ausgleichsgerade einzeichnen\n",
    "plt.plot(zeichenBereichTeil3, mTeil3 * zeichenBereichTeil3 + bTeil3, color='red', label='Regression Line')\n",
    "\n",
    "#b pm und m pm in die Legende einfügen\n",
    "plt.errorbar(2.6,0.9*10**-8,markersize='0',label = \"b=−2.4e−08±4e−09s \", color=\"white\")\n",
    "plt.errorbar(2.6,0.9*10**-8,markersize='0',label = \"m=1.3e−08±1e−09 s/m\", color=\"white\")\n",
    "\n",
    "# Achsenbeschriftungen\n",
    "plt.ylabel(r'Delay des Signals s')\n",
    "plt.xlabel(r'Laufstrecke des Lichts m')\n",
    "plt.title(\"Licht-Laufstrecken Aufgetragen gegen gemessene Delays\")\n",
    "\n",
    "plt.legend()\n",
    "plt.show()\n",
    "\n",
    "# Ausgabe des Hz-Werts für den Minimalpunkt\n",
    "md(f\"\"\"Für den Fit ergeben sich die Werte \\n\n",
    "$b = {bTeil3:.1e} \\pm {bTeil3Err:.0e}$ s \\n\n",
    "$m = {mTeil3:.1e} \\pm {mTeil3Err:.0e}$ s/m \\n\n",
    "Die gemessene Lichtgeschwindigkeit ergibt sich also aus dem Inversen der Steigung der Geraden: \\n\n",
    "$c_{{gemessen}} = {LichtgeschwindigkeitGemessen3:.1e} \\pm {LichtgeschwindigkeitGemessen3Err:.0e}$ m/s\"\"\")"
   ]
  },
  {
   "cell_type": "markdown",
   "metadata": {},
   "source": [
    "### Berechnung t-Werte"
   ]
  },
  {
   "cell_type": "code",
   "execution_count": 17,
   "metadata": {},
   "outputs": [
    {
     "name": "stdout",
     "output_type": "stream",
     "text": [
      "706671.2805280527\n"
     ]
    }
   ],
   "source": [
    "t1 = abs((lichtgeschwindigkeit-pc.c)/lichtgeschwindigkeitErr)\n",
    "tMin = abs(lichtgeschwindigkeitMin-pc.c)/lichtgeschwindigkeitMinErr\n",
    "t2 = abs((lichtgeschwindigkeit2-pc.c)/lichtgeschwindigkeitErr2)\n",
    "t3 = abs((mTeil2-pc.c)/mTeil2Err)\n",
    "t4 = abs((mTeil3-pc.c)/mTeil3Err)\n",
    "\n",
    "print(tMin)"
   ]
  },
  {
   "cell_type": "markdown",
   "metadata": {},
   "source": [
    "# Diskussion\n",
    "Es wurde für die 1. Methode mit dem Optischer Chopper mithilfe zweier Messreihen die Lichtgeschwindigkeit berechnen: dabei ergaben sich die folgenden Werte:\n",
    "$$\n",
    " c_1 = 27.9\\pm 0.5 \\times 10^3 \\times 10^3 \\frac{\\text{m}}{\\text{s}} \\quad  \n",
    " c_2 = 55.7\\pm 1.0 \\times 10^3 \\frac{\\text{m}}{\\text{s}}\n",
    "$$\n",
    "Wenn wir dies mit dem Literaturwert der Lichtgeschwindigkeit $\\left(299 792 458 \\frac{\\text{m}}{\\text{s}}\\right)$ mithilfe eines t-Tests vergleichen erhalten wir t-Werte von:\n",
    "$$\n",
    " t_1 = 5.8\\times10^5 \\quad  \n",
    " t_2 = 2.9\\times10^5\n",
    "$$\n",
    "Diese Verträglichkeiten sind nicht im Bereich t<2, womit der ermittelte Wert und der Literaturwert nicht miteinander verträglich sind. Die Messwerte ergeben eine Lichtgeschwindigkeit, die nicht annähernd richtig ist. Als Untergrenze der Lichtgeschwindigkeit wurde folgender Wert ermittelt:\n",
    "$$\n",
    "    c_\\text{ug} = 22.5 \\pm 0.4 \\times 10^3 \\frac{\\text{m}}{\\text{s}}\n",
    "$$\n",
    "Für die 2. Messmethode mit dem Funktiongenerator (Durch Subtext 'fg' gekennzeichnet) erhielten wir als Lichtgeschwindigkeit un den dazugeörigen t-Wert:\n",
    "$$\n",
    "    c_\\text{fg} = 4.5 \\pm 0.5 \\times 10^8 \\frac{\\text{m}}{\\text{s}}\\quad \n",
    "    t_\\text{fg} = 3.0\n",
    "$$\n",
    "Für die 3. Messmethode mit dem Pulslaser (Durch Subtext 'pl' gekennzeichnet) und Funktiongenerator erhielten wir als Lichtgeschwindigkeit un den dazugeörigen t-Wert:\n",
    "$$\n",
    "    c_\\text{fg} = 7.2 \\pm 0.8 \\times 10^7 \\frac{\\text{m}}{\\text{s}}\\quad \n",
    "    t_\\text{pl} = 2.9 \\times 10^1\n",
    "$$\n",
    "Am zufriedenstellendsten ist dabei die 2. Messmethode, da sie am besten mit dem Literaturwert verträglich ist, gleichzeitig gilt es aber anzumerken, dass sie dennoch sehr stark abweicht und des Weiteren die Lichtgeschwindigkeit überschätzt und damit nach allen gängigen theoretischen Modellen unphysikalisch ist. Insgesamt kann festgehalten werden, dass die Lichtgeschwindigkeit mindestens"
   ]
  },
  {
   "cell_type": "markdown",
   "metadata": {},
   "source": [
    "# Verbesserte Messmethoden"
   ]
  },
  {
   "cell_type": "code",
   "execution_count": 18,
   "metadata": {},
   "outputs": [
    {
     "data": {
      "text/markdown": [
       "Bei Verwendung des gleichen Choppers müsste der Aufbau mindestens $ 1.5e+04 \\pm\n",
       " 7$ m lang sein.\n",
       "\n",
       " Bei Verwendung des Versuchaufbaus und der 200 Schlitz Platte müsste sich der Chopper mit einer Frequenz von \n",
       " $1.3e+06 \\pm 2e+04$ Hz drehen"
      ],
      "text/plain": [
       "<IPython.core.display.Markdown object>"
      ]
     },
     "execution_count": 18,
     "metadata": {},
     "output_type": "execute_result"
    }
   ],
   "source": [
    "# Schlitze pro Sekunde, abgelesen vom Chopper\n",
    "MaximaleFrequenz = 20090\n",
    "MaximaleFrequenzErr = 10\n",
    "\n",
    "# Kleinste mögliche Zeit pro Schlitz\n",
    "MinimaleZeit = DivisionMitFehler(1, 0, MaximaleFrequenz, MaximaleFrequenzErr)[0]\n",
    "MinimaleZeitErr = DivisionMitFehler(1, 0, MaximaleFrequenz, MaximaleFrequenzErr)[1]\n",
    "\n",
    "Lichtgeschwindigkeit = 299792458\n",
    "\n",
    "# Minimal nötige Strecke für komplettes verschwinden des Signals bei gleicher Maximaler Frequenz\n",
    "minDistanz = MultiplikationMitFehler(Lichtgeschwindigkeit, 0, MinimaleZeit, MinimaleZeitErr)[0]\n",
    "minDistanzErr = MultiplikationMitFehler(Lichtgeschwindigkeit, 0, MinimaleZeit, MinimaleZeitErr)[1]\n",
    "\n",
    "# Minimal nötige Frequenz für das verschwinden des Signals bei gleicher Strecke\n",
    "Distanz = LichtLaufstrecke1\n",
    "DistanzErr = LichtLaufstrecke1Err\n",
    "\n",
    "#benötigte Zeit pro Schlitz, bei der im Versuch verwendeten Strecke\n",
    "ZeitGleicheDistanz = DivisionMitFehler(Distanz, DistanzErr,Lichtgeschwindigkeit, 0)[0]\n",
    "ZeitGleicheDistanzErr = DivisionMitFehler(Distanz, DistanzErr, Lichtgeschwindigkeit, 0)[1]\n",
    "\n",
    "#Frequent, berechnet aus der benötigten Zeit pro Schlitz, bei der im Versuch verwendeten Strecke\n",
    "FrequenzGleicheDistanz = DivisionMitFehler(1, 0, ZeitGleicheDistanz, ZeitGleicheDistanzErr)[0]\n",
    "FrequenzGleicheDistanzErr = DivisionMitFehler(1, 0, ZeitGleicheDistanz, ZeitGleicheDistanzErr)[1]\n",
    "\n",
    "md(f\"\"\"Bei Verwendung des gleichen Choppers müsste der Aufbau mindestens $ {minDistanz:.1e} \\pm\n",
    " {minDistanzErr:.0f}$ m lang sein.\\n\n",
    " Bei Verwendung des Versuchaufbaus und der 200 Schlitz Platte müsste sich der Chopper mit einer Frequenz von \n",
    " ${FrequenzGleicheDistanz/200:.1e} \\pm {FrequenzGleicheDistanzErr/200:.0e}$ Hz drehen\"\"\")"
   ]
  },
  {
   "cell_type": "markdown",
   "metadata": {},
   "source": [
    "### Verbesserte Methoden\n",
    "Eine mögliche Verbesserung wäre es, das Licht über eine Längere Strecke laufen zu lassen. Oben berechnet wäre die nötige Distanz, damit das Licht verschwindet bei unserem Chopper etwa 15km was im Labor nicht umzusetzen ist. \n",
    "\n",
    "Lässt man dem Aufbau gleich, so müsste sich der Chopper in der Sekunde $1.3e6$ drehen, was für herkömliches Laborequipment nicht realistisch ist. \n",
    "\n",
    "Bei dem ersten Versuchsteil wurde die Photodiode verwendet. Diese hat zwar eine höhere Energieauflösung, dafür aber eine schlechtere Zeitauflösung, was zu einem schlechteren Ergebnis führte. \n",
    "Die gegebene Solarzelle hat zwar eine höhere Zeitauflösung, allerdings war bei dieser das Signal zu schwach, da der Verstärker gefehlt hat und sich somit die Werte nicht genug vom Untergrund Rauschen unterschieden haben. Mit einem funktionierenden Verstärker wäre es möglich gewesen, bessere Messwerte aufzunehmen.\n",
    "\n",
    "Bei dem zweiten und dritten Versuchsteil musste, um genaue Werte aufzunehmen, das Oszillospkop auf die kleinst möglichen Zeitschritte eingestellt werden. Dies machte die Messwerte ungenau, da es dadurch zu Schwankungen in den Werten kam. Durch"
   ]
  },
  {
   "cell_type": "markdown",
   "metadata": {},
   "source": [
    "# "
   ]
  }
 ],
 "metadata": {
  "kernelspec": {
   "display_name": "Python 3",
   "language": "python",
   "name": "python3"
  },
  "language_info": {
   "codemirror_mode": {
    "name": "ipython",
    "version": 3
   },
   "file_extension": ".py",
   "mimetype": "text/x-python",
   "name": "python",
   "nbconvert_exporter": "python",
   "pygments_lexer": "ipython3",
   "version": "3.8.5"
  }
 },
 "nbformat": 4,
 "nbformat_minor": 4
}
