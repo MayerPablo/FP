{
 "cells": [
  {
   "cell_type": "markdown",
   "metadata": {},
   "source": [
    "# Imports"
   ]
  },
  {
   "cell_type": "code",
   "execution_count": 1,
   "metadata": {},
   "outputs": [],
   "source": [
    "import numpy as np\n",
    "import sympy as sp\n",
    "from sympy import *\n",
    "import re\n",
    "\n",
    "import pandas as pd\n",
    "\n",
    "import matplotlib.pyplot as plt\n",
    "import matplotlib.colors as c\n",
    "from matplotlib.ticker import PercentFormatter\n",
    "from matplotlib import rcParams\n",
    "\n",
    "from math import log10, floor\n",
    "from math import *\n",
    "import math\n",
    "\n",
    "from IPython.display import display, Latex\n",
    "from IPython.display import Markdown as md\n",
    "\n",
    "import scipy.constants as pc\n",
    "from scipy.optimize import curve_fit\n",
    "from scipy.optimize import minimize\n",
    "from scipy import stats"
   ]
  },
  {
   "cell_type": "markdown",
   "metadata": {},
   "source": [
    "# Matplotlib Style changes"
   ]
  },
  {
   "cell_type": "code",
   "execution_count": 2,
   "metadata": {},
   "outputs": [],
   "source": [
    "rcParams['font.size'] = 15\n",
    "rcParams['font.weight'] = 'bold'\n",
    "rcParams['text.usetex'] = True\n",
    "rcParams['axes.grid'] = True\n",
    "rcParams['font.family'] = 'serif'\n",
    "rcParams['font.sans-serif'] = ['Latin Modern Math']\n",
    "rcParams['xtick.labelsize'] = 18\n",
    "rcParams['ytick.labelsize'] = 18\n",
    "rcParams[\"xtick.minor.size\"] =  4\n",
    "rcParams[\"ytick.minor.size\"] =  4\n",
    "rcParams[\"xtick.minor.visible\"] =  True\n",
    "rcParams[\"ytick.minor.visible\"] =  True"
   ]
  },
  {
   "cell_type": "markdown",
   "metadata": {},
   "source": [
    "# Statistical Selfcoded functions"
   ]
  },
  {
   "cell_type": "code",
   "execution_count": 3,
   "metadata": {
    "jupyter": {
     "source_hidden": true
    },
    "tags": []
   },
   "outputs": [],
   "source": [
    "def am(werte):\n",
    "    return np.mean(werte)\n",
    "\n",
    "def std(werte):\n",
    "    summen_der_quadrate = 0\n",
    "    for wert in werte:\n",
    "        summen_der_quadrate+=(wert-am(werte))**2       \n",
    "    return np.sqrt(summen_der_quadrate/(werte.size-1))\n",
    "\n",
    "def stu(werte):\n",
    "    return std(werte)/np.sqrt(werte.size)\n",
    "\n",
    "\n",
    "# easier formula for gaussian error propagation with addition\n",
    "def einfachGaussAdd(unsicherheiten, koeffizienten):\n",
    "    dz = 0\n",
    "    for i in range (unsicherheiten.size):\n",
    "        dz += (koeffizienten[i]*unsicherheiten[i])**2\n",
    "    return sqrt(dz)\n",
    "\n",
    "# easier formula for gaussian error propagation with multiplication\n",
    "def einfachGaussMult(unsicherheiten, werte, exponenten):\n",
    "    dz = 0\n",
    "    for i in range (unsicherheiten.size):\n",
    "        dz += (exponenten[i]*unsicherheiten[i]/werte[i])**2\n",
    "    return sqrt(dz)\n",
    "\n",
    "# Formlae for Gaußen Error propagation with result\n",
    "def DivisionMitFehler(A, deltaA, B, deltaB): # Für C=A/B\n",
    "    C = A/B\n",
    "    deltaC = abs(C) * math.sqrt((deltaA / A)**2 + (deltaB / B)**2)\n",
    "    return C,deltaC\n",
    "\n",
    "def MultiplikationMitFehler(A, deltaA, B, deltaB): #Für C=A*B\n",
    "    C = A * B\n",
    "    deltaC = abs(C) * ((deltaA / abs(A)) + (deltaB / abs(B)))\n",
    "    return C, deltaC\n",
    "\n",
    "# t-value for without literature value\n",
    "def vertraeglichkeit(am_1, am_2, stu_1, stu_2):\n",
    "    return (np.abs(am_1-am_2)/(sqrt((stu_1**2)+(stu_2**2))))\n",
    "\n",
    "# analytic linear regression y(x)=m*x + b calculates m\n",
    "def bestM(x, y):\n",
    "    return (x.size*sum(x*y)-sum(x)*sum(y))/(x.size*sum(x**2)-sum(x)**2)\n",
    "\n",
    "# analytic linear regression y(x)=m*x + b calculates b\n",
    "def bestB(x, y):\n",
    "    return (sum(x**2)*sum(y)-sum(x)*sum(x*y))/(x.size*sum(x**2)-sum(x)**2)\n",
    "\n",
    "# analytic linear regression calculates variance \n",
    "# (only used for next two functions, never gets called on its own, enhances readability) \n",
    "def streuung(x, y):\n",
    "    s = 0\n",
    "    for i in range(x.size):\n",
    "        s += (y[i]-(bestB(x, y)+bestM(x, y)*x[i]))**2\n",
    "    return np.sqrt(s/(x.size-2))\n",
    "\n",
    "# analytic linear regression y(x)=m*x + b calculates error on m\n",
    "def stuM(x, y):\n",
    "    s = streuung(x, y)\n",
    "    return s*np.sqrt(x.size/((x.size*sum(x**2)-sum(x)**2)))\n",
    "\n",
    "# analytic linear regression y(x)=m*x + b calculates error on b\n",
    "def stuB(x, y):\n",
    "    s = streuung(x, y)\n",
    "    return s*np.sqrt(sum(x**2)/((x.size*sum(x**2)-sum(x)**2)))\n"
   ]
  },
  {
   "cell_type": "markdown",
   "metadata": {},
   "source": [
    "# Ergebnisse des Versuchs Supraleiter"
   ]
  },
  {
   "cell_type": "markdown",
   "metadata": {},
   "source": [
    "Wichtige Anmerkungen zu den Codekonventionen:\n",
    "- Variablennamen nutzen CamelCase und kürzen ab z.B.: linsenAbstandGegenstand was dem Abstand der Linse von der Gegenstandseite entspricht\n",
    "- Fehler werden hierbei mit dem Suffix Err im CamelCase gekennzeichnet z.B.: abstandErr entspricht dem Fehler der Abstandsvariable \n",
    "- Einheiten stehen kommentiert nach den Einheiten z.B.: x = 3 # mm oder \"vMax = 2 # V\""
   ]
  },
  {
   "cell_type": "markdown",
   "metadata": {},
   "source": [
    "### Versuchsablauf \n",
    "Für den ersten Versuchsteil wurde ein sekbstgelöteter Messkopf verwendet, dieser Bestand aus einem Kupferdraht, einer Platine und einem Widerstandsthermometer. Es befanden sich außerdem Kabel an sechs stellen um die Spannung des Drahtes mit einer Vier-Punkt-Messung und die Spannung des Widerstands mit einer Zwei-Punkt-Messung zu messen. Der Messkopf wurde in den Flüssigen Stickstoff gelegt bis ein Temperaturplateau erreicht wurde und anschließend wurde der aufwärmprozess aufgenommen. Diese Messung diente auch der Kalibrierung / Eichung.\n",
    "\n",
    "Für den zweiten  Versuchsteil wurde der vorgefertigte Messkopf mit dem Supraleiter verwendet. Es wurden hier der Aufwärm- sowie der Abkühlvorgang aufgezeichnet. Für die Auswertung wurde der Aufwärmvorgang verwendet.\n",
    "\n",
    "Die Daten wurden in beiden Versuchsteilen mit der Software CassyLab aufgenommen und als .csv gesichert, diese Dateien werden im Folgenden eingelesen."
   ]
  },
  {
   "cell_type": "markdown",
   "metadata": {},
   "source": [
    "\n",
    "## 1. Versuchsteil: Messung mit dem Kupferdraht"
   ]
  },
  {
   "cell_type": "markdown",
   "metadata": {},
   "source": [
    "### Einlesung der Daten"
   ]
  },
  {
   "cell_type": "code",
   "execution_count": 4,
   "metadata": {
    "code_folding": []
   },
   "outputs": [],
   "source": [
    "# Einlesen der Daten\n",
    "messung1HTS = pd.read_csv('Messung_1_HTS.csv')\n",
    "\n",
    "zeitMessung1HTS = messung1HTS['Zeit t / s'].to_numpy()\n",
    "spannungUA1Messung1HTS = messung1HTS['Spannung U_A1 / V'].to_numpy()\n",
    "spannungUB1Messung1HTS = messung1HTS['Spannung U_B1 / V'].to_numpy()\n",
    "\n",
    "\n",
    "messung2HTS = pd.read_csv('Messung_2_HTS.csv')\n",
    "\n",
    "zeitMessung2HTS = messung2HTS['Zeit t / s'].to_numpy()\n",
    "spannungUA1Messung2HTS = messung2HTS['Spannung U_A1 / V'].to_numpy()\n",
    "spannungUB1Messung2HTS = messung2HTS['Spannung U_B1 / V'].to_numpy()\n",
    "\n",
    "\n",
    "messung3HTS = pd.read_csv('Messung_1_HTS.csv')\n",
    "\n",
    "zeitMessung3HTS = messung3HTS['Zeit t / s'].to_numpy()\n",
    "spannungUA1Messung3HTS = messung3HTS['Spannung U_A1 / V'].to_numpy()\n",
    "spannungUB1Messung3HTS = messung3HTS['Spannung U_B1 / V'].to_numpy()\n",
    "\n",
    "kupferMessung = pd.read_csv('Messung_5_Kupfer.csv')\n",
    "\n",
    "zeitKupferMessung = kupferMessung['Zeit t / s'].to_numpy()\n",
    "spannungUA1KupferMessung = kupferMessung['Spannung U_A1 / V'].to_numpy()\n",
    "spannungUB1KupferMessung = kupferMessung['Spannung U_B1 / V'].to_numpy()\n",
    "\n",
    "spannungErr = 0.1e-3 # V\n",
    "\n",
    "stromStärke = 140e-3      # A\n",
    "stromStärkeErr = 5e-3  # A"
   ]
  },
  {
   "cell_type": "markdown",
   "metadata": {},
   "source": [
    "### Aufzeichnen der Daten"
   ]
  },
  {
   "cell_type": "code",
   "execution_count": 5,
   "metadata": {},
   "outputs": [
    {
     "name": "stdout",
     "output_type": "stream",
     "text": [
      "361\n"
     ]
    },
    {
     "data": {
      "image/png": "[encoded data removed]",
      "text/plain": [
       "<Figure size 1152x576 with 1 Axes>"
      ]
     },
     "metadata": {
      "needs_background": "light"
     },
     "output_type": "display_data"
    },
    {
     "name": "stdout",
     "output_type": "stream",
     "text": [
      "-0.0098\n",
      "[0.0383214  0.03821057 0.03855263 ... 8.47765445 8.4599734  8.45256322]\n"
     ]
    }
   ],
   "source": [
    "\n",
    "\n",
    "\n",
    "# Plotgröße anpassen\n",
    "plt.figure(figsize=(16, 8))\n",
    "\n",
    "print(np.argmax(spannungUA1KupferMessung))\n",
    "\n",
    "# Gemessene Spannungswerte auftragen\n",
    "plt.plot(zeitKupferMessung, spannungUB1KupferMessung, label=\"Kupfermessung Spannung Schaltkreis\")\n",
    "plt.plot(zeitKupferMessung, spannungUA1KupferMessung, label=\"Kupfermessung Spannung Widerstandsthermometer\")\n",
    "\n",
    "# labels und legend\n",
    "plt.xlabel(r'Zeit [s]')\n",
    "plt.ylabel(r'Spannung [V]')\n",
    "plt.legend()\n",
    "\n",
    "# Plot anzeigen lassen\n",
    "plt.grid(True)\n",
    "plt.title('Spannung gegen die Zeit aufgetragen')\n",
    "plt.show()\n",
    "\n",
    "print(min(spannungUA1KupferMessung))\n",
    "\n",
    "print(spannungUB1KupferMessung[365:])"
   ]
  },
  {
   "cell_type": "markdown",
   "metadata": {},
   "source": [
    "### Fits berechnen"
   ]
  },
  {
   "cell_type": "code",
   "execution_count": 6,
   "metadata": {},
   "outputs": [
    {
     "name": "stdout",
     "output_type": "stream",
     "text": [
      "platueMean 0.19223382085843466 platueMeanErr 2.0616035797558438e-06\n"
     ]
    },
    {
     "data": {
      "text/plain": [
       "[<matplotlib.lines.Line2D at 0x233960db640>]"
      ]
     },
     "execution_count": 6,
     "metadata": {},
     "output_type": "execute_result"
    },
    {
     "data": {
      "image/png": "[encoded data removed]",
      "text/plain": [
       "<Figure size 432x288 with 1 Axes>"
      ]
     },
     "metadata": {
      "needs_background": "light"
     },
     "output_type": "display_data"
    }
   ],
   "source": [
    "#Spannung des Plateaus berechnen - entspricht Temperatur von flüssigem Stickstoff\n",
    "\n",
    "def timeToIndices(timeStart, timeEnd, timeArray):\n",
    "    # Index finden, welcher dem gewünschten Zeitwert Entspricht\n",
    "    startIndex = np.argmax(timeArray >= timeStart)\n",
    "    endIndex = np.argmax(timeArray >= timeEnd)\n",
    "    \n",
    "    return startIndex, endIndex\n",
    "\n",
    "\n",
    "def clearNaNs(xArray,yArray):\n",
    "    nanMask = np.isnan(yArray)\n",
    "    nanIndices = np.where(nanMask)\n",
    "    \n",
    "    xArrayClean = np.delete(xArray, nanIndices[0])\n",
    "    yArrayClean = np.delete(yArray, nanIndices[0])\n",
    "    \n",
    "    return xArrayClean, yArrayClean\n",
    "    \n",
    "\n",
    "startTimePlateu = 40.5\n",
    "endTimePlateu = 47\n",
    "\n",
    "startIndexPlateu, endIndexPlateu = timeToIndices(startTimePlateu, endTimePlateu, zeitKupferMessung)\n",
    "\n",
    "#Slicen der Arrays für den Fit\n",
    "xDataPlateuUnclean = zeitKupferMessung[startIndexPlateu:endIndexPlateu]\n",
    "yDataPlateuUnclean = spannungUA1KupferMessung[startIndexPlateu:endIndexPlateu]\n",
    "    \n",
    "#Entfernen von NaN Werten\n",
    "xDataPlateu = clearNaNs(xDataPlateuUnclean,yDataPlateuUnclean)[0]\n",
    "yDataPlateu = clearNaNs(xDataPlateuUnclean,yDataPlateuUnclean)[1]\n",
    "\n",
    "# Bestimmung Mittelwert Plateu\n",
    "platueMean = np.mean(yDataPlateu)\n",
    "platueMeanErr = np.std(yDataPlateu, ddof=1) / np.sqrt(len(yDataPlateu))\n",
    "\n",
    "#Ausgabe Spannung PLateu Mittelwer\n",
    "print(\"platueMean\",platueMean,\"platueMeanErr\",platueMeanErr)\n",
    "\n",
    "# PLateu Plotten \n",
    "plt.plot(xDataPlateu,yDataPlateu)"
   ]
  },
  {
   "cell_type": "code",
   "execution_count": 7,
   "metadata": {
    "code_folding": []
   },
   "outputs": [
    {
     "name": "stderr",
     "output_type": "stream",
     "text": [
      "<ipython-input-7-1ad765091b7d>:25: RuntimeWarning: invalid value encountered in sqrt\n",
      "  standardErrors = np.sqrt(np.diag(covariance))\n"
     ]
    },
    {
     "data": {
      "image/png": "[encoded data removed]",
      "text/plain": [
       "<Figure size 432x288 with 1 Axes>"
      ]
     },
     "metadata": {
      "needs_background": "light"
     },
     "output_type": "display_data"
    },
    {
     "name": "stdout",
     "output_type": "stream",
     "text": [
      "Fitted Parameters:\n",
      "d = -2e-04 ± 1e-04 Entspricht unserer Spannung bei Raumtemperatur\n"
     ]
    }
   ],
   "source": [
    "# Berechnen von Fits \n",
    "\n",
    "# Define the exponential function\n",
    "def exponentialFunc(x, a, b, c, d):\n",
    "    return a * np.exp(b * x + c) + d\n",
    "\n",
    "\n",
    "def fitExponential(xData,yData,startTime,endTime,initialGuesses):\n",
    "    \n",
    "    startIndex = timeToIndices(startTime, endTime, xData)[0]\n",
    "    endIndex = timeToIndices(startTime, endTime, xData)[1]\n",
    "    \n",
    "    # Slicen der Arrays für den Fit\n",
    "    xDataFitUnclean = xData[startIndex:endIndex]\n",
    "    yDataFitUnclean = yData[startIndex:endIndex]\n",
    "    \n",
    "    # Entfernen von NaN Werten\n",
    "    xDataFit = clearNaNs(xDataFitUnclean,yDataFitUnclean)[0]\n",
    "    yDataFit = clearNaNs(xDataFitUnclean,yDataFitUnclean)[1]\n",
    "    \n",
    "    # Curve Fit mittels scypy\n",
    "    params, covariance = curve_fit(exponentialFunc, xDataFit, yDataFit,\n",
    "                                   p0=initialGuesses,maxfev = 80000)\n",
    "    \n",
    "    standardErrors = np.sqrt(np.diag(covariance))\n",
    "    \n",
    "    # Parameter Extrahieren\n",
    "    aFit, bFit, cFit, dFit = params\n",
    "    \n",
    "    \n",
    "    xFit = np.linspace(min(xDataFit), max(xDataFit), 100)\n",
    "    yFit = exponentialFunc(xFit, aFit, bFit, cFit, dFit)\n",
    "    \n",
    "    fitReturn = aFit, bFit, cFit, dFit, standardErrors, xFit, yFit, xDataFit, yDataFit\n",
    "    \n",
    "    return fitReturn\n",
    "\n",
    "\n",
    "initialGuesses5 = np.array([0.00001,-0.01,10,0])\n",
    "fitKupfer5 = fitExponential(zeitKupferMessung, spannungUA1KupferMessung,60,250,initialGuesses5)\n",
    "\n",
    "\n",
    "\n",
    "\n",
    "# Initial Guess Plot\n",
    "# plt.plot(np.linspace(60,250,100),exponentialFunc(np.linspace(60,250,100),\n",
    "#                   initialGuesses5[0], initialGuesses5[1], initialGuesses5[2], initialGuesses5[3]))\n",
    "\n",
    "# Originale und Fittet Curve Plotten\n",
    "plt.errorbar(fitKupfer5[7], fitKupfer5[8], label=\"Measured Data (Cut)\")\n",
    "plt.plot(fitKupfer5[5], fitKupfer5[6], 'r-', label=\"Fitted Curve\")\n",
    "\n",
    "# Plot Labeln\n",
    "plt.xlabel(\"x\")\n",
    "plt.ylabel(\"y\")\n",
    "plt.legend()\n",
    "plt.grid(True)\n",
    "plt.show()\n",
    "\n",
    "# Print the fitted parameters\n",
    "print(\"Fitted Parameters:\")\n",
    "print(f\"d = {fitKupfer5[3]:.0e} ± {fitKupfer5[4][3]:.0e} Entspricht unserer Spannung bei Raumtemperatur\")"
   ]
  },
  {
   "cell_type": "code",
   "execution_count": 8,
   "metadata": {
    "code_folding": [],
    "scrolled": false
   },
   "outputs": [
    {
     "name": "stderr",
     "output_type": "stream",
     "text": [
      "<ipython-input-8-1ad765091b7d>:25: RuntimeWarning: invalid value encountered in sqrt\n",
      "  standardErrors = np.sqrt(np.diag(covariance))\n"
     ]
    },
    {
     "data": {
      "image/png": "[encoded data removed]",
      "text/plain": [
       "<Figure size 432x288 with 1 Axes>"
      ]
     },
     "metadata": {
      "needs_background": "light"
     },
     "output_type": "display_data"
    },
    {
     "name": "stdout",
     "output_type": "stream",
     "text": [
      "Fitted Parameters:\n",
      "d = -2e-04 ± 1e-04 Entspricht unserer Spannung bei Raumtemperatur\n"
     ]
    }
   ],
   "source": [
    "# Berechnen von Fits \n",
    "\n",
    "# Define the exponential function\n",
    "def exponentialFunc(x, a, b, c, d):\n",
    "    return a * np.exp(b * x + c) + d\n",
    "\n",
    "\n",
    "def fitExponential(xData,yData,startTime,endTime,initialGuesses):\n",
    "    \n",
    "    startIndex = timeToIndices(startTime, endTime, xData)[0]\n",
    "    endIndex = timeToIndices(startTime, endTime, xData)[1]\n",
    "    \n",
    "    # Slicen der Arrays für den Fit\n",
    "    xDataFitUnclean = xData[startIndex:endIndex]\n",
    "    yDataFitUnclean = yData[startIndex:endIndex]\n",
    "    \n",
    "    # Entfernen von NaN Werten\n",
    "    xDataFit = clearNaNs(xDataFitUnclean,yDataFitUnclean)[0]\n",
    "    yDataFit = clearNaNs(xDataFitUnclean,yDataFitUnclean)[1]\n",
    "    \n",
    "    # Curve Fit mittels scypy\n",
    "    params, covariance = curve_fit(exponentialFunc, xDataFit, yDataFit,\n",
    "                                   p0=initialGuesses,maxfev = 80000)\n",
    "    \n",
    "    standardErrors = np.sqrt(np.diag(covariance))\n",
    "    \n",
    "    # Parameter Extrahieren\n",
    "    aFit, bFit, cFit, dFit = params\n",
    "    \n",
    "    \n",
    "    xFit = np.linspace(min(xDataFit), max(xDataFit), 100)\n",
    "    yFit = exponentialFunc(xFit, aFit, bFit, cFit, dFit)\n",
    "    \n",
    "    fitReturn = aFit, bFit, cFit, dFit, standardErrors, xFit, yFit, xDataFit, yDataFit\n",
    "    \n",
    "    return fitReturn\n",
    "\n",
    "\n",
    "initialGuesses5 = np.array([0.00001,-0.01,10,0])\n",
    "fitKupfer5 = fitExponential(zeitKupferMessung, spannungUA1KupferMessung,60,250,initialGuesses5)\n",
    "\n",
    "\n",
    "\n",
    "\n",
    "# Initial Guess Plot\n",
    "# plt.plot(np.linspace(60,250,100),exponentialFunc(np.linspace(60,250,100),\n",
    "#                   initialGuesses5[0], initialGuesses5[1], initialGuesses5[2], initialGuesses5[3]))\n",
    "\n",
    "# Originale und Fittet Curve Plotten\n",
    "plt.errorbar(fitKupfer5[7], fitKupfer5[8], label=\"Measured Data (Cut)\")\n",
    "plt.plot(fitKupfer5[5], fitKupfer5[6], 'r-', label=\"Fitted Curve\")\n",
    "\n",
    "# Plot Labeln\n",
    "plt.xlabel(\"x\")\n",
    "plt.ylabel(\"y\")\n",
    "plt.legend()\n",
    "plt.grid(True)\n",
    "plt.show()\n",
    "\n",
    "# Print the fitted parameters\n",
    "print(\"Fitted Parameters:\")\n",
    "print(f\"d = {fitKupfer5[3]:.0e} ± {fitKupfer5[4][3]:.0e} Entspricht unserer Spannung bei Raumtemperatur\")"
   ]
  },
  {
   "cell_type": "markdown",
   "metadata": {},
   "source": [
    "### Umwandlung der Schaltkreisspannung in einen Widerstand"
   ]
  },
  {
   "cell_type": "code",
   "execution_count": 9,
   "metadata": {},
   "outputs": [],
   "source": [
    "widerstandMessungKupfer = np.array([])\n",
    "widerstandMessungKupferErr = np.array([])\n",
    "\n",
    "for el in spannungUB1KupferMessung:\n",
    "    widerstand, widerstandErr = DivisionMitFehler(el, spannungErr, stromStärke, stromStärkeErr)\n",
    "    widerstandMessungKupfer = np.append(widerstandMessungKupfer, widerstand)\n",
    "    widerstandMessungKupferErr = np.append(widerstandMessungKupferErr, widerstandErr)"
   ]
  },
  {
   "cell_type": "markdown",
   "metadata": {},
   "source": [
    "### Residualwiderstand berechnen"
   ]
  },
  {
   "cell_type": "code",
   "execution_count": 10,
   "metadata": {},
   "outputs": [
    {
     "data": {
      "text/markdown": [
       "Es ergibt ein Residualwiderstand von: $ 215.9 \\pm 0.4$m$\\Omega$"
      ],
      "text/plain": [
       "<IPython.core.display.Markdown object>"
      ]
     },
     "execution_count": 10,
     "metadata": {},
     "output_type": "execute_result"
    }
   ],
   "source": [
    "# Bereich des Plateaus auswählen\n",
    "plateauWerte = widerstandMessungKupfer[365:1550]\n",
    "    \n",
    "# Nan-Werte im Plateaubereich löschen\n",
    "plateauWerte = np.delete(plateauWerte, np.where(np.isnan(plateauWerte))[0])\n",
    "\n",
    "# Mittelwert und Fehler des Plateaus berechnen\n",
    "plateauMittelwert = am(plateauWerte)\n",
    "plateauMittelwertErr = stu(plateauWerte)\n",
    "\n",
    "md(f\"\"\"Es ergibt ein Residualwiderstand von: $ {plateauMittelwert*1000:0.1f} \\pm {plateauMittelwertErr*1000:0.1f}$m$\\Omega$\"\"\")\n"
   ]
  },
  {
   "cell_type": "code",
   "execution_count": 11,
   "metadata": {},
   "outputs": [],
   "source": [
    "# Umwandlung Spannung -> Temperatur für Kupfer\n",
    "spannungKalt = platueMean # V\n",
    "spannungWarm = fitKupfer5[3]   # V\n",
    "\n",
    "tempFlüssigerStickstoff = 77 # °K\n",
    "tempRaum = 293.15             # °K = 20 °C\n",
    "tempErr = 1\n",
    "\n",
    "m = bestM(np.array([spannungKalt, spannungWarm]),np.array([tempFlüssigerStickstoff, tempRaum])) # °K/V\n",
    "b = bestB(np.array([spannungKalt, spannungWarm]),np.array([tempFlüssigerStickstoff, tempRaum])) # °K\n",
    "\n",
    "temperaturMessungKupfer = spannungUA1KupferMessung*(m) + b\n",
    "temperaturMessungKupferErr = spannungErr/spannungUA1KupferMessung*(m) + (spannungErr/spannungUA1KupferMessung)*b"
   ]
  },
  {
   "cell_type": "code",
   "execution_count": 12,
   "metadata": {},
   "outputs": [
    {
     "name": "stderr",
     "output_type": "stream",
     "text": [
      "<ipython-input-12-fc083401072e>:13: RuntimeWarning: invalid value encountered in greater\n",
      "  tempKritKupfer = temperaturMessungKupferCut[np.argmax(widerstandMessungKupferCut > 0.2215215)]\n",
      "<ipython-input-12-fc083401072e>:14: RuntimeWarning: invalid value encountered in greater\n",
      "  tempKritKupferErr = abs(temperaturMessungKupferErrCut[np.argmax(widerstandMessungKupferCut > 0.2215215)])\n"
     ]
    },
    {
     "data": {
      "text/markdown": [
       "Der Wert der kritischen Temperatur für Kupfer beträgt: $255.3 \\pm 2.5$ [°K]"
      ],
      "text/plain": [
       "<IPython.core.display.Markdown object>"
      ]
     },
     "execution_count": 12,
     "metadata": {},
     "output_type": "execute_result"
    },
    {
     "data": {
      "text/plain": [
       "<Figure size 1152x576 with 0 Axes>"
      ]
     },
     "metadata": {},
     "output_type": "display_data"
    }
   ],
   "source": [
    "# Plotgröße anpassen\n",
    "plt.figure(figsize=(16, 8))\n",
    "\n",
    "widerstandMessungKupferCut = widerstandMessungKupfer[1200:2500]\n",
    "temperaturMessungKupferCut = temperaturMessungKupfer[1200:2500]\n",
    "temperaturMessungKupferErrCut = temperaturMessungKupferErr[1200:2500]\n",
    "\n",
    "widerstandMessungKupferErrCut = widerstandMessungKupferErr[1200:2500]\n",
    "temperaturMessungKupferErrCut = temperaturMessungKupferErr[1200:2500]\n",
    "\n",
    "\n",
    "\n",
    "tempKritKupfer = temperaturMessungKupferCut[np.argmax(widerstandMessungKupferCut > 0.2215215)]\n",
    "tempKritKupferErr = abs(temperaturMessungKupferErrCut[np.argmax(widerstandMessungKupferCut > 0.2215215)])\n",
    "\n",
    "# # Daten zeichnen\n",
    "# plt.errorbar(temperaturMessungKupferCut,widerstandMessungKupferCut,\n",
    "#              fmt='.', color='darkblue', label='Berechneter Widerstand von Kupfer')\n",
    "\n",
    "# xerr=temperaturMessungKupferErrCut,yerr=widerstandMessungKupferErrCut,\n",
    "\n",
    "# # Kritische Temperatur einzeichnen\n",
    "# plt.errorbar(tempKritHTS, widerstandMessung1HTS[114], xerr=tempKritHTSErr, yerr=widerstandMessung1HTSErr[114],\n",
    "#                                     fmt='x', color='crimson', label='Kritische Temperatur')\n",
    "\n",
    "\n",
    "# # labels und legend\n",
    "# plt.xlabel(r'Temperatur [°K]')\n",
    "# plt.ylabel(r'Widerstand [$\\Omega$]')\n",
    "# plt.legend()\n",
    "\n",
    "# # Plot anzeigen lassen\n",
    "# plt.grid(True)\n",
    "# plt.title('Spannung gegen die Zeit aufgetragen')\n",
    "# plt.show()\n",
    "\n",
    "md(f\"\"\"Der Wert der kritischen Temperatur für Kupfer beträgt: ${tempKritKupfer:.1f} \\pm {tempKritKupferErr:.1f}$ [°K]\"\"\")"
   ]
  },
  {
   "cell_type": "markdown",
   "metadata": {},
   "source": [
    "## 2. Versuchsteil: Messung des Supraleiters"
   ]
  },
  {
   "cell_type": "markdown",
   "metadata": {},
   "source": [
    "### Aufzeichnen der Ursprünglichen Messdaten"
   ]
  },
  {
   "cell_type": "code",
   "execution_count": 13,
   "metadata": {},
   "outputs": [
    {
     "data": {
      "image/png": "[encoded data removed]",
      "text/plain": [
       "<Figure size 1152x576 with 1 Axes>"
      ]
     },
     "metadata": {
      "needs_background": "light"
     },
     "output_type": "display_data"
    }
   ],
   "source": [
    "# Plotgröße anpassen\n",
    "plt.figure(figsize=(16, 8))\n",
    "\n",
    "# Gemessene Spannungswerte auftragen\n",
    "plt.errorbar(zeitMessung1HTS, spannungUA1Messung1HTS, xerr=0, yerr=0, \n",
    "             fmt='.', color='darkblue', label='Spannungen Widerstand')\n",
    "\n",
    "plt.errorbar(zeitMessung1HTS, spannungUB1Messung1HTS, xerr=0, yerr=0, \n",
    "             fmt='.', color='crimson', label='Spannungen Draht')\n",
    "\n",
    "# labels und legend\n",
    "plt.xlabel(r'Zeit [s]')\n",
    "plt.ylabel(r'Spannung [V]')\n",
    "plt.legend()\n",
    "\n",
    "# Plot anzeigen lassen\n",
    "plt.grid(True)\n",
    "plt.title('Spannung gegen die Zeit aufgetragen')\n",
    "plt.show()"
   ]
  },
  {
   "cell_type": "markdown",
   "metadata": {},
   "source": [
    "### Umwandlung der Spannung des Widerstandsthermometers in eine Temperatur"
   ]
  },
  {
   "cell_type": "code",
   "execution_count": 14,
   "metadata": {},
   "outputs": [],
   "source": [
    "# Umwandlung Spannung -> Temperatur für Supraleiter\n",
    "spannungKalt = 192.35e-3 # V\n",
    "spannungWarm = -9.8e-3   # V\n",
    "\n",
    "tempFlüssigerStickstoff = 77 # °K\n",
    "tempRaum = 293.15             # °K = 20 °C\n",
    "tempErr = 1\n",
    "\n",
    "m = bestM(np.array([spannungKalt, spannungWarm]),np.array([tempFlüssigerStickstoff, tempRaum])) # °K/V\n",
    "b = bestB(np.array([spannungKalt, spannungWarm]),np.array([tempFlüssigerStickstoff, tempRaum])) # °K\n",
    "\n",
    "temperaturMessung1HTS = spannungUA1Messung1HTS*(m) + b\n",
    "temperaturMessung1HTSErr = spannungErr/spannungUA1Messung1HTS*(m) + (spannungErr/spannungUA1Messung1HTS)*b"
   ]
  },
  {
   "cell_type": "markdown",
   "metadata": {},
   "source": [
    "### Umwandlung der Schaltkreisspannung in einen Widerstand"
   ]
  },
  {
   "cell_type": "code",
   "execution_count": 15,
   "metadata": {},
   "outputs": [
    {
     "name": "stderr",
     "output_type": "stream",
     "text": [
      "<ipython-input-3-8ab7db670773>:31: RuntimeWarning: divide by zero encountered in double_scalars\n",
      "  deltaC = abs(C) * math.sqrt((deltaA / A)**2 + (deltaB / B)**2)\n",
      "<ipython-input-3-8ab7db670773>:31: RuntimeWarning: invalid value encountered in double_scalars\n",
      "  deltaC = abs(C) * math.sqrt((deltaA / A)**2 + (deltaB / B)**2)\n"
     ]
    }
   ],
   "source": [
    "widerstandMessung1HTS = np.array([])\n",
    "widerstandMessung1HTSErr = np.array([])\n",
    "\n",
    "for el in spannungUB1Messung1HTS:\n",
    "    widerstand, widerstandErr = DivisionMitFehler(el, spannungErr,stromStärke,stromStärkeErr)\n",
    "    widerstandMessung1HTS = np.append(widerstandMessung1HTS, widerstand)\n",
    "    widerstandMessung1HTSErr = np.append(widerstandMessung1HTSErr, widerstandErr)\n",
    "\n",
    "tempKritHTS = temperaturMessung1HTS[114]\n",
    "tempKritHTSErr = abs(temperaturMessung1HTSErr[114])"
   ]
  },
  {
   "cell_type": "markdown",
   "metadata": {},
   "source": [
    "### Aufzeichnen der Daten"
   ]
  },
  {
   "cell_type": "code",
   "execution_count": 16,
   "metadata": {},
   "outputs": [
    {
     "data": {
      "image/png": "[encoded data removed]",
      "text/plain": [
       "<Figure size 1152x576 with 1 Axes>"
      ]
     },
     "metadata": {
      "needs_background": "light"
     },
     "output_type": "display_data"
    },
    {
     "data": {
      "text/markdown": [
       "Der Wert der kritischen Temperatur beträgt: $105.7 \\pm 0.5$ [°K]"
      ],
      "text/plain": [
       "<IPython.core.display.Markdown object>"
      ]
     },
     "execution_count": 16,
     "metadata": {},
     "output_type": "execute_result"
    }
   ],
   "source": [
    "# Plotgröße anpassen\n",
    "plt.figure(figsize=(16, 8))\n",
    "\n",
    "# Daten zeichnen\n",
    "plt.errorbar(temperaturMessung1HTS, widerstandMessung1HTS, xerr=temperaturMessung1HTSErr, yerr=widerstandMessung1HTSErr, \n",
    "             fmt='.', color='darkblue', label='Berechneter Widerstand des Supraleiters')\n",
    "\n",
    "# Kritische Temperatur einzeichnen\n",
    "plt.errorbar(tempKritHTS, widerstandMessung1HTS[114], xerr=tempKritHTSErr, yerr=widerstandMessung1HTSErr[114],\n",
    "                                    fmt='x', color='crimson', label='Kritische Temperatur')\n",
    "\n",
    "\n",
    "# labels und legend\n",
    "plt.xlabel(r'Temperatur [°K]')\n",
    "plt.ylabel(r'Widerstand [$\\Omega$]')\n",
    "plt.legend()\n",
    "\n",
    "# Plot anzeigen lassen\n",
    "plt.grid(True)\n",
    "plt.title('Spannung gegen die Zeit aufgetragen')\n",
    "plt.show()\n",
    "\n",
    "md(f\"\"\"Der Wert der kritischen Temperatur beträgt: ${tempKritHTS:.1f} \\pm {tempKritHTSErr:.1f}$ [°K]\"\"\")"
   ]
  },
  {
   "cell_type": "markdown",
   "metadata": {},
   "source": [
    "### Berechnung t-Werte"
   ]
  },
  {
   "cell_type": "code",
   "execution_count": 17,
   "metadata": {},
   "outputs": [
    {
     "name": "stdout",
     "output_type": "stream",
     "text": [
      "1.492833795985474\n"
     ]
    }
   ],
   "source": [
    "tHTS = vertraeglichkeit(tempKritHTS, 105, tempKritHTSErr, 0)\n",
    "\n",
    "print(tHTS)"
   ]
  },
  {
   "cell_type": "markdown",
   "metadata": {},
   "source": [
    "# Diskussion\n",
    "## Zusammenfassung der Ergebnisse\n",
    "Als kritische Temperatur des Kupferdrahtes $T_\\text{c, cu}$ ergab sich:\n",
    "$$\n",
    "\tT_\\text{c, cu} = 255 \\pm 3 \\text{ °K}\n",
    "$$\n",
    "Damit können unsere Messungen die Literaturwerte der kritischen Temperatur des Kupferdrahtes nicht bestätigen, diese liegt eher um die 20 °K. Dabei betrag der Residualwiderstand $R_\\text{res}$:\n",
    "$$\n",
    "\tR_\\text{res} = 215.9 \\pm 0.4 \\times 10^{-3}\\Omega\n",
    "$$\n",
    "Dies stimmt auch (nicht) mit der Literatur überein.\n",
    "Für die kritische Temperatur des Supraleiters und den dazugehörige t-Wert unter Vergleich mit einem Wert, der für diese Art von Leitern typisch ist (genaueres hierzu in der Präsentation), $t_\\text{su}$ wurden folgende Werte ermittelt:\n",
    "$$\n",
    "\tT_\\text{c, su} = 105.7 \\pm 0.5 \\text{ °K} \\quad  t_\\text{su} \\approx 1.5\n",
    "$$.\\\\\n"
   ]
  },
  {
   "cell_type": "markdown",
   "metadata": {},
   "source": [
    "# Verbesserte Messmethoden\n",
    "Das Thermometer könnte besser Kalibriert werden, durch hinzunahme weiterer bekannter Temperaturen für jene, etwa 0 C°, könnte die Genauigkeit der Eichung erhöht werden."
   ]
  }
 ],
 "metadata": {
  "kernelspec": {
   "display_name": "Python 3",
   "language": "python",
   "name": "python3"
  },
  "language_info": {
   "codemirror_mode": {
    "name": "ipython",
    "version": 3
   },
   "file_extension": ".py",
   "mimetype": "text/x-python",
   "name": "python",
   "nbconvert_exporter": "python",
   "pygments_lexer": "ipython3",
   "version": "3.8.3"
  }
 },
 "nbformat": 4,
 "nbformat_minor": 4
}
